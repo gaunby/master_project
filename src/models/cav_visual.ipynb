{
 "cells": [
  {
   "cell_type": "code",
   "execution_count": 1,
   "metadata": {},
   "outputs": [],
   "source": [
    "import numpy as np\n",
    "from datasets import load_from_disk\n",
    "import pandas as pd\n",
    "import pickle\n",
    "import random\n",
    "import sys\n",
    "sys.path.insert(0,'/zhome/94/5/127021/speciale/master_project')\n",
    "from src.models.tcav.TCAV import get_preds_tcavs\n",
    "\n",
    "random.seed(17)"
   ]
  },
  {
   "cell_type": "markdown",
   "metadata": {},
   "source": [
    "# Visualize CAVs\n",
    "Notebook for investing into TCAVs and CAVs.\n",
    "\n",
    "Can we figure out why the splits is either 0 or 1 for random, and all woman are at 0. "
   ]
  },
  {
   "cell_type": "code",
   "execution_count": 5,
   "metadata": {},
   "outputs": [],
   "source": [
    "PATH_TO_Data = '/work3/s174498/concept_random_dataset/'\n",
    "concept_name = 'woman'\n",
    "nr = 9\n",
    "num_random_set = 500 \n",
    "desired_class = 1"
   ]
  },
  {
   "cell_type": "markdown",
   "metadata": {},
   "source": [
    "### Concept CAVs"
   ]
  },
  {
   "cell_type": "code",
   "execution_count": 40,
   "metadata": {},
   "outputs": [
    {
     "name": "stdout",
     "output_type": "stream",
     "text": [
      "cavs concept are saved.\n",
      "number of concept cavs: 500\n"
     ]
    }
   ],
   "source": [
    "PATH_concept_cav = PATH_TO_Data+'cavs/concept/'+concept_name+'_linear_classifier_on_layer_' + str(nr)+'_with_'+str(num_random_set)+'random.pkl'\n",
    "print('cavs concept are saved.')\n",
    "with open(PATH_concept_cav,'rb') as handle:\n",
    "  data = pickle.load(handle)\n",
    "concept_cavs = data['cavs']\n",
    "acc = data['acc']\n",
    "print('number of concept cavs:',len(concept_cavs))"
   ]
  },
  {
   "cell_type": "code",
   "execution_count": 42,
   "metadata": {},
   "outputs": [
    {
     "data": {
      "text/plain": [
       "768"
      ]
     },
     "execution_count": 42,
     "metadata": {},
     "output_type": "execute_result"
    }
   ],
   "source": [
    "len(concept_cavs[-1])"
   ]
  },
  {
   "cell_type": "markdown",
   "metadata": {},
   "source": [
    "### Random CAVs"
   ]
  },
  {
   "cell_type": "code",
   "execution_count": 50,
   "metadata": {},
   "outputs": [],
   "source": [
    "PATH_random_cav = PATH_TO_Data+'cavs/random/linear_classifier_on_layer_' + str(0)+'_with_'+str(num_random_set)+'random.pkl'\n",
    "with open(PATH_random_cav,'rb') as handle:\n",
    "    data = pickle.load(handle)\n",
    "cav_random = data['cavs']\n",
    "acc_random = data['acc']"
   ]
  },
  {
   "cell_type": "code",
   "execution_count": 52,
   "metadata": {},
   "outputs": [
    {
     "data": {
      "text/plain": [
       "500"
      ]
     },
     "execution_count": 52,
     "metadata": {},
     "output_type": "execute_result"
    }
   ],
   "source": [
    "len(cav_random)"
   ]
  },
  {
   "cell_type": "code",
   "execution_count": 54,
   "metadata": {},
   "outputs": [
    {
     "data": {
      "text/plain": [
       "768"
      ]
     },
     "execution_count": 54,
     "metadata": {},
     "output_type": "execute_result"
    }
   ],
   "source": [
    "len(cav_random[-1])"
   ]
  },
  {
   "cell_type": "code",
   "execution_count": 43,
   "metadata": {},
   "outputs": [],
   "source": [
    "PATH_random_cav = PATH_TO_Data+'cavs/random/linear_classifier_on_layer_' + str(nr)+'_with_'+str(num_random_set)+'random.pkl'\n",
    "with open(PATH_random_cav,'rb') as handle:\n",
    "    data = pickle.load(handle)\n",
    "cav_random = data['cavs']\n",
    "acc_random = data['acc']"
   ]
  },
  {
   "cell_type": "markdown",
   "metadata": {},
   "source": [
    "### Grads "
   ]
  },
  {
   "cell_type": "code",
   "execution_count": 6,
   "metadata": {},
   "outputs": [],
   "source": [
    "PATH_grad = '/work3/s174498/sst2_dataset/grads_logits/'+'linear_class_'+str(desired_class)+'_layer_'+str(nr)+'.pkl'\n",
    "with open(PATH_grad,'rb') as handle:\n",
    "    data = pickle.load(handle)\n",
    "grads = data['grads']\n",
    "logits = data['logits']"
   ]
  },
  {
   "cell_type": "code",
   "execution_count": 9,
   "metadata": {},
   "outputs": [
    {
     "data": {
      "text/plain": [
       "(768,)"
      ]
     },
     "execution_count": 9,
     "metadata": {},
     "output_type": "execute_result"
    }
   ],
   "source": [
    "grads[0].shape"
   ]
  }
 ],
 "metadata": {
  "kernelspec": {
   "display_name": "Python 3.9.13 ('roberta_env')",
   "language": "python",
   "name": "python3"
  },
  "language_info": {
   "codemirror_mode": {
    "name": "ipython",
    "version": 3
   },
   "file_extension": ".py",
   "mimetype": "text/x-python",
   "name": "python",
   "nbconvert_exporter": "python",
   "pygments_lexer": "ipython3",
   "version": "3.9.13"
  },
  "orig_nbformat": 4,
  "vscode": {
   "interpreter": {
    "hash": "2c3ec90920587dcd62ca10f98568309ae5fe8dd1757bd16b3e1a83d20ad0c067"
   }
  }
 },
 "nbformat": 4,
 "nbformat_minor": 2
}
