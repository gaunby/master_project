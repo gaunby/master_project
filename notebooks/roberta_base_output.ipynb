{
 "cells": [
  {
   "cell_type": "code",
   "execution_count": 2,
   "metadata": {},
   "outputs": [],
   "source": [
    "import pickle \n",
    "from transformers import RobertaTokenizer, RobertaForSequenceClassification, Trainer\n",
    "from datasets import load_from_disk \n",
    "import os\n",
    "import sys\n",
    "sys.path.insert(0, '/zhome/a6/6/127219/Speciale/master_project')\n",
    "from src.visualization.tsne_visual import visualize_layerwise_embeddings#, visualize_one_layer\n",
    "from src.models.transformers_modeling_roberta import RobertaForSequenceClassification_Linear, RobertaForSequenceClassification_Original\n"
   ]
  },
  {
   "cell_type": "code",
   "execution_count": 3,
   "metadata": {},
   "outputs": [],
   "source": [
    "# checkpoint = \"/work3/s174498/final/test_original_head/checkpoint-1500\"\n",
    "checkpoint = \"/work3/s174498/final/linear_head/checkpoint-1500\"\n",
    "\n",
    "tokenizer = RobertaTokenizer.from_pretrained(checkpoint)\n",
    "tokenizer.model_max_len=512\n",
    "model = RobertaForSequenceClassification_Linear.from_pretrained(checkpoint, output_hidden_states = True, return_dict = True)"
   ]
  },
  {
   "cell_type": "code",
   "execution_count": 4,
   "metadata": {},
   "outputs": [],
   "source": [
    "# tokenizer = RobertaTokenizer.from_pretrained('roberta-base')\n",
    "# model = RobertaForSequenceClassification.from_pretrained('roberta-base',output_hidden_states = True,return_dict = True)\n",
    "def preprocess_function(examples):\n",
    "    return tokenizer(examples[\"sentence\"], truncation=True)"
   ]
  },
  {
   "cell_type": "code",
   "execution_count": 5,
   "metadata": {},
   "outputs": [],
   "source": [
    "datadir = '/work3/s174498/sst2_dataset/'\n",
    "test_dataset = load_from_disk(datadir + 'test_dataset')"
   ]
  },
  {
   "cell_type": "code",
   "execution_count": 6,
   "metadata": {},
   "outputs": [
    {
     "data": {
      "text/plain": [
       "Dataset({\n",
       "    features: ['sentence', 'label', 'idx'],\n",
       "    num_rows: 294\n",
       "})"
      ]
     },
     "execution_count": 6,
     "metadata": {},
     "output_type": "execute_result"
    }
   ],
   "source": [
    "datadir = '/work3/s174498/concept_random_dataset/wikipedia_20220301/gender_concepts/woman_female'\n",
    "ds_woman = load_from_disk(datadir)\n",
    "ds_woman = ds_woman.remove_columns(['title'])\n",
    "ds_woman = ds_woman.rename_column('text_list','sentence')\n",
    "ds_woman = ds_woman.add_column('label',[1]*len(ds_woman))\n",
    "ds_woman = ds_woman.add_column('idx',list(range(len(ds_woman))))\n",
    "ds_woman"
   ]
  },
  {
   "cell_type": "code",
   "execution_count": 8,
   "metadata": {},
   "outputs": [],
   "source": [
    "import random"
   ]
  },
  {
   "cell_type": "code",
   "execution_count": 14,
   "metadata": {},
   "outputs": [
    {
     "data": {
      "application/vnd.jupyter.widget-view+json": {
       "model_id": "38fb901bd262472abdbc69e879407a01",
       "version_major": 2,
       "version_minor": 0
      },
      "text/plain": [
       "  0%|          | 0/990 [00:00<?, ?ba/s]"
      ]
     },
     "metadata": {},
     "output_type": "display_data"
    }
   ],
   "source": [
    "datadir = '/work3/s174498/concept_random_dataset/wikipedia_split'\n",
    "ds_random = load_from_disk(datadir)\n",
    "ds_random = ds_random.remove_columns(['simple_sentence_1','simple_sentence_2'])\n",
    "ds_random = ds_random.rename_column('complex_sentence','sentence')\n",
    "ds_random = ds_random.add_column('label',[0]*len(ds_random))\n",
    "ds_random = ds_random.add_column('idx',list(range(0,len(ds_random))))\n",
    "#ds_random2 = ds_random.add_column('idx',list(range(0,len(ds_random))))\n",
    "ds_random = ds_random.filter(lambda example, idx: idx <200000, with_indices=True)"
   ]
  },
  {
   "cell_type": "code",
   "execution_count": 15,
   "metadata": {},
   "outputs": [
    {
     "data": {
      "application/vnd.jupyter.widget-view+json": {
       "model_id": "aef45403449a47aebc8bdc4e1c07e72b",
       "version_major": 2,
       "version_minor": 0
      },
      "text/plain": [
       "  0%|          | 0/200 [00:00<?, ?ba/s]"
      ]
     },
     "metadata": {},
     "output_type": "display_data"
    }
   ],
   "source": [
    "#start_with_ar = \n",
    "ds_random_1 = ds_random.filter(lambda example, idx: idx in random.sample(range(0,len(ds_random)), len(ds_woman)), with_indices=True)\n"
   ]
  },
  {
   "cell_type": "code",
   "execution_count": 16,
   "metadata": {},
   "outputs": [
    {
     "name": "stderr",
     "output_type": "stream",
     "text": [
      "Loading cached processed dataset at /work3/s174498/concept_random_dataset/wikipedia_split/cache-cf3ed8be676c16e8.arrow\n"
     ]
    }
   ],
   "source": [
    "ds_random_2 = ds_random.filter(lambda example, idx: idx in random.sample(range(0,len(ds_random)), len(ds_woman)), with_indices=True)\n"
   ]
  },
  {
   "cell_type": "code",
   "execution_count": 18,
   "metadata": {},
   "outputs": [
    {
     "data": {
      "text/plain": [
       "Dataset({\n",
       "    features: ['sentence', 'label', 'idx'],\n",
       "    num_rows: 810\n",
       "})"
      ]
     },
     "execution_count": 18,
     "metadata": {},
     "output_type": "execute_result"
    }
   ],
   "source": [
    "from datasets import concatenate_datasets\n",
    "\n",
    "ds = concatenate_datasets([ds_woman, ds_random_1,ds_random_2])\n",
    "ds"
   ]
  },
  {
   "cell_type": "code",
   "execution_count": 1,
   "metadata": {},
   "outputs": [
    {
     "ename": "NameError",
     "evalue": "name 'ds' is not defined",
     "output_type": "error",
     "traceback": [
      "\u001b[0;31m---------------------------------------------------------------------------\u001b[0m",
      "\u001b[0;31mNameError\u001b[0m                                 Traceback (most recent call last)",
      "Cell \u001b[0;32mIn [1], line 1\u001b[0m\n\u001b[0;32m----> 1\u001b[0m ds[\u001b[39m'\u001b[39m\u001b[39mlabel\u001b[39m\u001b[39m'\u001b[39m]\n",
      "\u001b[0;31mNameError\u001b[0m: name 'ds' is not defined"
     ]
    }
   ],
   "source": [
    "ds['label']"
   ]
  },
  {
   "cell_type": "code",
   "execution_count": 12,
   "metadata": {},
   "outputs": [
    {
     "data": {
      "application/vnd.jupyter.widget-view+json": {
       "model_id": "be9120cf903446008ae559b1c545b395",
       "version_major": 2,
       "version_minor": 0
      },
      "text/plain": [
       "  0%|          | 0/1 [00:00<?, ?ba/s]"
      ]
     },
     "metadata": {},
     "output_type": "display_data"
    }
   ],
   "source": [
    "tokenized_test = ds.map(preprocess_function, batched=True)\n"
   ]
  },
  {
   "attachments": {},
   "cell_type": "markdown",
   "metadata": {},
   "source": [
    "#### If wanting to change features "
   ]
  },
  {
   "cell_type": "code",
   "execution_count": null,
   "metadata": {},
   "outputs": [],
   "source": [
    "from datasets import ClassLabel, Value\n",
    "features = ds_random.features.copy()\n",
    "features['label']  = Value('int64')\n",
    "features['idx']  = Value('int64')\n",
    "ds_woman = ds_woman.cast(features)\n",
    "ds_woman.features"
   ]
  },
  {
   "cell_type": "code",
   "execution_count": null,
   "metadata": {},
   "outputs": [],
   "source": [
    "\n",
    "trainer = Trainer(\n",
    "    model=model,                        \n",
    "    tokenizer=tokenizer\n",
    ")\n",
    "\n",
    "output = trainer.predict(tokenized_test)\n",
    "with open(f'/work3/s174498/roberta_files/output_roberta_linear_woman_random.pickle', 'wb') as handle:\n",
    "    pickle.dump(output, handle, protocol=pickle.HIGHEST_PROTOCOL)\n",
    "\n",
    "# avg. runtime 2 min"
   ]
  },
  {
   "attachments": {},
   "cell_type": "markdown",
   "metadata": {},
   "source": [
    "### Load data"
   ]
  },
  {
   "cell_type": "code",
   "execution_count": 13,
   "metadata": {},
   "outputs": [],
   "source": [
    "with open('/work3/s174498/roberta_files/output_roberta_linear_woman_random.pickle', 'rb') as handle:\n",
    "    output_linear = pickle.load(handle)"
   ]
  },
  {
   "cell_type": "code",
   "execution_count": 14,
   "metadata": {},
   "outputs": [],
   "source": [
    "# fine tune linear \n",
    "labels = output_linear.label_ids\n",
    "hidden_states = output_linear.predictions[1][1:]\n",
    "title = 'linear_results'\n",
    "layers_to_visualize = [0,1,2,3,4,5,6,7,8,9,10,11]\n",
    "init = 'pca'\n",
    "labels_text = ['random','woman']"
   ]
  },
  {
   "cell_type": "code",
   "execution_count": 16,
   "metadata": {},
   "outputs": [
    {
     "ename": "TypeError",
     "evalue": "visualize_layerwise_embeddings() got an unexpected keyword argument 'NEW_VAR'",
     "output_type": "error",
     "traceback": [
      "\u001b[0;31m---------------------------------------------------------------------------\u001b[0m",
      "\u001b[0;31mTypeError\u001b[0m                                 Traceback (most recent call last)",
      "Cell \u001b[0;32mIn [16], line 2\u001b[0m\n\u001b[1;32m      1\u001b[0m perplexity \u001b[39m=\u001b[39m \u001b[39m10\u001b[39m\n\u001b[0;32m----> 2\u001b[0m visualize_layerwise_embeddings(hidden_states,labels,title,layers_to_visualize, perplexity, init , NEW_VAR \u001b[39m=\u001b[39;49m labels_text, mean \u001b[39m=\u001b[39;49m \u001b[39mFalse\u001b[39;49;00m, save \u001b[39m=\u001b[39;49m \u001b[39mFalse\u001b[39;49;00m)\n",
      "\u001b[0;31mTypeError\u001b[0m: visualize_layerwise_embeddings() got an unexpected keyword argument 'NEW_VAR'"
     ]
    }
   ],
   "source": [
    "perplexity = 10\n",
    "visualize_layerwise_embeddings(hidden_states,labels,title,layers_to_visualize, perplexity, init , NEW_VAR = labels_text, mean = False, save = False)"
   ]
  },
  {
   "cell_type": "code",
   "execution_count": 7,
   "metadata": {},
   "outputs": [
    {
     "ename": "TypeError",
     "evalue": "visualize_layerwise_embeddings() got an unexpected keyword argument 'labels_text'",
     "output_type": "error",
     "traceback": [
      "\u001b[0;31m---------------------------------------------------------------------------\u001b[0m",
      "\u001b[0;31mTypeError\u001b[0m                                 Traceback (most recent call last)",
      "Cell \u001b[0;32mIn [7], line 1\u001b[0m\n\u001b[0;32m----> 1\u001b[0m visualize_layerwise_embeddings(hidden_states,labels,title,layers_to_visualize, perplexity, init, labels_text \u001b[39m=\u001b[39;49m [\u001b[39m'\u001b[39;49m\u001b[39mrandom\u001b[39;49m\u001b[39m'\u001b[39;49m,\u001b[39m'\u001b[39;49m\u001b[39mwoman\u001b[39;49m\u001b[39m'\u001b[39;49m], mean \u001b[39m=\u001b[39;49m \u001b[39mFalse\u001b[39;49;00m, save \u001b[39m=\u001b[39;49m \u001b[39mFalse\u001b[39;49;00m)\n",
      "\u001b[0;31mTypeError\u001b[0m: visualize_layerwise_embeddings() got an unexpected keyword argument 'labels_text'"
     ]
    }
   ],
   "source": [
    "visualize_layerwise_embeddings()   #(hidden_states,labels,title,layers_to_visualize, perplexity, init, labels_text = ['random','woman'], mean = False, save = False)"
   ]
  },
  {
   "cell_type": "code",
   "execution_count": null,
   "metadata": {},
   "outputs": [],
   "source": []
  }
 ],
 "metadata": {
  "kernelspec": {
   "display_name": "roberta_env",
   "language": "python",
   "name": "python3"
  },
  "language_info": {
   "codemirror_mode": {
    "name": "ipython",
    "version": 3
   },
   "file_extension": ".py",
   "mimetype": "text/x-python",
   "name": "python",
   "nbconvert_exporter": "python",
   "pygments_lexer": "ipython3",
   "version": "3.9.13"
  },
  "orig_nbformat": 4,
  "vscode": {
   "interpreter": {
    "hash": "2c3ec90920587dcd62ca10f98568309ae5fe8dd1757bd16b3e1a83d20ad0c067"
   }
  }
 },
 "nbformat": 4,
 "nbformat_minor": 2
}
