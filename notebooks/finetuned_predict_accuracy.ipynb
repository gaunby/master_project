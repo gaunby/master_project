{
 "cells": [
  {
   "cell_type": "code",
   "execution_count": 8,
   "metadata": {},
   "outputs": [],
   "source": [
    "import pickle5 as pickle\n",
    "import numpy as np\n",
    "from datasets import load_metric"
   ]
  },
  {
   "cell_type": "code",
   "execution_count": 6,
   "metadata": {},
   "outputs": [],
   "source": [
    "# load predictions\n",
    "with open('/work3/s174498/roberta_files/prediction_test6.pickle', 'rb') as handle:\n",
    "    output_finetune = pickle.load(handle)"
   ]
  },
  {
   "cell_type": "code",
   "execution_count": 9,
   "metadata": {},
   "outputs": [
    {
     "name": "stderr",
     "output_type": "stream",
     "text": [
      "/zhome/a6/6/127219/miniconda3/envs/sent_env/lib/python3.7/site-packages/ipykernel_launcher.py:7: FutureWarning: load_metric is deprecated and will be removed in the next major version of datasets. Use 'evaluate.load' instead, from the new library 🤗 Evaluate: https://huggingface.co/docs/evaluate\n",
      "  import sys\n"
     ]
    },
    {
     "data": {
      "text/plain": [
       "{'accuracy': 0.9341021416803954}"
      ]
     },
     "execution_count": 9,
     "metadata": {},
     "output_type": "execute_result"
    }
   ],
   "source": [
    "## Save predictions\n",
    "pred_dataset_test = list(np.argmax(output_finetune.predictions[0], axis=-1))\n",
    "# Save true\n",
    "true_dataset_test = output_finetune.label_ids\n",
    "\n",
    "# compute accuracy\n",
    "accuracy_metric = load_metric(\"accuracy\")\n",
    "accuracy_metric.compute(predictions=pred_dataset_test, references=true_dataset_test)"
   ]
  },
  {
   "cell_type": "code",
   "execution_count": null,
   "metadata": {},
   "outputs": [],
   "source": []
  }
 ],
 "metadata": {
  "kernelspec": {
   "display_name": "Python 3.7.13 ('sent_env')",
   "language": "python",
   "name": "python3"
  },
  "language_info": {
   "codemirror_mode": {
    "name": "ipython",
    "version": 3
   },
   "file_extension": ".py",
   "mimetype": "text/x-python",
   "name": "python",
   "nbconvert_exporter": "python",
   "pygments_lexer": "ipython3",
   "version": "3.7.13"
  },
  "orig_nbformat": 4,
  "vscode": {
   "interpreter": {
    "hash": "9738a1daac20355f138ac5f9490b2e4e7176effdeaa1fb550cd3c1d19d286cfb"
   }
  }
 },
 "nbformat": 4,
 "nbformat_minor": 2
}
