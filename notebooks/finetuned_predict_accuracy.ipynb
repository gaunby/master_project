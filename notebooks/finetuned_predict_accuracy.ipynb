{
 "cells": [
  {
   "cell_type": "code",
   "execution_count": 34,
   "metadata": {},
   "outputs": [],
   "source": [
    "import pickle5 as pickle\n",
    "import numpy as np\n",
    "from datasets import load_metric"
   ]
  },
  {
   "cell_type": "code",
   "execution_count": 35,
   "metadata": {},
   "outputs": [],
   "source": [
    "# load predictions\n",
    "with open('/work3/s174498/roberta_files/final_output_roberta_head_linear.pickle', 'rb') as handle:\n",
    "    output_finetune_linear = pickle.load(handle)\n",
    "\n",
    "with open('/work3/s174498/roberta_files/final_output_roberta_head_nn.pickle', 'rb') as handle:\n",
    "    output_finetune_nn = pickle.load(handle)"
   ]
  },
  {
   "cell_type": "code",
   "execution_count": 36,
   "metadata": {},
   "outputs": [
    {
     "name": "stdout",
     "output_type": "stream",
     "text": [
      "Linear head:  {'accuracy': 0.9187259747391543}\n",
      "Original (nn) head:  {'accuracy': 0.9269632070291048}\n"
     ]
    }
   ],
   "source": [
    "## Save predictions\n",
    "pred_test_linear = list(np.argmax(output_finetune_linear.predictions[0], axis=-1))\n",
    "pred_test_nn = list(np.argmax(output_finetune_nn.predictions[0], axis=-1))\n",
    "\n",
    "# Save true\n",
    "true_test = output_finetune_linear.label_ids\n",
    "\n",
    "# compute accuracy\n",
    "accuracy_metric = load_metric(\"accuracy\")\n",
    "linear_accuracy = accuracy_metric.compute(predictions=pred_test_linear, references=true_test)\n",
    "nn_accuracy = accuracy_metric.compute(predictions=pred_test_nn, references=true_test)\n",
    "\n",
    "print('Linear head: ', linear_accuracy)\n",
    "print('Original (nn) head: ', nn_accuracy)"
   ]
  },
  {
   "cell_type": "code",
   "execution_count": 9,
   "metadata": {},
   "outputs": [],
   "source": [
    "## Getting the 'sequence_output' from RobertaModel\n",
    "\n",
    "# original nn-head\n",
    "sequence_output_nn = output_finetune_nn.predictions[2]\n",
    "\n",
    "# linear-head\n",
    "sequence_output_linear = output_finetune_linear.predictions[2]\n"
   ]
  },
  {
   "cell_type": "code",
   "execution_count": 12,
   "metadata": {},
   "outputs": [],
   "source": [
    "## Getting the 'logits_dense'-layer from RobertaClassificationHead\n",
    "\n",
    "# from original proposed RobertaSequenceHead\n",
    "logits_dense = output_finetune_nn.predictions[3]"
   ]
  }
 ],
 "metadata": {
  "kernelspec": {
   "display_name": "Python 3.7.13 ('sent_env')",
   "language": "python",
   "name": "python3"
  },
  "language_info": {
   "codemirror_mode": {
    "name": "ipython",
    "version": 3
   },
   "file_extension": ".py",
   "mimetype": "text/x-python",
   "name": "python",
   "nbconvert_exporter": "python",
   "pygments_lexer": "ipython3",
   "version": "3.7.13"
  },
  "orig_nbformat": 4,
  "vscode": {
   "interpreter": {
    "hash": "9738a1daac20355f138ac5f9490b2e4e7176effdeaa1fb550cd3c1d19d286cfb"
   }
  }
 },
 "nbformat": 4,
 "nbformat_minor": 2
}
