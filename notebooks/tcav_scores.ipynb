{
 "cells": [
  {
   "cell_type": "code",
   "execution_count": 1,
   "metadata": {},
   "outputs": [],
   "source": [
    "import sys \n",
    "import pickle\n",
    "import matplotlib.pyplot as plt\n",
    "import numpy as np\n",
    "import pandas as pd\n"
   ]
  },
  {
   "cell_type": "code",
   "execution_count": 3,
   "metadata": {},
   "outputs": [],
   "source": [
    "with open('/zhome/94/5/127021/speciale/master_project/notebooks/figures_tables/tcav_sports_pos_plot.pickle', 'rb') as handle:\n",
    "    pos_spo = pickle.load(handle)\n",
    "with open('/zhome/94/5/127021/speciale/master_project/notebooks/figures_tables/tcav_sports_neg_plot.pickle', 'rb') as handle:\n",
    "    neg_spo  = pickle.load(handle)\n",
    "with open('/zhome/94/5/127021/speciale/master_project/notebooks/figures_tables/tcav_gender_pos.pickle', 'rb') as handle:\n",
    "    pos_gen = pickle.load(handle)\n",
    "with open('/zhome/94/5/127021/speciale/master_project/notebooks/figures_tables/tcav_gender_neg.pickle', 'rb') as handle:\n",
    "    neg_gen  = pickle.load(handle)\n",
    "with open('/zhome/94/5/127021/speciale/master_project/notebooks/figures_tables/tcav_tweets_pos.pickle', 'rb') as handle:\n",
    "    pos_twe = pickle.load(handle)\n",
    "with open('/zhome/94/5/127021/speciale/master_project/notebooks/figures_tables/tcav_tweets_neg.pickle', 'rb') as handle:\n",
    "    neg_twe  = pickle.load(handle)"
   ]
  },
  {
   "cell_type": "code",
   "execution_count": 17,
   "metadata": {},
   "outputs": [],
   "source": [
    "layers = ['roberta.encoder.layer.0.output.dropout',\n",
    "             'roberta.encoder.layer.1.output.dropout',\n",
    "             'roberta.encoder.layer.2.output.dropout',\n",
    "             'roberta.encoder.layer.3.output.dropout',\n",
    "             'roberta.encoder.layer.4.output.dropout',\n",
    "             'roberta.encoder.layer.5.output.dropout',\n",
    "             'roberta.encoder.layer.6.output.dropout',\n",
    "             'roberta.encoder.layer.7.output.dropout',\n",
    "             'roberta.encoder.layer.8.output.dropout',\n",
    "             'roberta.encoder.layer.9.output.dropout',\n",
    "             'roberta.encoder.layer.10.output.dropout',\n",
    "             'roberta.encoder.layer.11.output.dropout'\n",
    "            ]"
   ]
  },
  {
   "cell_type": "code",
   "execution_count": 11,
   "metadata": {},
   "outputs": [],
   "source": [
    "folders =  ['Acrobatic sports','Air sports','Aquatic and paddle sports',\n",
    " 'Archery','Athletics','Bat and ball games','Board game','Boardsport','Card game','Catching games','Climbing',\n",
    " 'Combat sports','Cycling','Dog sports','Electronic sports','Equestrian sports','Esports','Fishing','Flying disc sports',\n",
    " 'Gymnastics','Hunting','Ice sports','Invasion games','Kite sports','Marker sports','Mixed discipline','Motersport',\n",
    " 'Net and wall games','Orienteering family','Other','Other mind sports','Overlapping sports','Parkour Freerunning',\n",
    " 'Remote control','Rodeo','Running','Sailing','Shooting sports','Skating sports','Snow sports','Speedcubing',\n",
    " 'Stacking','Street sports','Strength sports','Table sports','Tag game','Target sport','Walking','Weightlifting']\n",
    "\n",
    "concepts = list(map(lambda x: x.lower(), folders))\n",
    "concepts = [x.replace(' ','_') for x in concepts]"
   ]
  },
  {
   "cell_type": "code",
   "execution_count": 12,
   "metadata": {},
   "outputs": [],
   "source": [
    "concepts.append('gender')#,\n",
    "concepts.append('intersex')\n",
    "concepts.append('man')\n",
    "concepts.append('woman')\n",
    "concepts.append('hate')\n",
    "concepts.append('irony')\n",
    "concepts.append('offensive')"
   ]
  },
  {
   "cell_type": "code",
   "execution_count": 14,
   "metadata": {},
   "outputs": [],
   "source": [
    "layer_nr = [0,1,2,3,4,5,6,7,8,9,10,11] * len(concepts)\n",
    "df = pd.DataFrame(layer_nr,columns=['layers'])\n",
    "df['concepts'] = 'none'\n",
    "df['mean'] = 100\n",
    "df['std'] = 100\n",
    "df['p-value'] = 100\n",
    "df['significant'] = 'none'"
   ]
  },
  {
   "attachments": {},
   "cell_type": "markdown",
   "metadata": {},
   "source": [
    "### Positive"
   ]
  },
  {
   "cell_type": "code",
   "execution_count": 16,
   "metadata": {},
   "outputs": [
    {
     "ename": "NameError",
     "evalue": "name 'layers' is not defined",
     "output_type": "error",
     "traceback": [
      "\u001b[0;31m---------------------------------------------------------------------------\u001b[0m",
      "\u001b[0;31mNameError\u001b[0m                                 Traceback (most recent call last)",
      "Cell \u001b[0;32mIn [16], line 6\u001b[0m\n\u001b[1;32m      4\u001b[0m df\u001b[39m.\u001b[39miloc[(i\u001b[39m*\u001b[39m\u001b[39m12\u001b[39m):((i\u001b[39m*\u001b[39m\u001b[39m12\u001b[39m)\u001b[39m+\u001b[39m\u001b[39m12\u001b[39m),\u001b[39m1\u001b[39m] \u001b[39m=\u001b[39m fold\n\u001b[1;32m      5\u001b[0m \u001b[39m# mean\u001b[39;00m\n\u001b[0;32m----> 6\u001b[0m df\u001b[39m.\u001b[39miloc[ i\u001b[39m*\u001b[39m\u001b[39m12\u001b[39m, \u001b[39m2\u001b[39m] \u001b[39m=\u001b[39m output[layers[\u001b[39m0\u001b[39m]][\u001b[39m'\u001b[39m\u001b[39mbn_vals\u001b[39m\u001b[39m'\u001b[39m][i]\n\u001b[1;32m      7\u001b[0m df\u001b[39m.\u001b[39miloc[ (i\u001b[39m*\u001b[39m\u001b[39m12\u001b[39m)\u001b[39m+\u001b[39m\u001b[39m1\u001b[39m,\u001b[39m2\u001b[39m] \u001b[39m=\u001b[39m output[layers[\u001b[39m1\u001b[39m]][\u001b[39m'\u001b[39m\u001b[39mbn_vals\u001b[39m\u001b[39m'\u001b[39m][i]\n\u001b[1;32m      8\u001b[0m df\u001b[39m.\u001b[39miloc[ (i\u001b[39m*\u001b[39m\u001b[39m12\u001b[39m)\u001b[39m+\u001b[39m\u001b[39m2\u001b[39m,\u001b[39m2\u001b[39m] \u001b[39m=\u001b[39m output[layers[\u001b[39m2\u001b[39m]][\u001b[39m'\u001b[39m\u001b[39mbn_vals\u001b[39m\u001b[39m'\u001b[39m][i]\n",
      "\u001b[0;31mNameError\u001b[0m: name 'layers' is not defined"
     ]
    }
   ],
   "source": [
    "output = pos_spo\n",
    "for i, fold in enumerate(folders):\n",
    "    # concept\n",
    "    df.iloc[(i*12):((i*12)+12),1] = fold\n",
    "    # mean\n",
    "    df.iloc[ i*12, 2] = output[layers[0]]['bn_vals'][i]\n",
    "    df.iloc[ (i*12)+1,2] = output[layers[1]]['bn_vals'][i]\n",
    "    df.iloc[ (i*12)+2,2] = output[layers[2]]['bn_vals'][i]\n",
    "    df.iloc[ (i*12)+3,2] = output[layers[3]]['bn_vals'][i]\n",
    "    df.iloc[ (i*12)+4,2] = output[layers[4]]['bn_vals'][i]\n",
    "    df.iloc[ (i*12)+5,2] = output[layers[5]]['bn_vals'][i]\n",
    "    df.iloc[ (i*12)+6,2] = output[layers[6]]['bn_vals'][i]\n",
    "    df.iloc[ (i*12)+7,2] = output[layers[7]]['bn_vals'][i]\n",
    "    df.iloc[ (i*12)+8,2] = output[layers[8]]['bn_vals'][i]\n",
    "    df.iloc[ (i*12)+9,2] = output[layers[9]]['bn_vals'][i]\n",
    "    df.iloc[ (i*12)+10,2] = output[layers[10]]['bn_vals'][i]\n",
    "    df.iloc[ (i*12)+11,2] = output[layers[11]]['bn_vals'][i]\n",
    "    # std\n",
    "    df.iloc[ i*12,3] = output[layers[0]]['bn_stds'][i]\n",
    "    df.iloc[ (i*12)+1,3] = output[layers[1]]['bn_stds'][i]\n",
    "    df.iloc[ (i*12)+2,3] = output[layers[2]]['bn_stds'][i]\n",
    "    df.iloc[ (i*12)+3,3] = output[layers[3]]['bn_stds'][i]\n",
    "    df.iloc[ (i*12)+4,3] = output[layers[4]]['bn_stds'][i]\n",
    "    df.iloc[ (i*12)+5,3] = output[layers[5]]['bn_stds'][i]\n",
    "    df.iloc[ (i*12)+6,3] = output[layers[6]]['bn_stds'][i]\n",
    "    df.iloc[ (i*12)+7,3] = output[layers[7]]['bn_stds'][i]\n",
    "    df.iloc[ (i*12)+8,3] = output[layers[8]]['bn_stds'][i]\n",
    "    df.iloc[ (i*12)+9,3] = output[layers[9]]['bn_stds'][i]\n",
    "    df.iloc[ (i*12)+10,3] = output[layers[10]]['bn_stds'][i]\n",
    "    df.iloc[ (i*12)+11,3] = output[layers[11]]['bn_stds'][i]\n",
    "    # p- value\n",
    "    df.iloc[ i*12,4] = output[layers[0]]['p-value'][i]\n",
    "    df.iloc[ (i*12)+1,4] = output[layers[1]]['p-value'][i]\n",
    "    df.iloc[ (i*12)+2,4] = output[layers[2]]['p-value'][i]\n",
    "    df.iloc[ (i*12)+3,4] = output[layers[3]]['p-value'][i]\n",
    "    df.iloc[ (i*12)+4,4] = output[layers[4]]['p-value'][i]\n",
    "    df.iloc[ (i*12)+5,4] = output[layers[5]]['p-value'][i]\n",
    "    df.iloc[ (i*12)+6,4] = output[layers[6]]['p-value'][i]\n",
    "    df.iloc[ (i*12)+7,4] = output[layers[7]]['p-value'][i]\n",
    "    df.iloc[ (i*12)+8,4] = output[layers[8]]['p-value'][i]\n",
    "    df.iloc[ (i*12)+9,4] = output[layers[9]]['p-value'][i]\n",
    "    df.iloc[ (i*12)+10,4] = output[layers[10]]['p-value'][i]\n",
    "    df.iloc[ (i*12)+11,4] = output[layers[11]]['p-value'][i]\n",
    "    # significant \n",
    "    df.iloc[ i*12,5] = output[layers[0]]['significant'][i]\n",
    "    df.iloc[ (i*12)+1,5] = output[layers[1]]['significant'][i]\n",
    "    df.iloc[ (i*12)+2,5] = output[layers[2]]['significant'][i]\n",
    "    df.iloc[ (i*12)+3,5] = output[layers[3]]['significant'][i]\n",
    "    df.iloc[ (i*12)+4,5] = output[layers[4]]['significant'][i]\n",
    "    df.iloc[ (i*12)+5,5] = output[layers[5]]['significant'][i]\n",
    "    df.iloc[ (i*12)+6,5] = output[layers[6]]['significant'][i]\n",
    "    df.iloc[ (i*12)+7,5] = output[layers[7]]['significant'][i]\n",
    "    df.iloc[ (i*12)+8,5] = output[layers[8]]['significant'][i]\n",
    "    df.iloc[ (i*12)+9,5] = output[layers[9]]['significant'][i]\n",
    "    df.iloc[ (i*12)+10,5] = output[layers[10]]['significant'][i]\n",
    "    df.iloc[ (i*12)+11,5] = output[layers[11]]['significant'][i]"
   ]
  }
 ],
 "metadata": {
  "kernelspec": {
   "display_name": "roberta_env",
   "language": "python",
   "name": "python3"
  },
  "language_info": {
   "codemirror_mode": {
    "name": "ipython",
    "version": 3
   },
   "file_extension": ".py",
   "mimetype": "text/x-python",
   "name": "python",
   "nbconvert_exporter": "python",
   "pygments_lexer": "ipython3",
   "version": "3.9.13"
  },
  "orig_nbformat": 4,
  "vscode": {
   "interpreter": {
    "hash": "2c3ec90920587dcd62ca10f98568309ae5fe8dd1757bd16b3e1a83d20ad0c067"
   }
  }
 },
 "nbformat": 4,
 "nbformat_minor": 2
}
