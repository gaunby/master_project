{
 "cells": [
  {
   "attachments": {},
   "cell_type": "markdown",
   "metadata": {},
   "source": [
    "# TCAV scores across all tested concepts\n",
    "Notebook to collect all teste concepts and visualize TCAV scores on each layer with a boxplot. "
   ]
  },
  {
   "cell_type": "code",
   "execution_count": 121,
   "metadata": {},
   "outputs": [],
   "source": [
    "import sys \n",
    "import pickle\n",
    "import matplotlib.pyplot as plt\n",
    "import numpy as np\n",
    "import pandas as pd\n"
   ]
  },
  {
   "cell_type": "code",
   "execution_count": 122,
   "metadata": {},
   "outputs": [],
   "source": [
    "with open('/zhome/94/5/127021/speciale/master_project/notebooks/figures_tables/tcav_sports_pos_plot.pickle', 'rb') as handle:\n",
    "    pos_spo = pickle.load(handle)\n",
    "with open('/zhome/94/5/127021/speciale/master_project/notebooks/figures_tables/tcav_sports_neg_plot.pickle', 'rb') as handle:\n",
    "    neg_spo  = pickle.load(handle)\n",
    "with open('/zhome/94/5/127021/speciale/master_project/notebooks/figures_tables/tcav_gender_pos.pickle', 'rb') as handle:\n",
    "    pos_gen = pickle.load(handle)\n",
    "with open('/zhome/94/5/127021/speciale/master_project/notebooks/figures_tables/tcav_gender_neg.pickle', 'rb') as handle:\n",
    "    neg_gen  = pickle.load(handle)\n",
    "with open('/zhome/94/5/127021/speciale/master_project/notebooks/figures_tables/tcav_tweets_pos.pickle', 'rb') as handle:\n",
    "    pos_twe = pickle.load(handle)\n",
    "with open('/zhome/94/5/127021/speciale/master_project/notebooks/figures_tables/tcav_tweets_neg.pickle', 'rb') as handle:\n",
    "    neg_twe  = pickle.load(handle)"
   ]
  },
  {
   "cell_type": "code",
   "execution_count": 123,
   "metadata": {},
   "outputs": [],
   "source": [
    "layers = ['roberta.encoder.layer.0.output.dropout',\n",
    "             'roberta.encoder.layer.1.output.dropout',\n",
    "             'roberta.encoder.layer.2.output.dropout',\n",
    "             'roberta.encoder.layer.3.output.dropout',\n",
    "             'roberta.encoder.layer.4.output.dropout',\n",
    "             'roberta.encoder.layer.5.output.dropout',\n",
    "             'roberta.encoder.layer.6.output.dropout',\n",
    "             'roberta.encoder.layer.7.output.dropout',\n",
    "             'roberta.encoder.layer.8.output.dropout',\n",
    "             'roberta.encoder.layer.9.output.dropout',\n",
    "             'roberta.encoder.layer.10.output.dropout',\n",
    "             'roberta.encoder.layer.11.output.dropout'\n",
    "            ]"
   ]
  },
  {
   "cell_type": "code",
   "execution_count": 124,
   "metadata": {},
   "outputs": [],
   "source": [
    "folders =  ['Acrobatic sports','Air sports','Aquatic and paddle sports',\n",
    " 'Archery','Athletics','Bat and ball games','Board game','Boardsport','Card game','Catching games','Climbing',\n",
    " 'Combat sports','Cycling','Dog sports','Electronic sports','Equestrian sports','Esports','Fishing','Flying disc sports',\n",
    " 'Gymnastics','Hunting','Ice sports','Invasion games','Kite sports','Marker sports','Mixed discipline','Motersport',\n",
    " 'Net and wall games','Orienteering family','Other','Other mind sports','Overlapping sports','Parkour Freerunning',\n",
    " 'Remote control','Rodeo','Running','Sailing','Shooting sports','Skating sports','Snow sports','Speedcubing',\n",
    " 'Stacking','Street sports','Strength sports','Table sports','Tag game','Target sport','Walking','Weightlifting']\n",
    "\n",
    "concepts = list(map(lambda x: x.lower(), folders))\n",
    "concepts = [x.replace(' ','_') for x in concepts]"
   ]
  },
  {
   "cell_type": "code",
   "execution_count": 125,
   "metadata": {},
   "outputs": [],
   "source": [
    "concepts.append('gender')#,\n",
    "concepts.append('intersex')\n",
    "concepts.append('man')\n",
    "concepts.append('woman')\n",
    "concepts.append('hate')\n",
    "concepts.append('irony')\n",
    "concepts.append('offensive')"
   ]
  },
  {
   "cell_type": "code",
   "execution_count": 126,
   "metadata": {},
   "outputs": [],
   "source": [
    "layer_nr = [0,1,2,3,4,5,6,7,8,9,10,11] * len(concepts)\n",
    "df = pd.DataFrame(layer_nr,columns=['layers'])\n",
    "df['concepts'] = 'none'\n",
    "df['mean'] = 100\n",
    "df['std'] = 100"
   ]
  },
  {
   "attachments": {},
   "cell_type": "markdown",
   "metadata": {},
   "source": [
    "### Positive"
   ]
  },
  {
   "cell_type": "code",
   "execution_count": 127,
   "metadata": {},
   "outputs": [],
   "source": [
    "output = pos_spo\n",
    "for i, fold in enumerate(folders):\n",
    "    # concept\n",
    "    df.iloc[(i*12):((i*12)+12),1] = fold\n",
    "    # mean\n",
    "    df.iloc[ i*12, 2] = output[layers[0]]['bn_vals'][i]\n",
    "    df.iloc[ (i*12)+1,2] = output[layers[1]]['bn_vals'][i]\n",
    "    df.iloc[ (i*12)+2,2] = output[layers[2]]['bn_vals'][i]\n",
    "    df.iloc[ (i*12)+3,2] = output[layers[3]]['bn_vals'][i]\n",
    "    df.iloc[ (i*12)+4,2] = output[layers[4]]['bn_vals'][i]\n",
    "    df.iloc[ (i*12)+5,2] = output[layers[5]]['bn_vals'][i]\n",
    "    df.iloc[ (i*12)+6,2] = output[layers[6]]['bn_vals'][i]\n",
    "    df.iloc[ (i*12)+7,2] = output[layers[7]]['bn_vals'][i]\n",
    "    df.iloc[ (i*12)+8,2] = output[layers[8]]['bn_vals'][i]\n",
    "    df.iloc[ (i*12)+9,2] = output[layers[9]]['bn_vals'][i]\n",
    "    df.iloc[ (i*12)+10,2] = output[layers[10]]['bn_vals'][i]\n",
    "    df.iloc[ (i*12)+11,2] = output[layers[11]]['bn_vals'][i]\n",
    "    # std\n",
    "    df.iloc[ i*12,3] = output[layers[0]]['bn_stds'][i]\n",
    "    df.iloc[ (i*12)+1,3] = output[layers[1]]['bn_stds'][i]\n",
    "    df.iloc[ (i*12)+2,3] = output[layers[2]]['bn_stds'][i]\n",
    "    df.iloc[ (i*12)+3,3] = output[layers[3]]['bn_stds'][i]\n",
    "    df.iloc[ (i*12)+4,3] = output[layers[4]]['bn_stds'][i]\n",
    "    df.iloc[ (i*12)+5,3] = output[layers[5]]['bn_stds'][i]\n",
    "    df.iloc[ (i*12)+6,3] = output[layers[6]]['bn_stds'][i]\n",
    "    df.iloc[ (i*12)+7,3] = output[layers[7]]['bn_stds'][i]\n",
    "    df.iloc[ (i*12)+8,3] = output[layers[8]]['bn_stds'][i]\n",
    "    df.iloc[ (i*12)+9,3] = output[layers[9]]['bn_stds'][i]\n",
    "    df.iloc[ (i*12)+10,3] = output[layers[10]]['bn_stds'][i]\n",
    "    df.iloc[ (i*12)+11,3] = output[layers[11]]['bn_stds'][i]"
   ]
  },
  {
   "cell_type": "code",
   "execution_count": 128,
   "metadata": {},
   "outputs": [],
   "source": [
    "j = i \n",
    "output = pos_gen\n",
    "for i, fold in enumerate(['gender','intersex','man','woman']):\n",
    "    # concept\n",
    "    ii = i + j + 1\n",
    "    df.iloc[(ii*12):((ii*12)+12),1] = fold\n",
    "    # mean\n",
    "    df.iloc[ ii*12, 2] = output[layers[0]]['bn_vals'][i]\n",
    "    df.iloc[ (ii*12)+1,2] = output[layers[1]]['bn_vals'][i]\n",
    "    df.iloc[ (ii*12)+2,2] = output[layers[2]]['bn_vals'][i]\n",
    "    df.iloc[ (ii*12)+3,2] = output[layers[3]]['bn_vals'][i]\n",
    "    df.iloc[ (ii*12)+4,2] = output[layers[4]]['bn_vals'][i]\n",
    "    df.iloc[ (ii*12)+5,2] = output[layers[5]]['bn_vals'][i]\n",
    "    df.iloc[ (ii*12)+6,2] = output[layers[6]]['bn_vals'][i]\n",
    "    df.iloc[ (ii*12)+7,2] = output[layers[7]]['bn_vals'][i]\n",
    "    df.iloc[ (ii*12)+8,2] = output[layers[8]]['bn_vals'][i]\n",
    "    df.iloc[ (ii*12)+9,2] = output[layers[9]]['bn_vals'][i]\n",
    "    df.iloc[ (ii*12)+10,2] = output[layers[10]]['bn_vals'][i]\n",
    "    df.iloc[ (ii*12)+11,2] = output[layers[11]]['bn_vals'][i]\n",
    "    # std\n",
    "    df.iloc[ ii*12,3] = output[layers[0]]['bn_stds'][i]\n",
    "    df.iloc[ (ii*12)+1,3] = output[layers[1]]['bn_stds'][i]\n",
    "    df.iloc[ (ii*12)+2,3] = output[layers[2]]['bn_stds'][i]\n",
    "    df.iloc[ (ii*12)+3,3] = output[layers[3]]['bn_stds'][i]\n",
    "    df.iloc[ (ii*12)+4,3] = output[layers[4]]['bn_stds'][i]\n",
    "    df.iloc[ (ii*12)+5,3] = output[layers[5]]['bn_stds'][i]\n",
    "    df.iloc[ (ii*12)+6,3] = output[layers[6]]['bn_stds'][i]\n",
    "    df.iloc[ (ii*12)+7,3] = output[layers[7]]['bn_stds'][i]\n",
    "    df.iloc[ (ii*12)+8,3] = output[layers[8]]['bn_stds'][i]\n",
    "    df.iloc[ (ii*12)+9,3] = output[layers[9]]['bn_stds'][i]\n",
    "    df.iloc[ (ii*12)+10,3] = output[layers[10]]['bn_stds'][i]\n",
    "    df.iloc[ (ii*12)+11,3] = output[layers[11]]['bn_stds'][i]\n",
    "    "
   ]
  },
  {
   "cell_type": "code",
   "execution_count": 129,
   "metadata": {},
   "outputs": [],
   "source": [
    "j = ii \n",
    "output = pos_twe\n",
    "for i, fold in enumerate(['hate','irony','offensive']):\n",
    "    # concept\n",
    "    ii = i + j +1\n",
    "    df.iloc[(ii*12):((ii*12)+12),1] = fold\n",
    "    # mean\n",
    "    df.iloc[ ii*12, 2] = output[layers[0]]['bn_vals'][i]\n",
    "    df.iloc[ (ii*12)+1,2] = output[layers[1]]['bn_vals'][i]\n",
    "    df.iloc[ (ii*12)+2,2] = output[layers[2]]['bn_vals'][i]\n",
    "    df.iloc[ (ii*12)+3,2] = output[layers[3]]['bn_vals'][i]\n",
    "    df.iloc[ (ii*12)+4,2] = output[layers[4]]['bn_vals'][i]\n",
    "    df.iloc[ (ii*12)+5,2] = output[layers[5]]['bn_vals'][i]\n",
    "    df.iloc[ (ii*12)+6,2] = output[layers[6]]['bn_vals'][i]\n",
    "    df.iloc[ (ii*12)+7,2] = output[layers[7]]['bn_vals'][i]\n",
    "    df.iloc[ (ii*12)+8,2] = output[layers[8]]['bn_vals'][i]\n",
    "    df.iloc[ (ii*12)+9,2] = output[layers[9]]['bn_vals'][i]\n",
    "    df.iloc[ (ii*12)+10,2] = output[layers[10]]['bn_vals'][i]\n",
    "    df.iloc[ (ii*12)+11,2] = output[layers[11]]['bn_vals'][i]\n",
    "    # std\n",
    "    df.iloc[ ii*12,3] = output[layers[0]]['bn_stds'][i]\n",
    "    df.iloc[ (ii*12)+1,3] = output[layers[1]]['bn_stds'][i]\n",
    "    df.iloc[ (ii*12)+2,3] = output[layers[2]]['bn_stds'][i]\n",
    "    df.iloc[ (ii*12)+3,3] = output[layers[3]]['bn_stds'][i]\n",
    "    df.iloc[ (ii*12)+4,3] = output[layers[4]]['bn_stds'][i]\n",
    "    df.iloc[ (ii*12)+5,3] = output[layers[5]]['bn_stds'][i]\n",
    "    df.iloc[ (ii*12)+6,3] = output[layers[6]]['bn_stds'][i]\n",
    "    df.iloc[ (ii*12)+7,3] = output[layers[7]]['bn_stds'][i]\n",
    "    df.iloc[ (ii*12)+8,3] = output[layers[8]]['bn_stds'][i]\n",
    "    df.iloc[ (ii*12)+9,3] = output[layers[9]]['bn_stds'][i]\n",
    "    df.iloc[ (ii*12)+10,3] = output[layers[10]]['bn_stds'][i]\n",
    "    df.iloc[ (ii*12)+11,3] = output[layers[11]]['bn_stds'][i]\n",
    "    "
   ]
  },
  {
   "cell_type": "code",
   "execution_count": 130,
   "metadata": {},
   "outputs": [],
   "source": [
    "import seaborn as sns"
   ]
  },
  {
   "cell_type": "code",
   "execution_count": 132,
   "metadata": {},
   "outputs": [],
   "source": [
    "val_pos = df[['layers','concepts','mean']].pivot(index='concepts', columns='layers').values"
   ]
  },
  {
   "cell_type": "code",
   "execution_count": 161,
   "metadata": {},
   "outputs": [
    {
     "data": {
      "image/png": "[encoded data removed]",
      "text/plain": [
       "<Figure size 700x500 with 1 Axes>"
      ]
     },
     "metadata": {},
     "output_type": "display_data"
    }
   ],
   "source": [
    "fig1, ax1 = plt.subplots(figsize = (7,5))\n",
    "plt.tick_params(axis='both', which='major', labelsize='x-large')\n",
    "plt.axhline(y = 0.5, color = 'lightgrey', linestyle = '--',lw = 0.8)\n",
    "plt.axhline(y = 0, color = 'lightgrey', linestyle = '-',lw = 0.8)\n",
    "plt.axhline(y = 1, color = 'lightgrey', linestyle = '-',lw = 0.8)\n",
    "ax1.set_title('Positive Sentiment', fontsize = 20)\n",
    "bplot1 = ax1.boxplot(val_pos, patch_artist=True)\n",
    "ax1.set_ylabel('TCAV score', fontsize = 'xx-large')\n",
    "ax1.set_xlabel('Layer', fontsize = 'xx-large')\n",
    "plt.xticks(np.arange(1,13), [0,1,2,3,4,5,6,7,8,9,10,11])\n",
    "# fill with colors\n",
    "colors = [sns.color_palette(\"Paired\")[0],sns.color_palette(\"Paired\")[1],sns.color_palette(\"Paired\")[2],sns.color_palette(\"Paired\")[3],sns.color_palette(\"Paired\")[4],\n",
    "sns.color_palette(\"Paired\")[5],sns.color_palette(\"Paired\")[6],sns.color_palette(\"Paired\")[7],sns.color_palette(\"Paired\")[8],sns.color_palette(\"Paired\")[9],\n",
    "sns.color_palette(\"Paired\")[10],sns.color_palette(\"Paired\")[11]]\n",
    "\n",
    "for patch, color in zip(bplot1['boxes'], colors):\n",
    "    patch.set_facecolor(color)\n",
    "\n",
    "for median in bplot1['medians']:\n",
    "    median.set(color='black', linewidth=2)\n",
    "plt.tight_layout()\n",
    "plt.savefig(f'/zhome/94/5/127021/speciale/master_project/src/visualization/figures/tcav_all_bar_pos_sent.pdf',format='pdf',pad_inches=0)\n",
    "\n",
    "plt.show()"
   ]
  },
  {
   "cell_type": "code",
   "execution_count": 153,
   "metadata": {},
   "outputs": [],
   "source": []
  },
  {
   "attachments": {},
   "cell_type": "markdown",
   "metadata": {},
   "source": [
    "### Negative"
   ]
  },
  {
   "cell_type": "code",
   "execution_count": 135,
   "metadata": {},
   "outputs": [],
   "source": [
    "layer_nr = [0,1,2,3,4,5,6,7,8,9,10,11] * len(concepts)\n",
    "df = pd.DataFrame(layer_nr,columns=['layers'])\n",
    "df['concepts'] = 'none'\n",
    "df['mean'] = 100\n",
    "df['std'] = 100"
   ]
  },
  {
   "cell_type": "code",
   "execution_count": 136,
   "metadata": {},
   "outputs": [],
   "source": [
    "output = neg_spo\n",
    "for i, fold in enumerate(folders):\n",
    "    # concept\n",
    "    df.iloc[(i*12):((i*12)+12),1] = fold\n",
    "    # mean\n",
    "    df.iloc[ i*12, 2] = output[layers[0]]['bn_vals'][i]\n",
    "    df.iloc[ (i*12)+1,2] = output[layers[1]]['bn_vals'][i]\n",
    "    df.iloc[ (i*12)+2,2] = output[layers[2]]['bn_vals'][i]\n",
    "    df.iloc[ (i*12)+3,2] = output[layers[3]]['bn_vals'][i]\n",
    "    df.iloc[ (i*12)+4,2] = output[layers[4]]['bn_vals'][i]\n",
    "    df.iloc[ (i*12)+5,2] = output[layers[5]]['bn_vals'][i]\n",
    "    df.iloc[ (i*12)+6,2] = output[layers[6]]['bn_vals'][i]\n",
    "    df.iloc[ (i*12)+7,2] = output[layers[7]]['bn_vals'][i]\n",
    "    df.iloc[ (i*12)+8,2] = output[layers[8]]['bn_vals'][i]\n",
    "    df.iloc[ (i*12)+9,2] = output[layers[9]]['bn_vals'][i]\n",
    "    df.iloc[ (i*12)+10,2] = output[layers[10]]['bn_vals'][i]\n",
    "    df.iloc[ (i*12)+11,2] = output[layers[11]]['bn_vals'][i]\n",
    "    # std\n",
    "    df.iloc[ i*12,3] = output[layers[0]]['bn_stds'][i]\n",
    "    df.iloc[ (i*12)+1,3] = output[layers[1]]['bn_stds'][i]\n",
    "    df.iloc[ (i*12)+2,3] = output[layers[2]]['bn_stds'][i]\n",
    "    df.iloc[ (i*12)+3,3] = output[layers[3]]['bn_stds'][i]\n",
    "    df.iloc[ (i*12)+4,3] = output[layers[4]]['bn_stds'][i]\n",
    "    df.iloc[ (i*12)+5,3] = output[layers[5]]['bn_stds'][i]\n",
    "    df.iloc[ (i*12)+6,3] = output[layers[6]]['bn_stds'][i]\n",
    "    df.iloc[ (i*12)+7,3] = output[layers[7]]['bn_stds'][i]\n",
    "    df.iloc[ (i*12)+8,3] = output[layers[8]]['bn_stds'][i]\n",
    "    df.iloc[ (i*12)+9,3] = output[layers[9]]['bn_stds'][i]\n",
    "    df.iloc[ (i*12)+10,3] = output[layers[10]]['bn_stds'][i]\n",
    "    df.iloc[ (i*12)+11,3] = output[layers[11]]['bn_stds'][i]"
   ]
  },
  {
   "cell_type": "code",
   "execution_count": 137,
   "metadata": {},
   "outputs": [],
   "source": [
    "j = i \n",
    "output = neg_gen\n",
    "for i, fold in enumerate(['gender','intersex','man','woman']):\n",
    "    # concept\n",
    "    ii = i + j + 1\n",
    "    df.iloc[(ii*12):((ii*12)+12),1] = fold\n",
    "    # mean\n",
    "    df.iloc[ ii*12, 2] = output[layers[0]]['bn_vals'][i]\n",
    "    df.iloc[ (ii*12)+1,2] = output[layers[1]]['bn_vals'][i]\n",
    "    df.iloc[ (ii*12)+2,2] = output[layers[2]]['bn_vals'][i]\n",
    "    df.iloc[ (ii*12)+3,2] = output[layers[3]]['bn_vals'][i]\n",
    "    df.iloc[ (ii*12)+4,2] = output[layers[4]]['bn_vals'][i]\n",
    "    df.iloc[ (ii*12)+5,2] = output[layers[5]]['bn_vals'][i]\n",
    "    df.iloc[ (ii*12)+6,2] = output[layers[6]]['bn_vals'][i]\n",
    "    df.iloc[ (ii*12)+7,2] = output[layers[7]]['bn_vals'][i]\n",
    "    df.iloc[ (ii*12)+8,2] = output[layers[8]]['bn_vals'][i]\n",
    "    df.iloc[ (ii*12)+9,2] = output[layers[9]]['bn_vals'][i]\n",
    "    df.iloc[ (ii*12)+10,2] = output[layers[10]]['bn_vals'][i]\n",
    "    df.iloc[ (ii*12)+11,2] = output[layers[11]]['bn_vals'][i]\n",
    "    # std\n",
    "    df.iloc[ ii*12,3] = output[layers[0]]['bn_stds'][i]\n",
    "    df.iloc[ (ii*12)+1,3] = output[layers[1]]['bn_stds'][i]\n",
    "    df.iloc[ (ii*12)+2,3] = output[layers[2]]['bn_stds'][i]\n",
    "    df.iloc[ (ii*12)+3,3] = output[layers[3]]['bn_stds'][i]\n",
    "    df.iloc[ (ii*12)+4,3] = output[layers[4]]['bn_stds'][i]\n",
    "    df.iloc[ (ii*12)+5,3] = output[layers[5]]['bn_stds'][i]\n",
    "    df.iloc[ (ii*12)+6,3] = output[layers[6]]['bn_stds'][i]\n",
    "    df.iloc[ (ii*12)+7,3] = output[layers[7]]['bn_stds'][i]\n",
    "    df.iloc[ (ii*12)+8,3] = output[layers[8]]['bn_stds'][i]\n",
    "    df.iloc[ (ii*12)+9,3] = output[layers[9]]['bn_stds'][i]\n",
    "    df.iloc[ (ii*12)+10,3] = output[layers[10]]['bn_stds'][i]\n",
    "    df.iloc[ (ii*12)+11,3] = output[layers[11]]['bn_stds'][i]\n",
    "    "
   ]
  },
  {
   "cell_type": "code",
   "execution_count": 138,
   "metadata": {},
   "outputs": [],
   "source": [
    "j = ii \n",
    "output = neg_twe\n",
    "for i, fold in enumerate(['hate','irony','offensive']):\n",
    "    # concept\n",
    "    ii = i + j +1\n",
    "    df.iloc[(ii*12):((ii*12)+12),1] = fold\n",
    "    # mean\n",
    "    df.iloc[ ii*12, 2] = output[layers[0]]['bn_vals'][i]\n",
    "    df.iloc[ (ii*12)+1,2] = output[layers[1]]['bn_vals'][i]\n",
    "    df.iloc[ (ii*12)+2,2] = output[layers[2]]['bn_vals'][i]\n",
    "    df.iloc[ (ii*12)+3,2] = output[layers[3]]['bn_vals'][i]\n",
    "    df.iloc[ (ii*12)+4,2] = output[layers[4]]['bn_vals'][i]\n",
    "    df.iloc[ (ii*12)+5,2] = output[layers[5]]['bn_vals'][i]\n",
    "    df.iloc[ (ii*12)+6,2] = output[layers[6]]['bn_vals'][i]\n",
    "    df.iloc[ (ii*12)+7,2] = output[layers[7]]['bn_vals'][i]\n",
    "    df.iloc[ (ii*12)+8,2] = output[layers[8]]['bn_vals'][i]\n",
    "    df.iloc[ (ii*12)+9,2] = output[layers[9]]['bn_vals'][i]\n",
    "    df.iloc[ (ii*12)+10,2] = output[layers[10]]['bn_vals'][i]\n",
    "    df.iloc[ (ii*12)+11,2] = output[layers[11]]['bn_vals'][i]\n",
    "    # std\n",
    "    df.iloc[ ii*12,3] = output[layers[0]]['bn_stds'][i]\n",
    "    df.iloc[ (ii*12)+1,3] = output[layers[1]]['bn_stds'][i]\n",
    "    df.iloc[ (ii*12)+2,3] = output[layers[2]]['bn_stds'][i]\n",
    "    df.iloc[ (ii*12)+3,3] = output[layers[3]]['bn_stds'][i]\n",
    "    df.iloc[ (ii*12)+4,3] = output[layers[4]]['bn_stds'][i]\n",
    "    df.iloc[ (ii*12)+5,3] = output[layers[5]]['bn_stds'][i]\n",
    "    df.iloc[ (ii*12)+6,3] = output[layers[6]]['bn_stds'][i]\n",
    "    df.iloc[ (ii*12)+7,3] = output[layers[7]]['bn_stds'][i]\n",
    "    df.iloc[ (ii*12)+8,3] = output[layers[8]]['bn_stds'][i]\n",
    "    df.iloc[ (ii*12)+9,3] = output[layers[9]]['bn_stds'][i]\n",
    "    df.iloc[ (ii*12)+10,3] = output[layers[10]]['bn_stds'][i]\n",
    "    df.iloc[ (ii*12)+11,3] = output[layers[11]]['bn_stds'][i]\n",
    "    "
   ]
  },
  {
   "cell_type": "code",
   "execution_count": 139,
   "metadata": {},
   "outputs": [],
   "source": [
    "val_neg = df[['layers','concepts','mean']].pivot(index='concepts', columns='layers').values"
   ]
  },
  {
   "cell_type": "code",
   "execution_count": 162,
   "metadata": {},
   "outputs": [
    {
     "data": {
      "image/png": "[encoded data removed]",
      "text/plain": [
       "<Figure size 700x500 with 1 Axes>"
      ]
     },
     "metadata": {},
     "output_type": "display_data"
    }
   ],
   "source": [
    "fig1, ax1 = plt.subplots(figsize = (7,5))\n",
    "plt.tick_params(axis='both', which='major', labelsize='x-large')\n",
    "plt.axhline(y = 0.5, color = 'lightgrey', linestyle = '--',lw = 0.8)\n",
    "plt.axhline(y = 0, color = 'lightgrey', linestyle = '-',lw = 0.8)\n",
    "plt.axhline(y = 1, color = 'lightgrey', linestyle = '-',lw = 0.8)\n",
    "ax1.set_title('Negative Sentiment', fontsize = 20)\n",
    "bplot1 = ax1.boxplot(val_neg, patch_artist=True)\n",
    "ax1.set_ylabel('TCAV score', fontsize = 'xx-large')\n",
    "ax1.set_xlabel('Layer', fontsize = 'xx-large')\n",
    "plt.xticks(np.arange(1,13), [0,1,2,3,4,5,6,7,8,9,10,11])\n",
    "\n",
    "# fill with colors\n",
    "colors = [sns.color_palette(\"Paired\")[0],sns.color_palette(\"Paired\")[1],sns.color_palette(\"Paired\")[2],sns.color_palette(\"Paired\")[3],sns.color_palette(\"Paired\")[4],\n",
    "sns.color_palette(\"Paired\")[5],sns.color_palette(\"Paired\")[6],sns.color_palette(\"Paired\")[7],sns.color_palette(\"Paired\")[8],sns.color_palette(\"Paired\")[9],\n",
    "sns.color_palette(\"Paired\")[10],sns.color_palette(\"Paired\")[11]]\n",
    "\n",
    "for patch, color in zip(bplot1['boxes'], colors):\n",
    "    patch.set_facecolor(color)\n",
    "\n",
    "for median in bplot1['medians']:\n",
    "    median.set(color='black', linewidth=2)\n",
    "plt.tight_layout()\n",
    "plt.savefig(f'/zhome/94/5/127021/speciale/master_project/src/visualization/figures/tcav_all_bar_neg_sent.pdf',format='pdf',pad_inches=0)\n",
    "plt.show()"
   ]
  },
  {
   "cell_type": "code",
   "execution_count": 155,
   "metadata": {},
   "outputs": [],
   "source": []
  },
  {
   "cell_type": "code",
   "execution_count": null,
   "metadata": {},
   "outputs": [],
   "source": []
  }
 ],
 "metadata": {
  "kernelspec": {
   "display_name": "roberta_env",
   "language": "python",
   "name": "python3"
  },
  "language_info": {
   "codemirror_mode": {
    "name": "ipython",
    "version": 3
   },
   "file_extension": ".py",
   "mimetype": "text/x-python",
   "name": "python",
   "nbconvert_exporter": "python",
   "pygments_lexer": "ipython3",
   "version": "3.9.13 (main, Oct 13 2022, 21:15:33) \n[GCC 11.2.0]"
  },
  "orig_nbformat": 4,
  "vscode": {
   "interpreter": {
    "hash": "2c3ec90920587dcd62ca10f98568309ae5fe8dd1757bd16b3e1a83d20ad0c067"
   }
  }
 },
 "nbformat": 4,
 "nbformat_minor": 2
}
