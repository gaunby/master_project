{
 "cells": [
  {
   "attachments": {},
   "cell_type": "markdown",
   "metadata": {},
   "source": [
    "# Notebook to export TCAV Accuracy results "
   ]
  },
  {
   "cell_type": "code",
   "execution_count": 2,
   "metadata": {},
   "outputs": [],
   "source": [
    "import pickle\n",
    "import numpy as np\n",
    "import pandas as pd"
   ]
  },
  {
   "cell_type": "code",
   "execution_count": 21,
   "metadata": {},
   "outputs": [],
   "source": [
    "PATH = '/work3/s174498/nlp_tcav_results/'\n",
    "PATH_save = '/zhome/94/5/127021/speciale/master_project/src/visualization/table/'"
   ]
  },
  {
   "cell_type": "code",
   "execution_count": 5,
   "metadata": {},
   "outputs": [],
   "source": [
    "layers = ['roberta.encoder.layer.0.output.dropout',\n",
    "             'roberta.encoder.layer.1.output.dropout',\n",
    "             'roberta.encoder.layer.2.output.dropout',\n",
    "             'roberta.encoder.layer.3.output.dropout',\n",
    "             'roberta.encoder.layer.4.output.dropout',\n",
    "             'roberta.encoder.layer.5.output.dropout',\n",
    "             'roberta.encoder.layer.6.output.dropout',\n",
    "             'roberta.encoder.layer.7.output.dropout',\n",
    "             'roberta.encoder.layer.8.output.dropout',\n",
    "             'roberta.encoder.layer.9.output.dropout',\n",
    "             'roberta.encoder.layer.10.output.dropout',\n",
    "             'roberta.encoder.layer.11.output.dropout'\n",
    "            ]\n"
   ]
  },
  {
   "cell_type": "code",
   "execution_count": 25,
   "metadata": {},
   "outputs": [
    {
     "name": "stdout",
     "output_type": "stream",
     "text": [
      "got that data\n"
     ]
    }
   ],
   "source": [
    "target = 'positive'\n",
    "\n",
    "results = '_gender_layer_dropout_0_11_probs'\n",
    "with open(PATH + target+results + '.pkl','rb') as handle:\n",
    "    data = pickle.load(handle)\n",
    "    print('got that data')\n",
    "\n",
    "concepts = list(data[target].keys())\n",
    "\n",
    "col = []\n",
    "mat = np.zeros((12,len(concepts)+1))\n",
    "mat[:,0] = range(12)\n",
    "col = [None]* (len(concepts)+1)\n",
    "col[0] = 'layer'\n",
    "correct = 1\n",
    "for j, con in enumerate(concepts):\n",
    "    if con == 'random':\n",
    "        j = -1\n",
    "        correct = 0\n",
    "    for i, lay in enumerate(layers):\n",
    "        acc = np.around(np.mean(data[target][con][lay]['acc']),4)\n",
    "        mat[i,j+correct] = acc\n",
    "        col[j+correct] = con\n",
    "        "
   ]
  },
  {
   "cell_type": "code",
   "execution_count": 28,
   "metadata": {},
   "outputs": [],
   "source": [
    "\n",
    "random_wiki = pd.DataFrame(mat,columns = col)\n",
    "random_wiki['layer'] = random_wiki['layer'].astype('int')\n",
    "random_wiki['random'] = random_wiki['random'].astype('float64')\n",
    "#"
   ]
  },
  {
   "cell_type": "code",
   "execution_count": 31,
   "metadata": {},
   "outputs": [
    {
     "name": "stderr",
     "output_type": "stream",
     "text": [
      "/tmp/ipykernel_3439/3000843035.py:1: FutureWarning: In future versions `DataFrame.to_latex` is expected to utilise the base implementation of `Styler.to_latex` for formatting and rendering. The arguments signature may therefore change. It is recommended instead to use `DataFrame.style.to_latex` which also contains additional functionality.\n",
      "  table = random_wiki.to_latex(index = False)\n"
     ]
    }
   ],
   "source": [
    "table = random_wiki.to_latex(index = False)\n",
    "with open(PATH_save+\"gender_concept.tex\", \"w\") as f:\n",
    "    f.write(table)"
   ]
  },
  {
   "cell_type": "code",
   "execution_count": 32,
   "metadata": {},
   "outputs": [
    {
     "name": "stdout",
     "output_type": "stream",
     "text": [
      "got that data\n"
     ]
    }
   ],
   "source": [
    "target = 'positive'\n",
    "\n",
    "results = '_tweets_layer_dropout_0_11_probs'\n",
    "with open(PATH + target+results + '.pkl','rb') as handle:\n",
    "    data = pickle.load(handle)\n",
    "    print('got that data')\n",
    "\n",
    "concepts = list(data[target].keys())\n",
    "\n",
    "col = []\n",
    "mat = np.zeros((12,len(concepts)+1))\n",
    "mat[:,0] = range(12)\n",
    "col = [None]* (len(concepts)+1)\n",
    "col[0] = 'layer'\n",
    "correct = 1\n",
    "for j, con in enumerate(concepts):\n",
    "    if con == 'random':\n",
    "        j = -1\n",
    "        correct = 0\n",
    "    for i, lay in enumerate(layers):\n",
    "        acc = np.around(np.mean(data[target][con][lay]['acc']),4)\n",
    "        mat[i,j+correct] = acc\n",
    "        col[j+correct] = con"
   ]
  },
  {
   "cell_type": "code",
   "execution_count": 33,
   "metadata": {},
   "outputs": [],
   "source": [
    "random_wiki = pd.DataFrame(mat,columns = col)\n",
    "random_wiki['layer'] = random_wiki['layer'].astype('int')\n",
    "#random_wiki['random'] = random_wiki['random'].astype('float64')"
   ]
  },
  {
   "cell_type": "code",
   "execution_count": 34,
   "metadata": {},
   "outputs": [
    {
     "name": "stderr",
     "output_type": "stream",
     "text": [
      "/tmp/ipykernel_3439/3480837285.py:1: FutureWarning: In future versions `DataFrame.to_latex` is expected to utilise the base implementation of `Styler.to_latex` for formatting and rendering. The arguments signature may therefore change. It is recommended instead to use `DataFrame.style.to_latex` which also contains additional functionality.\n",
      "  table = random_wiki.to_latex(index = False)\n"
     ]
    }
   ],
   "source": [
    "table = random_wiki.to_latex(index = False)\n",
    "with open(PATH_save+\"tweets_concept.tex\", \"w\") as f:\n",
    "    f.write(table)"
   ]
  }
 ],
 "metadata": {
  "kernelspec": {
   "display_name": "roberta_env",
   "language": "python",
   "name": "python3"
  },
  "language_info": {
   "codemirror_mode": {
    "name": "ipython",
    "version": 3
   },
   "file_extension": ".py",
   "mimetype": "text/x-python",
   "name": "python",
   "nbconvert_exporter": "python",
   "pygments_lexer": "ipython3",
   "version": "3.9.13 (main, Oct 13 2022, 21:15:33) \n[GCC 11.2.0]"
  },
  "orig_nbformat": 4,
  "vscode": {
   "interpreter": {
    "hash": "2c3ec90920587dcd62ca10f98568309ae5fe8dd1757bd16b3e1a83d20ad0c067"
   }
  }
 },
 "nbformat": 4,
 "nbformat_minor": 2
}
