{
 "cells": [
  {
   "cell_type": "code",
   "execution_count": null,
   "metadata": {},
   "outputs": [],
   "source": [
    "from datasets import load_from_disk, load_metric\n",
    "from transformers import RobertaTokenizer, RobertaForSequenceClassification, RobertaConfig, Trainer\n",
    "import numpy as np\n",
    "import pyarrow as pa\n",
    "import pandas as pd\n",
    "\n",
    "import os\n",
    "import sys\n",
    "sys.path.insert(0, '/zhome/a6/6/127219/Speciale/master_project')\n",
    "from src.models.transformers_modeling_roberta import RobertaForSequenceClassification_fromTransformersLinear, RobertaForSequenceClassification_fromTransformers"
   ]
  },
  {
   "cell_type": "code",
   "execution_count": null,
   "metadata": {},
   "outputs": [],
   "source": [
    "# load\n",
    "datadir = '/work3/s174498/sst2_dataset/'\n",
    "checkpoint_lin = \"/work3/s174498/final/Prob_linear_head/checkpoint-2500\"\n",
    "checkpoint_ori = \"/work3/s174498/final/Prob_original_head/checkpoint-1500\"\n",
    "\n",
    "# test data\n",
    "test_dataset = load_from_disk(datadir + 'test_dataset')\n",
    "\n",
    "# tokenizer\n",
    "tokenizer_lin = RobertaTokenizer.from_pretrained(checkpoint_lin)\n",
    "tokenizer_lin.model_max_len=512\n",
    "\n",
    "tokenizer_ori = RobertaTokenizer.from_pretrained(checkpoint_ori)\n",
    "tokenizer_ori.model_max_len=512\n",
    "\n",
    "# model\n",
    "config_lin = RobertaConfig.from_pretrained(checkpoint_lin)\n",
    "config_lin.output_hidden_states = True\n",
    "\n",
    "config_ori = RobertaConfig.from_pretrained(checkpoint_ori)\n",
    "config_ori.output_hidden_states = True\n",
    "\n",
    "model_lin = RobertaForSequenceClassification_fromTransformers.from_pretrained(checkpoint_lin, config=config_lin)\n",
    "model_ori = RobertaForSequenceClassification_fromTransformers.from_pretrained(checkpoint_ori, config=config_ori)"
   ]
  },
  {
   "cell_type": "code",
   "execution_count": null,
   "metadata": {},
   "outputs": [],
   "source": [
    "# Prepare the text inputs for the model\n",
    "def preprocess_function(examples):\n",
    "    return tokenizer_lin(examples[\"sentence\"], truncation=True, max_length=512)"
   ]
  },
  {
   "cell_type": "code",
   "execution_count": null,
   "metadata": {},
   "outputs": [],
   "source": [
    "tokenized_test_lin = test_dataset.map(preprocess_function, batched=True)"
   ]
  },
  {
   "cell_type": "code",
   "execution_count": null,
   "metadata": {},
   "outputs": [],
   "source": [
    "trainer = Trainer(\n",
    "    model=model_lin,                        \n",
    "    tokenizer=tokenizer_lin\n",
    ")"
   ]
  },
  {
   "cell_type": "code",
   "execution_count": null,
   "metadata": {},
   "outputs": [],
   "source": [
    "# Predicting with model\n",
    "predictions = trainer.predict(tokenized_test_lin)\n"
   ]
  },
  {
   "cell_type": "code",
   "execution_count": null,
   "metadata": {},
   "outputs": [],
   "source": [
    "pred_dataset_test = list(np.argmax(predictions.predictions[0], axis=-1))\n",
    "true_dataset_test = predictions.label_ids"
   ]
  },
  {
   "cell_type": "code",
   "execution_count": null,
   "metadata": {},
   "outputs": [],
   "source": [
    "# compute accuracy (LINEAR)\n",
    "accuracy_metric = load_metric(\"accuracy\")\n",
    "accuracy_metric.compute(predictions=pred_dataset_test, references=true_dataset_test)"
   ]
  },
  {
   "cell_type": "code",
   "execution_count": null,
   "metadata": {},
   "outputs": [],
   "source": [
    "# Prepare the text inputs for the model\n",
    "def preprocess_function(examples):\n",
    "    return tokenizer_ori(examples[\"sentence\"], truncation=True, max_length=512)"
   ]
  },
  {
   "cell_type": "code",
   "execution_count": null,
   "metadata": {},
   "outputs": [],
   "source": [
    "tokenized_test_ori = test_dataset.map(preprocess_function, batched=True)"
   ]
  },
  {
   "cell_type": "code",
   "execution_count": null,
   "metadata": {},
   "outputs": [],
   "source": [
    "trainer = Trainer(\n",
    "    model=model_ori,                        \n",
    "    tokenizer=tokenizer_ori\n",
    ")"
   ]
  },
  {
   "cell_type": "code",
   "execution_count": null,
   "metadata": {},
   "outputs": [],
   "source": [
    "# Predicting with model\n",
    "predictions = trainer.predict(tokenized_test_ori)"
   ]
  },
  {
   "cell_type": "code",
   "execution_count": null,
   "metadata": {},
   "outputs": [],
   "source": [
    "pred_dataset_test = list(np.argmax(predictions.predictions[0], axis=-1))\n",
    "true_dataset_test = predictions.label_ids"
   ]
  },
  {
   "cell_type": "code",
   "execution_count": null,
   "metadata": {},
   "outputs": [],
   "source": [
    "# compute accuracy (Originally head)\n",
    "accuracy_metric = load_metric(\"accuracy\")\n",
    "accuracy_metric.compute(predictions=pred_dataset_test, references=true_dataset_test)"
   ]
  },
  {
   "attachments": {},
   "cell_type": "markdown",
   "metadata": {},
   "source": [
    "## SST2 Data describtion"
   ]
  },
  {
   "cell_type": "code",
   "execution_count": null,
   "metadata": {},
   "outputs": [],
   "source": [
    "datadir = '/work3/s174498/sst2_dataset/'\n",
    "\n",
    "train_dataset = load_from_disk(datadir + 'train_dataset')\n",
    "validation_dataset = load_from_disk(datadir + 'validation_dataset')\n",
    "test_dataset = load_from_disk(datadir + 'test_dataset')"
   ]
  },
  {
   "cell_type": "code",
   "execution_count": null,
   "metadata": {},
   "outputs": [],
   "source": [
    "df_train = pd.DataFrame({'Sentences':train_dataset['sentence']})\n",
    "\n",
    "word_in_sentence = []\n",
    "for i in range(len(df_train['Sentences'])):\n",
    "    word_in_sentence.append(len(df_train['Sentences'][i].split()))\n",
    "\n",
    "df_train['words in sentences'] = word_in_sentence"
   ]
  },
  {
   "cell_type": "code",
   "execution_count": null,
   "metadata": {},
   "outputs": [],
   "source": [
    "df_validation = pd.DataFrame({'Sentences':validation_dataset['sentence']})\n",
    "\n",
    "word_in_sentence = []\n",
    "for i in range(len(df_validation['Sentences'])):\n",
    "    word_in_sentence.append(len(df_validation['Sentences'][i].split()))\n",
    "\n",
    "df_validation['words in sentences'] = word_in_sentence"
   ]
  },
  {
   "cell_type": "code",
   "execution_count": null,
   "metadata": {},
   "outputs": [],
   "source": [
    "df_test = pd.DataFrame({'Sentences':test_dataset['sentence']})\n",
    "\n",
    "word_in_sentence = []\n",
    "for i in range(len(df_test['Sentences'])):\n",
    "    word_in_sentence.append(len(df_test['Sentences'][i].split()))\n",
    "\n",
    "df_test['words in sentences'] = word_in_sentence"
   ]
  },
  {
   "cell_type": "code",
   "execution_count": null,
   "metadata": {},
   "outputs": [],
   "source": [
    "from transformers import RobertaTokenizer\n",
    "tokenizer_pretrained = RobertaTokenizer.from_pretrained('roberta-base')"
   ]
  },
  {
   "cell_type": "code",
   "execution_count": null,
   "metadata": {},
   "outputs": [],
   "source": [
    "tokens_random = []\n",
    "for i in list(df_train['Sentences'].index):\n",
    "    numb_tokens = len(tokenizer_pretrained.encode(df_train['Sentences'][i]))\n",
    "    tokens_random.append(numb_tokens)\n",
    "\n",
    "tokens_woman = []\n",
    "for i in list(df_validation['Sentences'].index):\n",
    "    numb_tokens = len(tokenizer_pretrained.encode(df_validation['Sentences'][i]))\n",
    "    tokens_woman.append(numb_tokens)\n",
    "\n",
    "tokens_man = []\n",
    "for i in list(df_test['Sentences'].index):\n",
    "    numb_tokens = len(tokenizer_pretrained.encode(df_test['Sentences'][i]))\n",
    "    tokens_man.append(numb_tokens)\n"
   ]
  },
  {
   "attachments": {},
   "cell_type": "markdown",
   "metadata": {},
   "source": [
    "TRAIN"
   ]
  },
  {
   "cell_type": "code",
   "execution_count": null,
   "metadata": {},
   "outputs": [],
   "source": [
    "print(np.mean(tokens_random))\n",
    "print(np.min(tokens_random))\n",
    "print(np.max(tokens_random))"
   ]
  },
  {
   "attachments": {},
   "cell_type": "markdown",
   "metadata": {},
   "source": [
    "VALIDATION"
   ]
  },
  {
   "cell_type": "code",
   "execution_count": null,
   "metadata": {},
   "outputs": [],
   "source": [
    "print(np.mean(tokens_woman))\n",
    "print(np.min(tokens_woman))\n",
    "print(np.max(tokens_woman))"
   ]
  },
  {
   "attachments": {},
   "cell_type": "markdown",
   "metadata": {},
   "source": [
    "TEST"
   ]
  },
  {
   "cell_type": "code",
   "execution_count": null,
   "metadata": {},
   "outputs": [],
   "source": [
    "print(np.mean(tokens_man))\n",
    "print(np.min(tokens_man))\n",
    "print(np.max(tokens_man))"
   ]
  },
  {
   "cell_type": "code",
   "execution_count": null,
   "metadata": {},
   "outputs": [],
   "source": []
  }
 ],
 "metadata": {
  "kernelspec": {
   "display_name": "Python 3.7.13 ('sent_env')",
   "language": "python",
   "name": "python3"
  },
  "language_info": {
   "codemirror_mode": {
    "name": "ipython",
    "version": 3
   },
   "file_extension": ".py",
   "mimetype": "text/x-python",
   "name": "python",
   "nbconvert_exporter": "python",
   "pygments_lexer": "ipython3",
   "version": "3.7.13"
  },
  "orig_nbformat": 4,
  "vscode": {
   "interpreter": {
    "hash": "9738a1daac20355f138ac5f9490b2e4e7176effdeaa1fb550cd3c1d19d286cfb"
   }
  }
 },
 "nbformat": 4,
 "nbformat_minor": 2
}
