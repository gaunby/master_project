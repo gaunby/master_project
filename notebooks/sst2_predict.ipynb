{
 "cells": [
  {
   "cell_type": "code",
   "execution_count": 2,
   "metadata": {},
   "outputs": [],
   "source": [
    "from datasets import load_from_disk, load_metric\n",
    "from transformers import RobertaTokenizer, RobertaForSequenceClassification, RobertaConfig, Trainer\n",
    "import numpy as np\n",
    "import pyarrow as pa\n",
    "import pandas as pd\n",
    "\n",
    "import os\n",
    "import sys\n",
    "sys.path.insert(0, '/zhome/a6/6/127219/Speciale/master_project')\n",
    "from src.models.transformers_modeling_roberta import RobertaForSequenceClassification_fromTransformersLinear, RobertaForSequenceClassification_fromTransformers"
   ]
  },
  {
   "cell_type": "code",
   "execution_count": 4,
   "metadata": {},
   "outputs": [],
   "source": [
    "# load\n",
    "datadir = '/work3/s174498/sst2_dataset/'\n",
    "#checkpoint = \"/work3/s174498/final/Prob_linear_head/checkpoint-2500\"\n",
    "checkpoint = \"/work3/s174498/final/Prob_original_head/checkpoint-1500\"\n",
    "\n",
    "# test data\n",
    "test_dataset = load_from_disk(datadir + 'test_dataset')\n",
    "\n",
    "# tokenizer\n",
    "tokenizer = RobertaTokenizer.from_pretrained(checkpoint)\n",
    "tokenizer.model_max_len=512\n",
    "\n",
    "# model\n",
    "#config = RobertaConfig.from_pretrained(checkpoint, output_attentions=True, output_hidden_states=True)\n",
    "config = RobertaConfig.from_pretrained(checkpoint)\n",
    "config.output_hidden_states = True\n",
    "#config.output_attentions= True\n",
    "model = RobertaForSequenceClassification_fromTransformers.from_pretrained(checkpoint, config=config)"
   ]
  },
  {
   "cell_type": "code",
   "execution_count": 5,
   "metadata": {},
   "outputs": [],
   "source": [
    "# Prepare the text inputs for the model\n",
    "def preprocess_function(examples):\n",
    "    return tokenizer(examples[\"sentence\"], truncation=True, max_length=512)"
   ]
  },
  {
   "cell_type": "code",
   "execution_count": 6,
   "metadata": {},
   "outputs": [
    {
     "name": "stderr",
     "output_type": "stream",
     "text": [
      "Loading cached processed dataset at /work3/s174498/sst2_dataset/test_dataset/cache-3101ebfc3efad1c4.arrow\n"
     ]
    }
   ],
   "source": [
    "tokenized_test = test_dataset.map(preprocess_function, batched=True)"
   ]
  },
  {
   "cell_type": "code",
   "execution_count": 7,
   "metadata": {},
   "outputs": [],
   "source": [
    "trainer = Trainer(\n",
    "    model=model,                        \n",
    "    tokenizer=tokenizer\n",
    ")"
   ]
  },
  {
   "cell_type": "code",
   "execution_count": 8,
   "metadata": {},
   "outputs": [
    {
     "name": "stderr",
     "output_type": "stream",
     "text": [
      "The following columns in the test set don't have a corresponding argument in `RobertaForSequenceClassification_fromTransformers.forward` and have been ignored: sentence, idx. If sentence, idx are not expected by `RobertaForSequenceClassification_fromTransformers.forward`,  you can safely ignore this message.\n",
      "***** Running Prediction *****\n",
      "  Num examples = 1821\n",
      "  Batch size = 8\n"
     ]
    },
    {
     "data": {
      "text/html": [],
      "text/plain": [
       "<IPython.core.display.HTML object>"
      ]
     },
     "metadata": {},
     "output_type": "display_data"
    }
   ],
   "source": [
    "# Predicting with model\n",
    "predictions = trainer.predict(tokenized_test)\n"
   ]
  },
  {
   "cell_type": "code",
   "execution_count": 9,
   "metadata": {},
   "outputs": [],
   "source": [
    "pred_dataset_test = list(np.argmax(predictions.predictions[0], axis=-1))\n",
    "true_dataset_test = predictions.label_ids"
   ]
  },
  {
   "cell_type": "code",
   "execution_count": 10,
   "metadata": {},
   "outputs": [
    {
     "name": "stderr",
     "output_type": "stream",
     "text": [
      "/zhome/a6/6/127219/miniconda3/envs/sent_env/lib/python3.7/site-packages/ipykernel_launcher.py:2: FutureWarning: load_metric is deprecated and will be removed in the next major version of datasets. Use 'evaluate.load' instead, from the new library 🤗 Evaluate: https://huggingface.co/docs/evaluate\n",
      "  \n"
     ]
    },
    {
     "data": {
      "text/plain": [
       "{'accuracy': 0.9275123558484349}"
      ]
     },
     "execution_count": 10,
     "metadata": {},
     "output_type": "execute_result"
    }
   ],
   "source": [
    "# compute accuracy\n",
    "accuracy_metric = load_metric(\"accuracy\")\n",
    "accuracy_metric.compute(predictions=pred_dataset_test, references=true_dataset_test)"
   ]
  },
  {
   "cell_type": "code",
   "execution_count": null,
   "metadata": {},
   "outputs": [],
   "source": []
  },
  {
   "cell_type": "code",
   "execution_count": null,
   "metadata": {},
   "outputs": [],
   "source": []
  }
 ],
 "metadata": {
  "kernelspec": {
   "display_name": "Python 3.7.13 ('sent_env')",
   "language": "python",
   "name": "python3"
  },
  "language_info": {
   "codemirror_mode": {
    "name": "ipython",
    "version": 3
   },
   "file_extension": ".py",
   "mimetype": "text/x-python",
   "name": "python",
   "nbconvert_exporter": "python",
   "pygments_lexer": "ipython3",
   "version": "3.7.13"
  },
  "orig_nbformat": 4,
  "vscode": {
   "interpreter": {
    "hash": "9738a1daac20355f138ac5f9490b2e4e7176effdeaa1fb550cd3c1d19d286cfb"
   }
  }
 },
 "nbformat": 4,
 "nbformat_minor": 2
}
