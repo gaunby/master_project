{
 "cells": [
  {
   "cell_type": "markdown",
   "metadata": {},
   "source": [
    "# Create datasets\n",
    "### Test set is defined af part of the original training datset; Due to hidden labels in the original test set provided by HuggingFace"
   ]
  },
  {
   "cell_type": "code",
   "execution_count": 3,
   "metadata": {},
   "outputs": [],
   "source": [
    "from datasets import load_dataset, Dataset\n",
    "from tqdm import tqdm\n",
    "from more_itertools import roundrobin\n",
    "import pyarrow as pa\n",
    "import pandas as pd"
   ]
  },
  {
   "cell_type": "code",
   "execution_count": 4,
   "metadata": {},
   "outputs": [
    {
     "name": "stderr",
     "output_type": "stream",
     "text": [
      "Found cached dataset sst2 (/zhome/a6/6/127219/.cache/huggingface/datasets/sst2/default/2.0.0/9896208a8d85db057ac50c72282bcb8fe755accc671a57dd8059d4e130961ed5)\n"
     ]
    },
    {
     "data": {
      "application/json": {
       "ascii": false,
       "bar_format": null,
       "colour": null,
       "elapsed": 0.02277994155883789,
       "initial": 0,
       "n": 0,
       "ncols": null,
       "nrows": null,
       "postfix": null,
       "prefix": "",
       "rate": null,
       "total": 3,
       "unit": "it",
       "unit_divisor": 1000,
       "unit_scale": false
      },
      "application/vnd.jupyter.widget-view+json": {
       "model_id": "e2e80146524a4f6483f467c64ad22c2b",
       "version_major": 2,
       "version_minor": 0
      },
      "text/plain": [
       "  0%|          | 0/3 [00:00<?, ?it/s]"
      ]
     },
     "metadata": {},
     "output_type": "display_data"
    }
   ],
   "source": [
    "# Import dataset from HuggingFace\n",
    "dataset = load_dataset(\"sst2\")"
   ]
  },
  {
   "cell_type": "code",
   "execution_count": 5,
   "metadata": {},
   "outputs": [],
   "source": [
    "# validation set\n",
    "validation_dataset = dataset['validation']"
   ]
  },
  {
   "cell_type": "code",
   "execution_count": 6,
   "metadata": {},
   "outputs": [
    {
     "data": {
      "text/plain": [
       "0.963963963963964"
      ]
     },
     "execution_count": 6,
     "metadata": {},
     "output_type": "execute_result"
    }
   ],
   "source": [
    "# Check distribution in validation set\n",
    "validation_dataset['label'].count(0) / validation_dataset['label'].count(1)\n",
    "\n",
    "# Original test set size: 1821\n",
    "# Thus, amount of 0-labels should be 895, while 1-labels should be 926"
   ]
  },
  {
   "cell_type": "code",
   "execution_count": 7,
   "metadata": {},
   "outputs": [
    {
     "name": "stderr",
     "output_type": "stream",
     "text": [
      " 99%|█████████▉| 1989/2000 [06:42<00:02,  4.94it/s]\n"
     ]
    }
   ],
   "source": [
    "# Sample test set from original train data\n",
    "# Using the same distribution as seen in the validation set\n",
    "\n",
    "dataset_test_idx_0 = []\n",
    "dataset_test_sentence_0 = []\n",
    "dataset_test_label_0 = []\n",
    "\n",
    "dataset_test_idx_1 = []\n",
    "dataset_test_sentence_1 = []\n",
    "dataset_test_label_1 = []\n",
    "\n",
    "for i in tqdm(list(range(0,2000))):\n",
    "    if len(dataset_test_label_0) == 895 and len(dataset_test_label_1) == 926:\n",
    "        break\n",
    "    if (dataset[\"train\"][\"label\"][i] == 0):\n",
    "        if len(dataset_test_label_0) < 895:\n",
    "            dataset_test_idx_0.append(dataset[\"train\"][\"idx\"][i])\n",
    "            dataset_test_sentence_0.append(dataset[\"train\"][\"sentence\"][i])\n",
    "            dataset_test_label_0.append(dataset[\"train\"][\"label\"][i])\n",
    "    if (dataset[\"train\"][\"label\"][i] == 1):\n",
    "        if len(dataset_test_label_1) < 926:\n",
    "            dataset_test_idx_1.append(dataset[\"train\"][\"idx\"][i])\n",
    "            dataset_test_sentence_1.append(dataset[\"train\"][\"sentence\"][i])\n",
    "            dataset_test_label_1.append(dataset[\"train\"][\"label\"][i])\n",
    "    "
   ]
  },
  {
   "cell_type": "code",
   "execution_count": 12,
   "metadata": {},
   "outputs": [],
   "source": [
    "# Gather lists containing labels 0 and 1\n",
    "dataset_test_idx = list(roundrobin(dataset_test_idx_0,dataset_test_idx_1))\n",
    "dataset_test_sentence = list(roundrobin(dataset_test_sentence_0,dataset_test_sentence_1))\n",
    "dataset_test_label = list(roundrobin(dataset_test_label_0,dataset_test_label_1))"
   ]
  },
  {
   "cell_type": "code",
   "execution_count": 9,
   "metadata": {},
   "outputs": [],
   "source": [
    "# lists as dictionary\n",
    "test_df = pd.DataFrame({'idx': dataset_test_idx, 'sentence': dataset_test_sentence, 'label': dataset_test_label})\n",
    "\n",
    "# convert to Huggingface dataset\n",
    "test_dataset = Dataset(pa.Table.from_pandas(test_df))"
   ]
  },
  {
   "cell_type": "code",
   "execution_count": 13,
   "metadata": {},
   "outputs": [
    {
     "name": "stderr",
     "output_type": "stream",
     "text": [
      "Loading cached shuffled indices for dataset at /zhome/a6/6/127219/.cache/huggingface/datasets/sst2/default/2.0.0/9896208a8d85db057ac50c72282bcb8fe755accc671a57dd8059d4e130961ed5/cache-da59dc4ea8815b88.arrow\n"
     ]
    }
   ],
   "source": [
    "# The rest of the dataset is defined as train\n",
    "train_dataset = dataset[\"train\"].shuffle(seed=42).select([i for i in list(range(len(test_dataset)+1,len(dataset[\"train\"])))]) # \n",
    "test_dataset = test_dataset.shuffle(seed=42).select([i for i in list(range(0, len(test_dataset)))])"
   ]
  },
  {
   "cell_type": "code",
   "execution_count": 14,
   "metadata": {},
   "outputs": [
    {
     "name": "stdout",
     "output_type": "stream",
     "text": [
      "0.9665226781857451\n",
      "0.963963963963964\n",
      "0.7926572374360518\n"
     ]
    }
   ],
   "source": [
    "# Check distributions\n",
    "print(test_dataset['label'].count(0) / test_dataset['label'].count(1))\n",
    "print(validation_dataset['label'].count(0) / validation_dataset['label'].count(1))\n",
    "print(train_dataset['label'].count(0) / train_dataset['label'].count(1))"
   ]
  },
  {
   "cell_type": "code",
   "execution_count": 15,
   "metadata": {},
   "outputs": [
    {
     "name": "stderr",
     "output_type": "stream",
     "text": [
      "Loading cached processed dataset at /zhome/a6/6/127219/.cache/huggingface/datasets/sst2/default/2.0.0/9896208a8d85db057ac50c72282bcb8fe755accc671a57dd8059d4e130961ed5/cache-137fd86d64e982b4.arrow\n"
     ]
    },
    {
     "data": {
      "application/json": {
       "ascii": false,
       "bar_format": null,
       "colour": null,
       "elapsed": 0.023062705993652344,
       "initial": 0,
       "n": 0,
       "ncols": null,
       "nrows": null,
       "postfix": null,
       "prefix": "Flattening the indices",
       "rate": null,
       "total": 2,
       "unit": "ba",
       "unit_divisor": 1000,
       "unit_scale": false
      },
      "application/vnd.jupyter.widget-view+json": {
       "model_id": "97e1872224a7411c8c30f2eba92a8343",
       "version_major": 2,
       "version_minor": 0
      },
      "text/plain": [
       "Flattening the indices:   0%|          | 0/2 [00:00<?, ?ba/s]"
      ]
     },
     "metadata": {},
     "output_type": "display_data"
    }
   ],
   "source": [
    "# save datasets\n",
    "train_dataset.save_to_disk('/work3/s174498/sst2_dataset/train_dataset')\n",
    "validation_dataset.save_to_disk('/work3/s174498/sst2_dataset/validation_dataset')\n",
    "test_dataset.save_to_disk('/work3/s174498/sst2_dataset/test_dataset')"
   ]
  }
 ],
 "metadata": {
  "kernelspec": {
   "display_name": "Python 3.7.13 ('sent_env')",
   "language": "python",
   "name": "python3"
  },
  "language_info": {
   "codemirror_mode": {
    "name": "ipython",
    "version": 3
   },
   "file_extension": ".py",
   "mimetype": "text/x-python",
   "name": "python",
   "nbconvert_exporter": "python",
   "pygments_lexer": "ipython3",
   "version": "3.7.13"
  },
  "orig_nbformat": 4,
  "vscode": {
   "interpreter": {
    "hash": "9738a1daac20355f138ac5f9490b2e4e7176effdeaa1fb550cd3c1d19d286cfb"
   }
  }
 },
 "nbformat": 4,
 "nbformat_minor": 2
}
