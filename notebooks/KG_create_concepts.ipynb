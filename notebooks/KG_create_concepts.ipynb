{
 "cells": [
  {
   "cell_type": "code",
   "execution_count": 1,
   "metadata": {},
   "outputs": [],
   "source": [
    "# Create concepts using wikipedia (and its knowledge graph) \n",
    "# https://en.wikipedia.org/wiki/List_of_sports\n",
    "\n",
    "# Search of sports: Found a link \"List of sports\""
   ]
  },
  {
   "cell_type": "code",
   "execution_count": 1,
   "metadata": {},
   "outputs": [],
   "source": [
    "import pandas as pd\n",
    "import pyarrow as pa\n",
    "from datasets import load_from_disk, Dataset\n",
    "import os"
   ]
  },
  {
   "cell_type": "code",
   "execution_count": 2,
   "metadata": {},
   "outputs": [],
   "source": [
    "path_dir = '/work3/s174498/concept_random_dataset/wikipedia_20220301/train'\n",
    "wikipedia = load_from_disk(path_dir)\n",
    "\n",
    "titles = wikipedia['title']"
   ]
  },
  {
   "attachments": {},
   "cell_type": "markdown",
   "metadata": {},
   "source": [
    "# Create datasets for sports concepts"
   ]
  },
  {
   "attachments": {},
   "cell_type": "markdown",
   "metadata": {},
   "source": [
    "Acrobatic sports: No 'Main articles'. Thus, all sub-articles are concatenated into one Level II concept, while these sub-articles (if longer than 150 sentences) are saved for Level III concepts."
   ]
  },
  {
   "cell_type": "code",
   "execution_count": 32,
   "metadata": {},
   "outputs": [],
   "source": [
    "acrobatic_sports = ['Ballet',\n",
    "'Breakdancing',\n",
    "'Competitive dancing',\n",
    "'Cheerleading',\n",
    "'Dancesport',\n",
    "'Dragon dance',\n",
    "'Figure skating',\n",
    "'Freerunning',\n",
    "'Gymnastics',\n",
    "'High kick',\n",
    "'Parkour',\n",
    "'Pole sports',\n",
    "'Stunt',\n",
    "'Trampolining',\n",
    "'Winter guard']"
   ]
  },
  {
   "cell_type": "code",
   "execution_count": 33,
   "metadata": {},
   "outputs": [
    {
     "name": "stdout",
     "output_type": "stream",
     "text": [
      "Ballet\n",
      "Breakdancing\n",
      "Cheerleading\n",
      "Figure skating\n",
      "Gymnastics\n",
      "Parkour\n"
     ]
    }
   ],
   "source": [
    "list_of_interest = acrobatic_sports\n",
    "folder_name = 'Acrobatic sports'\n",
    "\n",
    "count_datasets = 0\n",
    "concept_list = []\n",
    "concept_list_saved = []\n",
    "concatenate_phrases = []\n",
    "\n",
    "for i in range(len(list_of_interest)): \n",
    "    if list_of_interest[i] in titles:\n",
    "        concept_list.append(list_of_interest[i])\n",
    "        idx = titles.index(list_of_interest[i])\n",
    "\n",
    "        # Clean up data (\\n references in wiki article)\n",
    "        text_clean = wikipedia[idx][\"text\"].replace('\\n\\n', ' ')\n",
    "        text_clean2 = text_clean.replace('\\n', ' ')\n",
    "        phrase_to_list = text_clean2.split(\". \")\n",
    "\n",
    "        # Save concepts to \"Level II\"\n",
    "        concatenate_phrases = concatenate_phrases + phrase_to_list\n",
    "\n",
    "        # Save concepts to \"Level III\"\n",
    "        if len(phrase_to_list) > 150:\n",
    "            print(list_of_interest[i])\n",
    "            concept_list_saved.append(list_of_interest[i])\n",
    "\n",
    "            df = pd.DataFrame({'id': wikipedia[idx][\"id\"], 'url': wikipedia[idx][\"url\"], \n",
    "            'title': wikipedia[idx][\"title\"], 'text': wikipedia[idx][\"text\"], 'text_list': phrase_to_list})\n",
    "            data_concept = Dataset(pa.Table.from_pandas(df))\n",
    "\n",
    "            # save data\n",
    "            path = os.path.join('/work3/s174498/concept_random_dataset/wikipedia_20220301/sports_concepts/', folder_name)\n",
    "            data_concept.save_to_disk(path + '/' + list_of_interest[i])\n",
    "\n",
    "if len(concatenate_phrases) > 150:\n",
    "    df_levelII = pd.DataFrame({'title': folder_name, 'text_list': concatenate_phrases})\n",
    "    data_concept_levelII = Dataset(pa.Table.from_pandas(df_levelII))\n",
    "\n",
    "    # save data\n",
    "    data_concept_levelII.save_to_disk('/work3/s174498/concept_random_dataset/wikipedia_20220301/sports_concepts/' + folder_name)"
   ]
  },
  {
   "attachments": {},
   "cell_type": "markdown",
   "metadata": {},
   "source": [
    "Next, try all conceps having a 'main articles'"
   ]
  },
  {
   "cell_type": "code",
   "execution_count": 34,
   "metadata": {},
   "outputs": [],
   "source": [
    "list_of_sport = ['Air sports',\n",
    "'Archery', 'Boardsport']"
   ]
  },
  {
   "cell_type": "code",
   "execution_count": 35,
   "metadata": {},
   "outputs": [
    {
     "name": "stdout",
     "output_type": "stream",
     "text": [
      "Air sports\n",
      "5\n",
      "Archery\n",
      "322\n",
      "Boardsport\n",
      "71\n"
     ]
    }
   ],
   "source": [
    "list_of_interest = list_of_sport\n",
    "\n",
    "count_datasets = 0\n",
    "concept_list = []\n",
    "concept_list_saved = []\n",
    "concept_list_notsaved = []\n",
    "\n",
    "for i in range(len(list_of_interest)): \n",
    "    if list_of_interest[i] in titles:\n",
    "        concept_list.append(list_of_interest[i])\n",
    "        idx = titles.index(list_of_interest[i])\n",
    "\n",
    "        # Clean up data (\\n references in wiki article)\n",
    "        text_clean = wikipedia[idx][\"text\"].replace('\\n\\n', ' ')\n",
    "        text_clean2 = text_clean.replace('\\n', ' ')\n",
    "        phrase_to_list = text_clean2.split(\". \")\n",
    "        print(list_of_interest[i])\n",
    "        print(len(phrase_to_list))\n",
    "\n",
    "        if len(phrase_to_list) > 150:\n",
    "            count_datasets = count_datasets + 1\n",
    "            concept_list_saved.append(list_of_interest[i])\n",
    "\n",
    "            df = pd.DataFrame({'id': wikipedia[idx][\"id\"], 'url': wikipedia[idx][\"url\"], \n",
    "            'title': wikipedia[idx][\"title\"], 'text': wikipedia[idx][\"text\"], 'text_list': phrase_to_list})\n",
    "            data_concept = Dataset(pa.Table.from_pandas(df))\n",
    "\n",
    "            # save data\n",
    "            data_concept.save_to_disk('/work3/s174498/concept_random_dataset/wikipedia_20220301/sports_concepts/' + list_of_interest[i])\n",
    "        else: \n",
    "            concept_list_notsaved.append(list_of_interest[i])\n",
    "    else: \n",
    "        print(list_of_interest[i] + ' does not exist')"
   ]
  },
  {
   "cell_type": "code",
   "execution_count": 36,
   "metadata": {},
   "outputs": [
    {
     "data": {
      "text/plain": [
       "['Air sports', 'Boardsport']"
      ]
     },
     "execution_count": 36,
     "metadata": {},
     "output_type": "execute_result"
    }
   ],
   "source": [
    "concept_list_notsaved"
   ]
  },
  {
   "attachments": {},
   "cell_type": "markdown",
   "metadata": {},
   "source": [
    "Air sports: Not enought sentences in 'Main articles'. Thus, all sub-articles are concatenated into one Level II concept, while these sub-articles (if longer than 150 sentences) are saved for Level III concepts."
   ]
  },
  {
   "cell_type": "code",
   "execution_count": 43,
   "metadata": {},
   "outputs": [],
   "source": [
    "Air_sports = ['Aerobatics',\n",
    "'Air racing',\n",
    "'Gliding',\n",
    "'Hang gliding',\n",
    "'Human powered aircraft',\n",
    "'Model aircraft',\n",
    "'Parachuting',\n",
    "'Paragliding',\n",
    "'Paramotoring',\n",
    "'Ultralight aviation']"
   ]
  },
  {
   "cell_type": "code",
   "execution_count": 44,
   "metadata": {},
   "outputs": [
    {
     "name": "stdout",
     "output_type": "stream",
     "text": [
      "Gliding\n",
      "Hang gliding\n",
      "Human powered aircraft does not exist\n",
      "Model aircraft\n",
      "Parachuting\n",
      "Paragliding\n",
      "Paramotoring does not exist\n"
     ]
    }
   ],
   "source": [
    "list_of_interest = Air_sports\n",
    "folder_name = 'Air sports'\n",
    "\n",
    "count_datasets = 0\n",
    "concept_list = []\n",
    "concept_list_saved = []\n",
    "concept_list_notsaved = []\n",
    "concatenate_phrases = []\n",
    "\n",
    "for i in range(len(list_of_interest)): \n",
    "    if list_of_interest[i] in titles:\n",
    "        concept_list.append(list_of_interest[i])\n",
    "        idx = titles.index(list_of_interest[i])\n",
    "\n",
    "        # Clean up data (\\n references in wiki article)\n",
    "        text_clean = wikipedia[idx][\"text\"].replace('\\n\\n', ' ')\n",
    "        text_clean2 = text_clean.replace('\\n', ' ')\n",
    "        phrase_to_list = text_clean2.split(\". \")\n",
    "\n",
    "        # Save concepts to \"Level II\"\n",
    "        concatenate_phrases = concatenate_phrases + phrase_to_list\n",
    "\n",
    "        # Save concepts to \"Level III\"\n",
    "        if len(phrase_to_list) > 150:\n",
    "            print(list_of_interest[i])\n",
    "            concept_list_saved.append(list_of_interest[i])\n",
    "\n",
    "            df = pd.DataFrame({'id': wikipedia[idx][\"id\"], 'url': wikipedia[idx][\"url\"], \n",
    "            'title': wikipedia[idx][\"title\"], 'text': wikipedia[idx][\"text\"], 'text_list': phrase_to_list})\n",
    "            data_concept = Dataset(pa.Table.from_pandas(df))\n",
    "\n",
    "            # save data\n",
    "            path = os.path.join('/work3/s174498/concept_random_dataset/wikipedia_20220301/sports_concepts/', folder_name)\n",
    "            data_concept.save_to_disk(path + '/' + list_of_interest[i])\n",
    "        else: \n",
    "            concept_list_notsaved.append(list_of_interest[i])\n",
    "    else: \n",
    "        print(list_of_interest[i] + ' does not exist')\n",
    "\n",
    "if len(concatenate_phrases) > 150:\n",
    "    df_levelII = pd.DataFrame({'title': folder_name, 'text_list': concatenate_phrases})\n",
    "    data_concept_levelII = Dataset(pa.Table.from_pandas(df_levelII))\n",
    "\n",
    "    # save data\n",
    "    data_concept_levelII.save_to_disk('/work3/s174498/concept_random_dataset/wikipedia_20220301/sports_concepts/' + folder_name)"
   ]
  },
  {
   "cell_type": "code",
   "execution_count": 45,
   "metadata": {},
   "outputs": [
    {
     "data": {
      "text/plain": [
       "['Aerobatics', 'Air racing', 'Ultralight aviation']"
      ]
     },
     "execution_count": 45,
     "metadata": {},
     "output_type": "execute_result"
    }
   ],
   "source": [
    "concept_list_notsaved"
   ]
  },
  {
   "cell_type": "code",
   "execution_count": 46,
   "metadata": {},
   "outputs": [],
   "source": [
    "Boardsport = ['Skateboarding',\n",
    "'Scootering',\n",
    "'Skysurfing',\n",
    "'Streetluge',\n",
    "'Snowboarding',\n",
    "'Surfing',\n",
    "'Wakeboarding',\n",
    "'Paddleboarding']"
   ]
  },
  {
   "cell_type": "code",
   "execution_count": 47,
   "metadata": {},
   "outputs": [
    {
     "name": "stdout",
     "output_type": "stream",
     "text": [
      "Skateboarding\n",
      "Streetluge does not exist\n",
      "Snowboarding\n",
      "Surfing\n"
     ]
    }
   ],
   "source": [
    "list_of_interest = Boardsport\n",
    "folder_name = 'Boardsport'\n",
    "\n",
    "count_datasets = 0\n",
    "concept_list = []\n",
    "concept_list_saved = []\n",
    "concept_list_notsaved = []\n",
    "concatenate_phrases = []\n",
    "\n",
    "for i in range(len(list_of_interest)): \n",
    "    if list_of_interest[i] in titles:\n",
    "        concept_list.append(list_of_interest[i])\n",
    "        idx = titles.index(list_of_interest[i])\n",
    "\n",
    "        # Clean up data (\\n references in wiki article)\n",
    "        text_clean = wikipedia[idx][\"text\"].replace('\\n\\n', ' ')\n",
    "        text_clean2 = text_clean.replace('\\n', ' ')\n",
    "        phrase_to_list = text_clean2.split(\". \")\n",
    "\n",
    "        # Save concepts to \"Level II\"\n",
    "        concatenate_phrases = concatenate_phrases + phrase_to_list\n",
    "\n",
    "        # Save concepts to \"Level III\"\n",
    "        if len(phrase_to_list) > 150:\n",
    "            print(list_of_interest[i])\n",
    "            concept_list_saved.append(list_of_interest[i])\n",
    "\n",
    "            df = pd.DataFrame({'id': wikipedia[idx][\"id\"], 'url': wikipedia[idx][\"url\"], \n",
    "            'title': wikipedia[idx][\"title\"], 'text': wikipedia[idx][\"text\"], 'text_list': phrase_to_list})\n",
    "            data_concept = Dataset(pa.Table.from_pandas(df))\n",
    "\n",
    "            # save data\n",
    "            path = os.path.join('/work3/s174498/concept_random_dataset/wikipedia_20220301/sports_concepts/', folder_name)\n",
    "            data_concept.save_to_disk(path + '/' + list_of_interest[i])\n",
    "        else: \n",
    "            concept_list_notsaved.append(list_of_interest[i])\n",
    "    else: \n",
    "        print(list_of_interest[i] + ' does not exist')\n",
    "\n",
    "if len(concatenate_phrases) > 150:\n",
    "    df_levelII = pd.DataFrame({'title': folder_name, 'text_list': concatenate_phrases})\n",
    "    data_concept_levelII = Dataset(pa.Table.from_pandas(df_levelII))\n",
    "\n",
    "    # save data\n",
    "    data_concept_levelII.save_to_disk('/work3/s174498/concept_random_dataset/wikipedia_20220301/sports_concepts/' + folder_name)"
   ]
  },
  {
   "cell_type": "code",
   "execution_count": 48,
   "metadata": {},
   "outputs": [
    {
     "data": {
      "text/plain": [
       "['Scootering', 'Skysurfing', 'Wakeboarding', 'Paddleboarding']"
      ]
     },
     "execution_count": 48,
     "metadata": {},
     "output_type": "execute_result"
    }
   ],
   "source": [
    "concept_list_notsaved"
   ]
  },
  {
   "cell_type": "code",
   "execution_count": null,
   "metadata": {},
   "outputs": [],
   "source": [
    "list_of_gender = ['Woman', 'Female', 'Intersex', 'Transsexual', 'Male', 'Man']"
   ]
  },
  {
   "cell_type": "code",
   "execution_count": 5,
   "metadata": {},
   "outputs": [],
   "source": [
    "list_of_gender = [\n",
    "'Agender',\n",
    "'Androgyne',\n",
    "'Androgynous',\n",
    "'Bakla',\n",
    "'Bigender',\n",
    "'Binary',\n",
    "'Bissu',\n",
    "'Butch',\n",
    "'Calabai',\n",
    "'Calalai',\n",
    "'Cisgender',\n",
    "'Demiflux',\n",
    "'Demigender',\n",
    "'Dual gender',\n",
    "'Endosex',\n",
    "'Female',\n",
    "'Femme',\n",
    "'Gender bender',\n",
    "'Gender diverse',\n",
    "'Genderfluid',\n",
    "'Genderflux',\n",
    "'Genderfuck',\n",
    "'Genderless',\n",
    "'Gender nonconforming',\n",
    "'Genderqueer',\n",
    "'Gender variant',\n",
    "'Intergender',\n",
    "'Intersex',\n",
    "'Hijra',\n",
    "'Kathoey',\n",
    "'Male',\n",
    "'Man',\n",
    "'Multigender',\n",
    "'Muxe',\n",
    "'Neurogender',\n",
    "'Neutrois',\n",
    "'Non-binary',\n",
    "'Omnigender',\n",
    "'Pangender',\n",
    "'Polygender',\n",
    "'Third gender',\n",
    "'Trans man',\n",
    "'Trans woman',\n",
    "'Transgender',\n",
    "'Transfeminine',\n",
    "'Transmasculine',\n",
    "'Transsexual',\n",
    "'Travesti',\n",
    "'Trigender',\n",
    "'Two spirit',\n",
    "'Woman',\n",
    "'X-gender',\n",
    "'Xenogender']"
   ]
  },
  {
   "cell_type": "code",
   "execution_count": 24,
   "metadata": {},
   "outputs": [
    {
     "name": "stdout",
     "output_type": "stream",
     "text": [
      "Woman\n",
      "225\n",
      "Female\n",
      "69\n",
      "Man\n",
      "57\n",
      "Male\n",
      "60\n",
      "Intersex\n",
      "237\n",
      "Transsexual\n",
      "220\n"
     ]
    }
   ],
   "source": [
    "list_of_interest = list_of_gender\n",
    "\n",
    "count_datasets = 0\n",
    "concept_list = []\n",
    "concept_list_saved = []\n",
    "\n",
    "for i in range(len(list_of_interest)): \n",
    "    if list_of_interest[i] in titles:\n",
    "        concept_list.append(list_of_interest[i])\n",
    "        idx = titles.index(list_of_interest[i])\n",
    "\n",
    "        # Clean up data (\\n references in wiki article)\n",
    "        text_clean = wikipedia[idx][\"text\"].replace('\\n\\n', ' ')\n",
    "        text_clean2 = text_clean.replace('\\n', ' ')\n",
    "        phrase_to_list = text_clean2.split(\". \")\n",
    "        print(list_of_interest[i])\n",
    "        print(len(phrase_to_list))\n",
    "        #if len(phrase_to_list) > 150:\n",
    "        count_datasets = count_datasets + 1\n",
    "        concept_list_saved.append(list_of_interest[i])\n",
    "\n",
    "        df = pd.DataFrame({'id': wikipedia[idx][\"id\"], 'url': wikipedia[idx][\"url\"], \n",
    "        'title': wikipedia[idx][\"title\"], 'text': wikipedia[idx][\"text\"], 'text_list': phrase_to_list})\n",
    "        data_concept = Dataset(pa.Table.from_pandas(df))\n",
    "\n",
    "        # save data\n",
    "        data_concept.save_to_disk('/work3/s174498/concept_random_dataset/wikipedia_20220301/gender_concepts/' + list_of_interest[i])"
   ]
  },
  {
   "cell_type": "markdown",
   "metadata": {},
   "source": [
    "### Concatenate 'Woman' and 'female'"
   ]
  },
  {
   "cell_type": "code",
   "execution_count": 4,
   "metadata": {},
   "outputs": [],
   "source": [
    "idx_woman = titles.index('Woman')\n",
    "idx_female = titles.index('Female')\n",
    "        \n",
    "# Clean up data (\\n references in wiki article)\n",
    "text_clean = wikipedia[idx_woman][\"text\"].replace('\\n\\n', ' ')\n",
    "text_clean2 = text_clean.replace('\\n', ' ')\n",
    "w_phrase_to_list = text_clean2.split(\". \")\n",
    "\n",
    "text_clean = wikipedia[idx_female][\"text\"].replace('\\n\\n', ' ')\n",
    "text_clean2 = text_clean.replace('\\n', ' ')\n",
    "f_phrase_to_list = text_clean2.split(\". \")\n",
    "\n",
    "concatenate_phrases = w_phrase_to_list + f_phrase_to_list\n",
    "\n",
    "df = pd.DataFrame({'title': \"woman/female\", 'text_list': concatenate_phrases})\n",
    "data_concept = Dataset(pa.Table.from_pandas(df))\n",
    "\n",
    "# save data\n",
    "data_concept.save_to_disk('/work3/s174498/concept_random_dataset/wikipedia_20220301/gender_concepts/' + 'woman_female')\n"
   ]
  },
  {
   "cell_type": "code",
   "execution_count": 66,
   "metadata": {},
   "outputs": [
    {
     "data": {
      "text/html": [
       "<div>\n",
       "<style scoped>\n",
       "    .dataframe tbody tr th:only-of-type {\n",
       "        vertical-align: middle;\n",
       "    }\n",
       "\n",
       "    .dataframe tbody tr th {\n",
       "        vertical-align: top;\n",
       "    }\n",
       "\n",
       "    .dataframe thead th {\n",
       "        text-align: right;\n",
       "    }\n",
       "</style>\n",
       "<table border=\"1\" class=\"dataframe\">\n",
       "  <thead>\n",
       "    <tr style=\"text-align: right;\">\n",
       "      <th></th>\n",
       "      <th>title</th>\n",
       "      <th>text_list</th>\n",
       "    </tr>\n",
       "  </thead>\n",
       "  <tbody>\n",
       "    <tr>\n",
       "      <th>0</th>\n",
       "      <td>woman/female</td>\n",
       "      <td>A woman is an adult female human</td>\n",
       "    </tr>\n",
       "    <tr>\n",
       "      <th>1</th>\n",
       "      <td>woman/female</td>\n",
       "      <td>Prior to adulthood, a female human is referred...</td>\n",
       "    </tr>\n",
       "    <tr>\n",
       "      <th>2</th>\n",
       "      <td>woman/female</td>\n",
       "      <td>The plural women is sometimes used in certain ...</td>\n",
       "    </tr>\n",
       "    <tr>\n",
       "      <th>3</th>\n",
       "      <td>woman/female</td>\n",
       "      <td>Typically, women have two X chromosomes and ar...</td>\n",
       "    </tr>\n",
       "    <tr>\n",
       "      <th>4</th>\n",
       "      <td>woman/female</td>\n",
       "      <td>Female anatomy is distinguished from male anat...</td>\n",
       "    </tr>\n",
       "    <tr>\n",
       "      <th>...</th>\n",
       "      <td>...</td>\n",
       "      <td>...</td>\n",
       "    </tr>\n",
       "    <tr>\n",
       "      <th>289</th>\n",
       "      <td>woman/female</td>\n",
       "      <td>unrelated genes that are affected by environme...</td>\n",
       "    </tr>\n",
       "    <tr>\n",
       "      <th>290</th>\n",
       "      <td>woman/female</td>\n",
       "      <td>This hypothesis is unlikely to apply to a sign...</td>\n",
       "    </tr>\n",
       "    <tr>\n",
       "      <th>291</th>\n",
       "      <td>woman/female</td>\n",
       "      <td>Symbol The symbol ♀ (Unicode: U+2640 Alt codes...</td>\n",
       "    </tr>\n",
       "    <tr>\n",
       "      <th>292</th>\n",
       "      <td>woman/female</td>\n",
       "      <td>Joseph Justus Scaliger once speculated that th...</td>\n",
       "    </tr>\n",
       "    <tr>\n",
       "      <th>293</th>\n",
       "      <td>woman/female</td>\n",
       "      <td>See also  Feminine side  Femininity  Girl  God...</td>\n",
       "    </tr>\n",
       "  </tbody>\n",
       "</table>\n",
       "<p>294 rows × 2 columns</p>\n",
       "</div>"
      ],
      "text/plain": [
       "            title                                          text_list\n",
       "0    woman/female                   A woman is an adult female human\n",
       "1    woman/female  Prior to adulthood, a female human is referred...\n",
       "2    woman/female  The plural women is sometimes used in certain ...\n",
       "3    woman/female  Typically, women have two X chromosomes and ar...\n",
       "4    woman/female  Female anatomy is distinguished from male anat...\n",
       "..            ...                                                ...\n",
       "289  woman/female  unrelated genes that are affected by environme...\n",
       "290  woman/female  This hypothesis is unlikely to apply to a sign...\n",
       "291  woman/female  Symbol The symbol ♀ (Unicode: U+2640 Alt codes...\n",
       "292  woman/female  Joseph Justus Scaliger once speculated that th...\n",
       "293  woman/female  See also  Feminine side  Femininity  Girl  God...\n",
       "\n",
       "[294 rows x 2 columns]"
      ]
     },
     "execution_count": 66,
     "metadata": {},
     "output_type": "execute_result"
    }
   ],
   "source": [
    "df"
   ]
  },
  {
   "cell_type": "markdown",
   "metadata": {},
   "source": [
    "### Concatenate 'Man' and 'Male'"
   ]
  },
  {
   "cell_type": "code",
   "execution_count": 5,
   "metadata": {},
   "outputs": [],
   "source": [
    "idx_man = titles.index('Man')\n",
    "idx_male = titles.index('Male')\n",
    "        \n",
    "# Clean up data (\\n references in wiki article)\n",
    "text_clean = wikipedia[idx_man][\"text\"].replace('\\n\\n', ' ')\n",
    "text_clean2 = text_clean.replace('\\n', ' ')\n",
    "man_phrase_to_list = text_clean2.split(\". \")\n",
    "\n",
    "text_clean = wikipedia[idx_male][\"text\"].replace('\\n\\n', ' ')\n",
    "text_clean2 = text_clean.replace('\\n', ' ')\n",
    "male_phrase_to_list = text_clean2.split(\". \")\n",
    "\n",
    "concatenate_phrases = man_phrase_to_list + male_phrase_to_list\n",
    "\n",
    "df = pd.DataFrame({'title': \"man/male\", 'text_list': concatenate_phrases})\n",
    "data_concept = Dataset(pa.Table.from_pandas(df))\n",
    "\n",
    "# save data\n",
    "data_concept.save_to_disk('/work3/s174498/concept_random_dataset/wikipedia_20220301/gender_concepts/' + 'man_male')\n"
   ]
  },
  {
   "cell_type": "code",
   "execution_count": 68,
   "metadata": {},
   "outputs": [
    {
     "data": {
      "text/html": [
       "<div>\n",
       "<style scoped>\n",
       "    .dataframe tbody tr th:only-of-type {\n",
       "        vertical-align: middle;\n",
       "    }\n",
       "\n",
       "    .dataframe tbody tr th {\n",
       "        vertical-align: top;\n",
       "    }\n",
       "\n",
       "    .dataframe thead th {\n",
       "        text-align: right;\n",
       "    }\n",
       "</style>\n",
       "<table border=\"1\" class=\"dataframe\">\n",
       "  <thead>\n",
       "    <tr style=\"text-align: right;\">\n",
       "      <th></th>\n",
       "      <th>title</th>\n",
       "      <th>text_list</th>\n",
       "    </tr>\n",
       "  </thead>\n",
       "  <tbody>\n",
       "    <tr>\n",
       "      <th>0</th>\n",
       "      <td>man/male</td>\n",
       "      <td>A man is an adult human male</td>\n",
       "    </tr>\n",
       "    <tr>\n",
       "      <th>1</th>\n",
       "      <td>man/male</td>\n",
       "      <td>Prior to adulthood, a male human is referred t...</td>\n",
       "    </tr>\n",
       "    <tr>\n",
       "      <th>2</th>\n",
       "      <td>man/male</td>\n",
       "      <td>Like most other male mammals, a man's genome u...</td>\n",
       "    </tr>\n",
       "    <tr>\n",
       "      <th>3</th>\n",
       "      <td>man/male</td>\n",
       "      <td>Sex differentiation of the male fetus is gover...</td>\n",
       "    </tr>\n",
       "    <tr>\n",
       "      <th>4</th>\n",
       "      <td>man/male</td>\n",
       "      <td>During puberty, hormones which stimulate andro...</td>\n",
       "    </tr>\n",
       "    <tr>\n",
       "      <th>...</th>\n",
       "      <td>...</td>\n",
       "      <td>...</td>\n",
       "    </tr>\n",
       "    <tr>\n",
       "      <th>112</th>\n",
       "      <td>man/male</td>\n",
       "      <td>In seed plants, which exhibit alternation of g...</td>\n",
       "    </tr>\n",
       "    <tr>\n",
       "      <th>113</th>\n",
       "      <td>man/male</td>\n",
       "      <td>In mammals, including humans, males are typica...</td>\n",
       "    </tr>\n",
       "    <tr>\n",
       "      <th>114</th>\n",
       "      <td>man/male</td>\n",
       "      <td>In humans, males have more body hair and muscl...</td>\n",
       "    </tr>\n",
       "    <tr>\n",
       "      <th>115</th>\n",
       "      <td>man/male</td>\n",
       "      <td>In birds, the male often exhibits a colorful p...</td>\n",
       "    </tr>\n",
       "    <tr>\n",
       "      <th>116</th>\n",
       "      <td>man/male</td>\n",
       "      <td>See also   Boy  Female  Male plant  Male pregn...</td>\n",
       "    </tr>\n",
       "  </tbody>\n",
       "</table>\n",
       "<p>117 rows × 2 columns</p>\n",
       "</div>"
      ],
      "text/plain": [
       "        title                                          text_list\n",
       "0    man/male                       A man is an adult human male\n",
       "1    man/male  Prior to adulthood, a male human is referred t...\n",
       "2    man/male  Like most other male mammals, a man's genome u...\n",
       "3    man/male  Sex differentiation of the male fetus is gover...\n",
       "4    man/male  During puberty, hormones which stimulate andro...\n",
       "..        ...                                                ...\n",
       "112  man/male  In seed plants, which exhibit alternation of g...\n",
       "113  man/male  In mammals, including humans, males are typica...\n",
       "114  man/male  In humans, males have more body hair and muscl...\n",
       "115  man/male  In birds, the male often exhibits a colorful p...\n",
       "116  man/male  See also   Boy  Female  Male plant  Male pregn...\n",
       "\n",
       "[117 rows x 2 columns]"
      ]
     },
     "execution_count": 68,
     "metadata": {},
     "output_type": "execute_result"
    }
   ],
   "source": [
    "df"
   ]
  },
  {
   "cell_type": "code",
   "execution_count": null,
   "metadata": {},
   "outputs": [],
   "source": []
  }
 ],
 "metadata": {
  "kernelspec": {
   "display_name": "Python 3.7.13 ('sent_env')",
   "language": "python",
   "name": "python3"
  },
  "language_info": {
   "codemirror_mode": {
    "name": "ipython",
    "version": 3
   },
   "file_extension": ".py",
   "mimetype": "text/x-python",
   "name": "python",
   "nbconvert_exporter": "python",
   "pygments_lexer": "ipython3",
   "version": "3.7.13"
  },
  "orig_nbformat": 4,
  "vscode": {
   "interpreter": {
    "hash": "9738a1daac20355f138ac5f9490b2e4e7176effdeaa1fb550cd3c1d19d286cfb"
   }
  }
 },
 "nbformat": 4,
 "nbformat_minor": 2
}
