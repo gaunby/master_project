{
 "cells": [
  {
   "cell_type": "code",
   "execution_count": 1,
   "metadata": {},
   "outputs": [],
   "source": [
    "# Create concepts using wikipedia (and its knowledge graph) \n",
    "# https://en.wikipedia.org/wiki/List_of_sports\n",
    "\n",
    "# Search of sports: Found a link \"List of sports\""
   ]
  },
  {
   "cell_type": "code",
   "execution_count": 44,
   "metadata": {},
   "outputs": [],
   "source": [
    "import pandas as pd\n",
    "import pyarrow as pa\n",
    "from datasets import load_from_disk, Dataset\n",
    "import os"
   ]
  },
  {
   "cell_type": "code",
   "execution_count": 45,
   "metadata": {},
   "outputs": [
    {
     "ename": "OSError",
     "evalue": "Memory mapping file failed: Cannot allocate memory",
     "output_type": "error",
     "traceback": [
      "\u001b[0;31m---------------------------------------------------------------------------\u001b[0m",
      "\u001b[0;31mOSError\u001b[0m                                   Traceback (most recent call last)",
      "\u001b[0;32m/tmp/ipykernel_27990/3446144941.py\u001b[0m in \u001b[0;36m<module>\u001b[0;34m\u001b[0m\n\u001b[1;32m      1\u001b[0m \u001b[0mpath_dir\u001b[0m \u001b[0;34m=\u001b[0m \u001b[0;34m'/work3/s174498/concept_random_dataset/wikipedia_20220301/train'\u001b[0m\u001b[0;34m\u001b[0m\u001b[0;34m\u001b[0m\u001b[0m\n\u001b[0;32m----> 2\u001b[0;31m \u001b[0mwikipedia\u001b[0m \u001b[0;34m=\u001b[0m \u001b[0mload_from_disk\u001b[0m\u001b[0;34m(\u001b[0m\u001b[0mpath_dir\u001b[0m\u001b[0;34m)\u001b[0m\u001b[0;34m\u001b[0m\u001b[0;34m\u001b[0m\u001b[0m\n\u001b[0m\u001b[1;32m      3\u001b[0m \u001b[0;34m\u001b[0m\u001b[0m\n\u001b[1;32m      4\u001b[0m \u001b[0mtitles\u001b[0m \u001b[0;34m=\u001b[0m \u001b[0mwikipedia\u001b[0m\u001b[0;34m[\u001b[0m\u001b[0;34m'title'\u001b[0m\u001b[0;34m]\u001b[0m\u001b[0;34m\u001b[0m\u001b[0;34m\u001b[0m\u001b[0m\n",
      "\u001b[0;32m~/miniconda3/envs/sent_env/lib/python3.7/site-packages/datasets/load.py\u001b[0m in \u001b[0;36mload_from_disk\u001b[0;34m(dataset_path, fs, keep_in_memory)\u001b[0m\n\u001b[1;32m   1800\u001b[0m         \u001b[0;32mraise\u001b[0m \u001b[0mFileNotFoundError\u001b[0m\u001b[0;34m(\u001b[0m\u001b[0;34mf\"Directory {dataset_path} not found\"\u001b[0m\u001b[0;34m)\u001b[0m\u001b[0;34m\u001b[0m\u001b[0;34m\u001b[0m\u001b[0m\n\u001b[1;32m   1801\u001b[0m     \u001b[0;32mif\u001b[0m \u001b[0mfs\u001b[0m\u001b[0;34m.\u001b[0m\u001b[0misfile\u001b[0m\u001b[0;34m(\u001b[0m\u001b[0mPath\u001b[0m\u001b[0;34m(\u001b[0m\u001b[0mdest_dataset_path\u001b[0m\u001b[0;34m,\u001b[0m \u001b[0mconfig\u001b[0m\u001b[0;34m.\u001b[0m\u001b[0mDATASET_INFO_FILENAME\u001b[0m\u001b[0;34m)\u001b[0m\u001b[0;34m.\u001b[0m\u001b[0mas_posix\u001b[0m\u001b[0;34m(\u001b[0m\u001b[0;34m)\u001b[0m\u001b[0;34m)\u001b[0m\u001b[0;34m:\u001b[0m\u001b[0;34m\u001b[0m\u001b[0;34m\u001b[0m\u001b[0m\n\u001b[0;32m-> 1802\u001b[0;31m         \u001b[0;32mreturn\u001b[0m \u001b[0mDataset\u001b[0m\u001b[0;34m.\u001b[0m\u001b[0mload_from_disk\u001b[0m\u001b[0;34m(\u001b[0m\u001b[0mdataset_path\u001b[0m\u001b[0;34m,\u001b[0m \u001b[0mfs\u001b[0m\u001b[0;34m,\u001b[0m \u001b[0mkeep_in_memory\u001b[0m\u001b[0;34m=\u001b[0m\u001b[0mkeep_in_memory\u001b[0m\u001b[0;34m)\u001b[0m\u001b[0;34m\u001b[0m\u001b[0;34m\u001b[0m\u001b[0m\n\u001b[0m\u001b[1;32m   1803\u001b[0m     \u001b[0;32melif\u001b[0m \u001b[0mfs\u001b[0m\u001b[0;34m.\u001b[0m\u001b[0misfile\u001b[0m\u001b[0;34m(\u001b[0m\u001b[0mPath\u001b[0m\u001b[0;34m(\u001b[0m\u001b[0mdest_dataset_path\u001b[0m\u001b[0;34m,\u001b[0m \u001b[0mconfig\u001b[0m\u001b[0;34m.\u001b[0m\u001b[0mDATASETDICT_JSON_FILENAME\u001b[0m\u001b[0;34m)\u001b[0m\u001b[0;34m.\u001b[0m\u001b[0mas_posix\u001b[0m\u001b[0;34m(\u001b[0m\u001b[0;34m)\u001b[0m\u001b[0;34m)\u001b[0m\u001b[0;34m:\u001b[0m\u001b[0;34m\u001b[0m\u001b[0;34m\u001b[0m\u001b[0m\n\u001b[1;32m   1804\u001b[0m         \u001b[0;32mreturn\u001b[0m \u001b[0mDatasetDict\u001b[0m\u001b[0;34m.\u001b[0m\u001b[0mload_from_disk\u001b[0m\u001b[0;34m(\u001b[0m\u001b[0mdataset_path\u001b[0m\u001b[0;34m,\u001b[0m \u001b[0mfs\u001b[0m\u001b[0;34m,\u001b[0m \u001b[0mkeep_in_memory\u001b[0m\u001b[0;34m=\u001b[0m\u001b[0mkeep_in_memory\u001b[0m\u001b[0;34m)\u001b[0m\u001b[0;34m\u001b[0m\u001b[0;34m\u001b[0m\u001b[0m\n",
      "\u001b[0;32m~/miniconda3/envs/sent_env/lib/python3.7/site-packages/datasets/arrow_dataset.py\u001b[0m in \u001b[0;36mload_from_disk\u001b[0;34m(dataset_path, fs, keep_in_memory)\u001b[0m\n\u001b[1;32m   1343\u001b[0m         arrow_table = concat_tables(\n\u001b[1;32m   1344\u001b[0m             \u001b[0mtable_cls\u001b[0m\u001b[0;34m.\u001b[0m\u001b[0mfrom_file\u001b[0m\u001b[0;34m(\u001b[0m\u001b[0mPath\u001b[0m\u001b[0;34m(\u001b[0m\u001b[0mdataset_path\u001b[0m\u001b[0;34m,\u001b[0m \u001b[0mdata_file\u001b[0m\u001b[0;34m[\u001b[0m\u001b[0;34m\"filename\"\u001b[0m\u001b[0;34m]\u001b[0m\u001b[0;34m)\u001b[0m\u001b[0;34m.\u001b[0m\u001b[0mas_posix\u001b[0m\u001b[0;34m(\u001b[0m\u001b[0;34m)\u001b[0m\u001b[0;34m)\u001b[0m\u001b[0;34m\u001b[0m\u001b[0;34m\u001b[0m\u001b[0m\n\u001b[0;32m-> 1345\u001b[0;31m             \u001b[0;32mfor\u001b[0m \u001b[0mdata_file\u001b[0m \u001b[0;32min\u001b[0m \u001b[0mstate\u001b[0m\u001b[0;34m[\u001b[0m\u001b[0;34m\"_data_files\"\u001b[0m\u001b[0;34m]\u001b[0m\u001b[0;34m\u001b[0m\u001b[0;34m\u001b[0m\u001b[0m\n\u001b[0m\u001b[1;32m   1346\u001b[0m         )\n\u001b[1;32m   1347\u001b[0m \u001b[0;34m\u001b[0m\u001b[0m\n",
      "\u001b[0;32m~/miniconda3/envs/sent_env/lib/python3.7/site-packages/datasets/table.py\u001b[0m in \u001b[0;36mconcat_tables\u001b[0;34m(tables, axis)\u001b[0m\n\u001b[1;32m   1707\u001b[0m             \u001b[0mOtherwise\u001b[0m \u001b[0;32mif\u001b[0m \u001b[0mthere\u001b[0m\u001b[0;31m'\u001b[0m\u001b[0ms\u001b[0m \u001b[0monly\u001b[0m \u001b[0mone\u001b[0m \u001b[0mtable\u001b[0m\u001b[0;34m,\u001b[0m \u001b[0mit\u001b[0m \u001b[0;32mis\u001b[0m \u001b[0mreturned\u001b[0m \u001b[0;32mas\u001b[0m \u001b[0;32mis\u001b[0m\u001b[0;34m.\u001b[0m\u001b[0;34m\u001b[0m\u001b[0;34m\u001b[0m\u001b[0m\n\u001b[1;32m   1708\u001b[0m     \"\"\"\n\u001b[0;32m-> 1709\u001b[0;31m     \u001b[0mtables\u001b[0m \u001b[0;34m=\u001b[0m \u001b[0mlist\u001b[0m\u001b[0;34m(\u001b[0m\u001b[0mtables\u001b[0m\u001b[0;34m)\u001b[0m\u001b[0;34m\u001b[0m\u001b[0;34m\u001b[0m\u001b[0m\n\u001b[0m\u001b[1;32m   1710\u001b[0m     \u001b[0;32mif\u001b[0m \u001b[0mlen\u001b[0m\u001b[0;34m(\u001b[0m\u001b[0mtables\u001b[0m\u001b[0;34m)\u001b[0m \u001b[0;34m==\u001b[0m \u001b[0;36m1\u001b[0m\u001b[0;34m:\u001b[0m\u001b[0;34m\u001b[0m\u001b[0;34m\u001b[0m\u001b[0m\n\u001b[1;32m   1711\u001b[0m         \u001b[0;32mreturn\u001b[0m \u001b[0mtables\u001b[0m\u001b[0;34m[\u001b[0m\u001b[0;36m0\u001b[0m\u001b[0;34m]\u001b[0m\u001b[0;34m\u001b[0m\u001b[0;34m\u001b[0m\u001b[0m\n",
      "\u001b[0;32m~/miniconda3/envs/sent_env/lib/python3.7/site-packages/datasets/arrow_dataset.py\u001b[0m in \u001b[0;36m<genexpr>\u001b[0;34m(.0)\u001b[0m\n\u001b[1;32m   1343\u001b[0m         arrow_table = concat_tables(\n\u001b[1;32m   1344\u001b[0m             \u001b[0mtable_cls\u001b[0m\u001b[0;34m.\u001b[0m\u001b[0mfrom_file\u001b[0m\u001b[0;34m(\u001b[0m\u001b[0mPath\u001b[0m\u001b[0;34m(\u001b[0m\u001b[0mdataset_path\u001b[0m\u001b[0;34m,\u001b[0m \u001b[0mdata_file\u001b[0m\u001b[0;34m[\u001b[0m\u001b[0;34m\"filename\"\u001b[0m\u001b[0;34m]\u001b[0m\u001b[0;34m)\u001b[0m\u001b[0;34m.\u001b[0m\u001b[0mas_posix\u001b[0m\u001b[0;34m(\u001b[0m\u001b[0;34m)\u001b[0m\u001b[0;34m)\u001b[0m\u001b[0;34m\u001b[0m\u001b[0;34m\u001b[0m\u001b[0m\n\u001b[0;32m-> 1345\u001b[0;31m             \u001b[0;32mfor\u001b[0m \u001b[0mdata_file\u001b[0m \u001b[0;32min\u001b[0m \u001b[0mstate\u001b[0m\u001b[0;34m[\u001b[0m\u001b[0;34m\"_data_files\"\u001b[0m\u001b[0;34m]\u001b[0m\u001b[0;34m\u001b[0m\u001b[0;34m\u001b[0m\u001b[0m\n\u001b[0m\u001b[1;32m   1346\u001b[0m         )\n\u001b[1;32m   1347\u001b[0m \u001b[0;34m\u001b[0m\u001b[0m\n",
      "\u001b[0;32m~/miniconda3/envs/sent_env/lib/python3.7/site-packages/datasets/table.py\u001b[0m in \u001b[0;36mfrom_file\u001b[0;34m(cls, filename, replays)\u001b[0m\n\u001b[1;32m   1034\u001b[0m     \u001b[0;34m@\u001b[0m\u001b[0mclassmethod\u001b[0m\u001b[0;34m\u001b[0m\u001b[0;34m\u001b[0m\u001b[0m\n\u001b[1;32m   1035\u001b[0m     \u001b[0;32mdef\u001b[0m \u001b[0mfrom_file\u001b[0m\u001b[0;34m(\u001b[0m\u001b[0mcls\u001b[0m\u001b[0;34m,\u001b[0m \u001b[0mfilename\u001b[0m\u001b[0;34m:\u001b[0m \u001b[0mstr\u001b[0m\u001b[0;34m,\u001b[0m \u001b[0mreplays\u001b[0m\u001b[0;34m=\u001b[0m\u001b[0;32mNone\u001b[0m\u001b[0;34m)\u001b[0m\u001b[0;34m:\u001b[0m\u001b[0;34m\u001b[0m\u001b[0;34m\u001b[0m\u001b[0m\n\u001b[0;32m-> 1036\u001b[0;31m         \u001b[0mtable\u001b[0m \u001b[0;34m=\u001b[0m \u001b[0m_memory_mapped_arrow_table_from_file\u001b[0m\u001b[0;34m(\u001b[0m\u001b[0mfilename\u001b[0m\u001b[0;34m)\u001b[0m\u001b[0;34m\u001b[0m\u001b[0;34m\u001b[0m\u001b[0m\n\u001b[0m\u001b[1;32m   1037\u001b[0m         \u001b[0mtable\u001b[0m \u001b[0;34m=\u001b[0m \u001b[0mcls\u001b[0m\u001b[0;34m.\u001b[0m\u001b[0m_apply_replays\u001b[0m\u001b[0;34m(\u001b[0m\u001b[0mtable\u001b[0m\u001b[0;34m,\u001b[0m \u001b[0mreplays\u001b[0m\u001b[0;34m)\u001b[0m\u001b[0;34m\u001b[0m\u001b[0;34m\u001b[0m\u001b[0m\n\u001b[1;32m   1038\u001b[0m         \u001b[0;32mreturn\u001b[0m \u001b[0mcls\u001b[0m\u001b[0;34m(\u001b[0m\u001b[0mtable\u001b[0m\u001b[0;34m,\u001b[0m \u001b[0mfilename\u001b[0m\u001b[0;34m,\u001b[0m \u001b[0mreplays\u001b[0m\u001b[0;34m)\u001b[0m\u001b[0;34m\u001b[0m\u001b[0;34m\u001b[0m\u001b[0m\n",
      "\u001b[0;32m~/miniconda3/envs/sent_env/lib/python3.7/site-packages/datasets/table.py\u001b[0m in \u001b[0;36m_memory_mapped_arrow_table_from_file\u001b[0;34m(filename)\u001b[0m\n\u001b[1;32m     47\u001b[0m \u001b[0;34m\u001b[0m\u001b[0m\n\u001b[1;32m     48\u001b[0m \u001b[0;32mdef\u001b[0m \u001b[0m_memory_mapped_arrow_table_from_file\u001b[0m\u001b[0;34m(\u001b[0m\u001b[0mfilename\u001b[0m\u001b[0;34m:\u001b[0m \u001b[0mstr\u001b[0m\u001b[0;34m)\u001b[0m \u001b[0;34m->\u001b[0m \u001b[0mpa\u001b[0m\u001b[0;34m.\u001b[0m\u001b[0mTable\u001b[0m\u001b[0;34m:\u001b[0m\u001b[0;34m\u001b[0m\u001b[0;34m\u001b[0m\u001b[0m\n\u001b[0;32m---> 49\u001b[0;31m     \u001b[0mmemory_mapped_stream\u001b[0m \u001b[0;34m=\u001b[0m \u001b[0mpa\u001b[0m\u001b[0;34m.\u001b[0m\u001b[0mmemory_map\u001b[0m\u001b[0;34m(\u001b[0m\u001b[0mfilename\u001b[0m\u001b[0;34m)\u001b[0m\u001b[0;34m\u001b[0m\u001b[0;34m\u001b[0m\u001b[0m\n\u001b[0m\u001b[1;32m     50\u001b[0m     \u001b[0mopened_stream\u001b[0m \u001b[0;34m=\u001b[0m \u001b[0mpa\u001b[0m\u001b[0;34m.\u001b[0m\u001b[0mipc\u001b[0m\u001b[0;34m.\u001b[0m\u001b[0mopen_stream\u001b[0m\u001b[0;34m(\u001b[0m\u001b[0mmemory_mapped_stream\u001b[0m\u001b[0;34m)\u001b[0m\u001b[0;34m\u001b[0m\u001b[0;34m\u001b[0m\u001b[0m\n\u001b[1;32m     51\u001b[0m     \u001b[0mpa_table\u001b[0m \u001b[0;34m=\u001b[0m \u001b[0mopened_stream\u001b[0m\u001b[0;34m.\u001b[0m\u001b[0mread_all\u001b[0m\u001b[0;34m(\u001b[0m\u001b[0;34m)\u001b[0m\u001b[0;34m\u001b[0m\u001b[0;34m\u001b[0m\u001b[0m\n",
      "\u001b[0;32m~/miniconda3/envs/sent_env/lib/python3.7/site-packages/pyarrow/io.pxi\u001b[0m in \u001b[0;36mpyarrow.lib.memory_map\u001b[0;34m()\u001b[0m\n",
      "\u001b[0;32m~/miniconda3/envs/sent_env/lib/python3.7/site-packages/pyarrow/io.pxi\u001b[0m in \u001b[0;36mpyarrow.lib.MemoryMappedFile._open\u001b[0;34m()\u001b[0m\n",
      "\u001b[0;32m~/miniconda3/envs/sent_env/lib/python3.7/site-packages/pyarrow/error.pxi\u001b[0m in \u001b[0;36mpyarrow.lib.pyarrow_internal_check_status\u001b[0;34m()\u001b[0m\n",
      "\u001b[0;32m~/miniconda3/envs/sent_env/lib/python3.7/site-packages/pyarrow/error.pxi\u001b[0m in \u001b[0;36mpyarrow.lib.check_status\u001b[0;34m()\u001b[0m\n",
      "\u001b[0;31mOSError\u001b[0m: Memory mapping file failed: Cannot allocate memory"
     ]
    }
   ],
   "source": [
    "path_dir = '/work3/s174498/concept_random_dataset/wikipedia_20220301/train'\n",
    "wikipedia = load_from_disk(path_dir)\n",
    "\n",
    "titles = wikipedia['title']"
   ]
  },
  {
   "attachments": {},
   "cell_type": "markdown",
   "metadata": {},
   "source": [
    "### Create concepts (Level II and Level III)"
   ]
  },
  {
   "cell_type": "code",
   "execution_count": 46,
   "metadata": {},
   "outputs": [],
   "source": [
    "def main_articles(list_of_interest, folder_name):\n",
    "\n",
    "    count_datasets = 0\n",
    "    concept_list = []\n",
    "    concept_list_saved = []\n",
    "    concept_list_notsaved = []\n",
    "\n",
    "    for i in range(len(list_of_interest)): \n",
    "        if list_of_interest[i] in titles:\n",
    "            concept_list.append(list_of_interest[i])\n",
    "            idx = titles.index(list_of_interest[i])\n",
    "\n",
    "            # Clean up data (\\n references in wiki article)\n",
    "            text_clean = wikipedia[idx][\"text\"].replace('\\n\\n', ' ')\n",
    "            text_clean2 = text_clean.replace('\\n', ' ')\n",
    "            phrase_to_list = text_clean2.split(\". \")\n",
    "            print(list_of_interest[i])\n",
    "            print(len(phrase_to_list))\n",
    "\n",
    "            if len(phrase_to_list) > 150:\n",
    "                count_datasets = count_datasets + 1\n",
    "                concept_list_saved.append(list_of_interest[i])\n",
    "\n",
    "                df = pd.DataFrame({'id': wikipedia[idx][\"id\"], 'url': wikipedia[idx][\"url\"], \n",
    "                'title': wikipedia[idx][\"title\"], 'text': wikipedia[idx][\"text\"], 'text_list': phrase_to_list})\n",
    "                data_concept = Dataset(pa.Table.from_pandas(df))\n",
    "\n",
    "                # save data\n",
    "                data_concept.save_to_disk('/work3/s174498/concept_random_dataset/wikipedia_20220301/' + folder_name + list_of_interest[i])\n",
    "            else: \n",
    "                concept_list_notsaved.append(list_of_interest[i])\n",
    "        else: \n",
    "            print(list_of_interest[i] + ' does not exist')\n",
    "\n",
    "def sub_articles(list_of_interest, folder_name):\n",
    "    count_datasets = 0\n",
    "    concept_list = []\n",
    "    concept_list_saved = []\n",
    "    concatenate_phrases = []\n",
    "\n",
    "    for i in range(len(list_of_interest)): \n",
    "        if list_of_interest[i] in titles:\n",
    "            concept_list.append(list_of_interest[i])\n",
    "            idx = titles.index(list_of_interest[i])\n",
    "\n",
    "            # Clean up data (\\n references in wiki article)\n",
    "            text_clean = wikipedia[idx][\"text\"].replace('\\n\\n', ' ')\n",
    "            text_clean2 = text_clean.replace('\\n', ' ')\n",
    "            phrase_to_list = text_clean2.split(\". \")\n",
    "\n",
    "            # Save concepts to \"Level II\"\n",
    "            concatenate_phrases = concatenate_phrases + phrase_to_list\n",
    "\n",
    "            # Save concepts to \"Level III\"\n",
    "            if len(phrase_to_list) > 150:\n",
    "                print(list_of_interest[i])\n",
    "                concept_list_saved.append(list_of_interest[i])\n",
    "\n",
    "                df = pd.DataFrame({'id': wikipedia[idx][\"id\"], 'url': wikipedia[idx][\"url\"], \n",
    "                'title': wikipedia[idx][\"title\"], 'text': wikipedia[idx][\"text\"], 'text_list': phrase_to_list})\n",
    "                data_concept = Dataset(pa.Table.from_pandas(df))\n",
    "\n",
    "                # save data\n",
    "                path = os.path.join('/work3/s174498/concept_random_dataset/wikipedia_20220301/', folder_name)\n",
    "                data_concept.save_to_disk(path + '/' + list_of_interest[i])\n",
    "\n",
    "    if len(concatenate_phrases) > 150:\n",
    "        df_levelII = pd.DataFrame({'title': folder_name, 'text_list': concatenate_phrases})\n",
    "        data_concept_levelII = Dataset(pa.Table.from_pandas(df_levelII))\n",
    "\n",
    "        # save data\n",
    "        data_concept_levelII.save_to_disk('/work3/s174498/concept_random_dataset/wikipedia_20220301/' + folder_name)"
   ]
  },
  {
   "attachments": {},
   "cell_type": "markdown",
   "metadata": {},
   "source": [
    "### Create function to create concepts (level I)"
   ]
  },
  {
   "cell_type": "code",
   "execution_count": null,
   "metadata": {},
   "outputs": [],
   "source": [
    "def create_concept_levelI(path_of_concepts, folder_name):\n",
    "\n",
    "    list_of_folders = [os.path.join(path_of_concepts, o) for o in os.listdir(path_of_concepts) \n",
    "                        if os.path.isdir(os.path.join(path_of_concepts,o))]\n",
    "\n",
    "    concat_text = []\n",
    "    for i in range(len(list_of_folders)):\n",
    "        data = load_from_disk(list_of_folders[i])\n",
    "        data_text = data['text_list']\n",
    "\n",
    "        concat_text = concat_text + data_text\n",
    "        \n",
    "        df_levelI = pd.DataFrame({'title': folder_name, 'text_list': concat_text})\n",
    "        data_concept_levelI = Dataset(pa.Table.from_pandas(df_levelI))\n",
    "\n",
    "        # save data\n",
    "        data_concept_levelI.save_to_disk('/work3/s174498/concept_random_dataset/wikipedia_20220301/' + folder_name)"
   ]
  },
  {
   "attachments": {},
   "cell_type": "markdown",
   "metadata": {},
   "source": [
    "# Create datasets for sports concepts"
   ]
  },
  {
   "attachments": {},
   "cell_type": "markdown",
   "metadata": {},
   "source": [
    "Acrobatic sports: No 'Main articles'. Thus, all sub-articles are concatenated into one Level II concept, while these sub-articles (if longer than 150 sentences) are saved for Level III concepts."
   ]
  },
  {
   "cell_type": "code",
   "execution_count": 47,
   "metadata": {},
   "outputs": [],
   "source": [
    "acrobatic_sports = ['Ballet',\n",
    "'Breakdancing',\n",
    "'Competitive dancing',\n",
    "'Cheerleading',\n",
    "'Dancesport',\n",
    "'Dragon dance',\n",
    "'Figure skating',\n",
    "'Freerunning',\n",
    "'Gymnastics',\n",
    "'High kick',\n",
    "'Parkour',\n",
    "'Pole sports',\n",
    "'Stunt',\n",
    "'Trampolining',\n",
    "'Winter guard']"
   ]
  },
  {
   "cell_type": "code",
   "execution_count": 48,
   "metadata": {},
   "outputs": [
    {
     "name": "stdout",
     "output_type": "stream",
     "text": [
      "Ballet\n",
      "Breakdancing\n",
      "Cheerleading\n",
      "Figure skating\n",
      "Gymnastics\n",
      "Parkour\n"
     ]
    }
   ],
   "source": [
    "folder_name = 'sports_concepts/Acrobatic sports'\n",
    "sub_articles(acrobatic_sports, folder_name)"
   ]
  },
  {
   "attachments": {},
   "cell_type": "markdown",
   "metadata": {},
   "source": [
    "Next, try all conceps having a 'main articles'"
   ]
  },
  {
   "cell_type": "code",
   "execution_count": 49,
   "metadata": {},
   "outputs": [],
   "source": [
    "list_of_sport = ['Air sports',\n",
    "'Archery', 'Boardsport']"
   ]
  },
  {
   "cell_type": "code",
   "execution_count": 50,
   "metadata": {},
   "outputs": [
    {
     "name": "stdout",
     "output_type": "stream",
     "text": [
      "Air sports\n",
      "5\n",
      "Archery\n",
      "322\n",
      "Boardsport\n",
      "71\n"
     ]
    }
   ],
   "source": [
    "folder_name = 'sports_concepts/'\n",
    "main_articles(list_of_sport, folder_name)"
   ]
  },
  {
   "attachments": {},
   "cell_type": "markdown",
   "metadata": {},
   "source": [
    "Air sports: Not enought sentences in 'Main articles'. Thus, all sub-articles are concatenated into one Level II concept, while these sub-articles (if longer than 150 sentences) are saved for Level III concepts."
   ]
  },
  {
   "cell_type": "code",
   "execution_count": 51,
   "metadata": {},
   "outputs": [],
   "source": [
    "Air_sports = ['Aerobatics',\n",
    "'Air racing',\n",
    "'Gliding',\n",
    "'Hang gliding',\n",
    "'Human powered aircraft',\n",
    "'Model aircraft',\n",
    "'Parachuting',\n",
    "'Paragliding',\n",
    "'Paramotoring',\n",
    "'Ultralight aviation']"
   ]
  },
  {
   "cell_type": "code",
   "execution_count": 52,
   "metadata": {},
   "outputs": [
    {
     "name": "stdout",
     "output_type": "stream",
     "text": [
      "Gliding\n",
      "Hang gliding\n",
      "Model aircraft\n",
      "Parachuting\n",
      "Paragliding\n"
     ]
    }
   ],
   "source": [
    "folder_name = 'sports_concepts/Air sports'\n",
    "sub_articles(Air_sports, folder_name)"
   ]
  },
  {
   "cell_type": "code",
   "execution_count": 53,
   "metadata": {},
   "outputs": [],
   "source": [
    "Boardsport = ['Skateboarding',\n",
    "'Scootering',\n",
    "'Skysurfing',\n",
    "'Streetluge',\n",
    "'Snowboarding',\n",
    "'Surfing',\n",
    "'Wakeboarding',\n",
    "'Paddleboarding']"
   ]
  },
  {
   "cell_type": "code",
   "execution_count": 54,
   "metadata": {},
   "outputs": [
    {
     "name": "stdout",
     "output_type": "stream",
     "text": [
      "Skateboarding\n",
      "Snowboarding\n",
      "Surfing\n"
     ]
    }
   ],
   "source": [
    "folder_name = 'sports_concepts/Boardsport'\n",
    "sub_articles(Boardsport, folder_name)"
   ]
  },
  {
   "cell_type": "code",
   "execution_count": 55,
   "metadata": {},
   "outputs": [],
   "source": [
    "# no main article\n",
    "Catching_games = ['Dodgeball',\n",
    "'Frisbee',\n",
    "'Gaga',\n",
    "'Keep away',\n",
    "'Kin-Ball',\n",
    "'Newcomb ball',\n",
    "'Quidditch',\n",
    "'Yukigassen']\n",
    "\n",
    "folder_name = 'sports_concepts/Catching games'\n",
    "sub_articles(Catching_games, folder_name)"
   ]
  },
  {
   "cell_type": "code",
   "execution_count": 56,
   "metadata": {},
   "outputs": [
    {
     "name": "stdout",
     "output_type": "stream",
     "text": [
      "Climbing\n",
      "46\n",
      "Cycle sport\n",
      "57\n",
      "Combat sport\n",
      "68\n"
     ]
    }
   ],
   "source": [
    "list_of_sport = ['Climbing', 'Cycle sport', 'Combat sport']\n",
    "folder_name = 'sports_concepts/'\n",
    "main_articles(list_of_sport, folder_name)"
   ]
  },
  {
   "cell_type": "code",
   "execution_count": 57,
   "metadata": {},
   "outputs": [
    {
     "name": "stdout",
     "output_type": "stream",
     "text": [
      "Mountaineering\n",
      "Rock climbing\n"
     ]
    }
   ],
   "source": [
    "Climbing = ['Abseiling', 'Aid climbing',\n",
    "'Ice climbing',\n",
    "'Mixed climbing',\n",
    "'Mountaineering',\n",
    "'Rock climbing',\n",
    "'Bouldering',\n",
    "'Deep-water soloing',\n",
    "'Sport climbing',\n",
    "'Traditional climbing',\n",
    "'Speed climbing',\n",
    "'Sawanobori']\n",
    "\n",
    "folder_name = 'sports_concepts/Climbing'\n",
    "sub_articles(Climbing, folder_name)"
   ]
  },
  {
   "cell_type": "code",
   "execution_count": 58,
   "metadata": {},
   "outputs": [
    {
     "name": "stdout",
     "output_type": "stream",
     "text": [
      "Bicycle\n"
     ]
    }
   ],
   "source": [
    "Cycling = ['Bicycle', 'Skibobbing', 'Unicycle']\n",
    "\n",
    "folder_name = 'sports_concepts/Cycling'\n",
    "sub_articles(Cycling, folder_name)"
   ]
  },
  {
   "cell_type": "code",
   "execution_count": 59,
   "metadata": {},
   "outputs": [
    {
     "name": "stdout",
     "output_type": "stream",
     "text": [
      "Jujutsu\n"
     ]
    }
   ],
   "source": [
    "Combat_sports = ['Aiki-jūjutsu', 'Jujutsu',\n",
    "'Sambo (martial art)',\n",
    "'Sumo'\n",
    "'Wrestling', \n",
    "'Bajiquan'\n",
    "'Bokator'\n",
    "'Boxing'\n",
    "'Capoeira'\n",
    "'Chess boxing'\n",
    "'Choi Kwang-Do'\n",
    "'Fujian White Crane'\n",
    "'Karate'\n",
    "'Kenpō'\n",
    "'Kickboxing'\n",
    "'Lethwei'\n",
    "'Muay Thai'\n",
    "'Pradal serey'\n",
    "'Savate'\n",
    "'Shaolin Kung Fu'\n",
    "'Shin-kicking'\n",
    "'Sikaran'\n",
    "'Silat'\n",
    "'Subak'\n",
    "'Taekkyeon'\n",
    "'Taekwondo'\n",
    "'Taidō'\n",
    "'Tang Soo Do'\n",
    "'Vovinam'\n",
    "'Wing Chun'\n",
    "'Bare knuckle boxing'\n",
    "]\n",
    "\n",
    "folder_name = 'sports_concepts/Combat sports'\n",
    "sub_articles(Combat_sports, folder_name)"
   ]
  },
  {
   "cell_type": "code",
   "execution_count": 60,
   "metadata": {},
   "outputs": [
    {
     "name": "stdout",
     "output_type": "stream",
     "text": [
      "Obedience trial\n",
      "Jack Russell Terrier\n"
     ]
    }
   ],
   "source": [
    "Dog_sport = ['Herding',\n",
    "'Sheepdog trial',\n",
    "'Treibball',\n",
    "'Heelwork to music',\n",
    "'Musical canine freestyle',\n",
    "'Obedience trial',\n",
    "'Rally obedience',\n",
    "'Schutzhund',\n",
    "'Bikejoring',\n",
    "'Canicross',\n",
    "'Carting',\n",
    "'Dog scootering',\n",
    "'Mushing',\n",
    "'Skijoring',\n",
    "'Weight pulling',\n",
    "'Dachshund racing',\n",
    "'Greyhound and Whippet racing',\n",
    "'Jack Russell Terrier',\n",
    "'Sighthound',\n",
    "'Sled dog racing',\n",
    "'Terrier',\n",
    "'Coon hunting field trial',\n",
    "'Earthdog trial',\n",
    "'Field trial',\n",
    "'Hare coursing',\n",
    "'Hound trailing',\n",
    "'Lure coursing',\n",
    "'Nosework',\n",
    "'Tracking trial',\n",
    "'Trail hunting',\n",
    "'Agility',\n",
    "'Disc dog',\n",
    "'Flyball',\n",
    "'Dog Puller']\n",
    "\n",
    "folder_name = 'sports_concepts/Dog sports'\n",
    "sub_articles(Dog_sport, folder_name)"
   ]
  },
  {
   "cell_type": "code",
   "execution_count": 61,
   "metadata": {},
   "outputs": [
    {
     "name": "stdout",
     "output_type": "stream",
     "text": [
      "Charreada\n",
      "Dressage\n",
      "Eventing\n",
      "Harness racing\n",
      "Horse racing\n",
      "Mounted archery\n",
      "Rodeo\n",
      "Show jumping\n"
     ]
    }
   ],
   "source": [
    "Equestrian_sports = ['Buzkashi',\n",
    "'Barrel racing',\n",
    "'Campdrafting',\n",
    "'Cirit',\n",
    "'Charreada',\n",
    "'Chilean rodeo',\n",
    "'Chuckwagon racing',\n",
    "'Cross country',\n",
    "'Cutting',\n",
    "'Dressage',\n",
    "'Endurance riding',\n",
    "'English pleasure',\n",
    "'Equitation',\n",
    "'Eventing',\n",
    "'Equestrian vaulting',\n",
    "'Gymkhana',\n",
    "'Harness racing',\n",
    "'Hobby horse polo',\n",
    "'Horse racing',\n",
    "'Horse polo',\n",
    "'Horseball',\n",
    "'Jineteada gaucha',\n",
    "'Jousting',\n",
    "'Mounted games',\n",
    "'Mounted archery',\n",
    "'Pato',\n",
    "'Pleasure driving',\n",
    "'Reining',\n",
    "'Rodeo',\n",
    "'Show hunter (British)',\n",
    "'Show jumping',\n",
    "'Steeplechase',\n",
    "'Sur-papakh',\n",
    "'Team penning',\n",
    "'Tent pegging',\n",
    "'Western pleasure']\n",
    "\n",
    "folder_name = 'sports_concepts/Equestrian sports'\n",
    "sub_articles(Equestrian_sports, folder_name)"
   ]
  },
  {
   "cell_type": "code",
   "execution_count": 62,
   "metadata": {},
   "outputs": [
    {
     "name": "stdout",
     "output_type": "stream",
     "text": [
      "Fishing\n",
      "204\n",
      "Flying disc sports\n",
      "93\n",
      "Gymnastics\n",
      "314\n"
     ]
    }
   ],
   "source": [
    "list_of_sport = ['Fishing', 'Flying disc sports', 'Gymnastics']\n",
    "\n",
    "folder_name = 'sports_concepts/'\n",
    "main_articles(list_of_sport, folder_name)"
   ]
  },
  {
   "cell_type": "code",
   "execution_count": 63,
   "metadata": {},
   "outputs": [
    {
     "name": "stdout",
     "output_type": "stream",
     "text": [
      "Disc golf\n"
     ]
    }
   ],
   "source": [
    "Flying_disc_sports = ['Disc dog',\n",
    "'Disc golf',\n",
    "'Disc golf (urban)',\n",
    "'Dodge disc',\n",
    "'Double disc court',\n",
    "'Freestyle',\n",
    "'Frisbee',\n",
    "'Goaltimate',\n",
    "'KanJam',\n",
    "'Guts',\n",
    "'Hot box',\n",
    "'Ultimate']\n",
    "\n",
    "folder_name = 'sports_concepts/Flying disc sports'\n",
    "sub_articles(Flying_disc_sports, folder_name)"
   ]
  },
  {
   "cell_type": "code",
   "execution_count": 64,
   "metadata": {},
   "outputs": [
    {
     "name": "stdout",
     "output_type": "stream",
     "text": [
      "Competitive yoga\n",
      "19\n",
      "Hunting\n",
      "452\n"
     ]
    }
   ],
   "source": [
    "list_of_sport = ['Competitive yoga', 'Hunting']\n",
    "\n",
    "folder_name = 'sports_concepts/'\n",
    "main_articles(list_of_sport, folder_name)"
   ]
  },
  {
   "cell_type": "code",
   "execution_count": 65,
   "metadata": {},
   "outputs": [
    {
     "name": "stdout",
     "output_type": "stream",
     "text": [
      "Bandy\n",
      "Curling\n",
      "Figure skating\n",
      "Ice hockey\n",
      "Ringette\n"
     ]
    }
   ],
   "source": [
    "Ice_sports = ['Bandy',\n",
    "'Barrel jumping',\n",
    "'Broomball',\n",
    "'Curling',\n",
    "'Figure skating',\n",
    "'Ice cross downhill',\n",
    "'Ice football',\n",
    "'Ice hockey',\n",
    "'Ice yachting',\n",
    "'Moscow broomball',\n",
    "'Ringette',\n",
    "'Rinkball',\n",
    "'Speed skating',\n",
    "'Ice stock sport']\n",
    "\n",
    "folder_name = 'sports_concepts/Ice sports'\n",
    "sub_articles(Ice_sports, folder_name)"
   ]
  },
  {
   "cell_type": "code",
   "execution_count": 66,
   "metadata": {},
   "outputs": [
    {
     "name": "stdout",
     "output_type": "stream",
     "text": [
      "Hang gliding\n"
     ]
    }
   ],
   "source": [
    "Kite_sports = ['Hang gliding',\n",
    "'Kite buggy',\n",
    "'Kite fighting',\n",
    "'Kite landboarding',\n",
    "'Kitesurfing',\n",
    "'Parasailing',\n",
    "'Snow kiting',\n",
    "'Sport kite']\n",
    "\n",
    "folder_name = 'sports_concepts/Kite sports'\n",
    "sub_articles(Kite_sports, folder_name)"
   ]
  },
  {
   "cell_type": "code",
   "execution_count": 67,
   "metadata": {},
   "outputs": [
    {
     "name": "stdout",
     "output_type": "stream",
     "text": [
      "Triathlon\n"
     ]
    }
   ],
   "source": [
    "Mixed_discipline = ['Adventure racing',\n",
    "'Aquathlon',\n",
    "'Biathlon',\n",
    "'Duathlon',\n",
    "'Decathlon',\n",
    "'Heptathlon',\n",
    "'Icosathlon',\n",
    "'Modern pentathlon',\n",
    "'Pentathlon',\n",
    "'Tetrathlon',\n",
    "'Triathlon'\n",
    "]\n",
    "\n",
    "folder_name = 'sports_concepts/Mixed discipline'\n",
    "sub_articles(Mixed_discipline, folder_name)"
   ]
  },
  {
   "attachments": {},
   "cell_type": "markdown",
   "metadata": {},
   "source": [
    "### Create 'Level I' concept: Sport"
   ]
  },
  {
   "cell_type": "code",
   "execution_count": 119,
   "metadata": {},
   "outputs": [],
   "source": [
    "path_of_sports = '/work3/s174498/concept_random_dataset/wikipedia_20220301/sports_concepts/'\n",
    "folder_name = 'sports_concepts/'\n",
    "\n",
    "create_concept_levelI(path_of_sports, folder_name)"
   ]
  },
  {
   "cell_type": "code",
   "execution_count": 120,
   "metadata": {},
   "outputs": [
    {
     "data": {
      "text/plain": [
       "Dataset({\n",
       "    features: ['title', 'text_list'],\n",
       "    num_rows: 18757\n",
       "})"
      ]
     },
     "execution_count": 120,
     "metadata": {},
     "output_type": "execute_result"
    }
   ],
   "source": [
    "# load_from_disk('/work3/s174498/concept_random_dataset/wikipedia_20220301/sports_concepts/')"
   ]
  }
 ],
 "metadata": {
  "kernelspec": {
   "display_name": "Python 3.7.13 ('sent_env')",
   "language": "python",
   "name": "python3"
  },
  "language_info": {
   "codemirror_mode": {
    "name": "ipython",
    "version": 3
   },
   "file_extension": ".py",
   "mimetype": "text/x-python",
   "name": "python",
   "nbconvert_exporter": "python",
   "pygments_lexer": "ipython3",
   "version": "3.7.13"
  },
  "orig_nbformat": 4,
  "vscode": {
   "interpreter": {
    "hash": "9738a1daac20355f138ac5f9490b2e4e7176effdeaa1fb550cd3c1d19d286cfb"
   }
  }
 },
 "nbformat": 4,
 "nbformat_minor": 2
}
