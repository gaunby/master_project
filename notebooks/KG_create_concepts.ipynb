{
 "cells": [
  {
   "cell_type": "code",
   "execution_count": 1,
   "metadata": {},
   "outputs": [],
   "source": [
    "# Create concepts using wikipedia (and its knowledge graph) \n",
    "# https://en.wikipedia.org/wiki/List_of_sports\n",
    "\n",
    "# Search of sports: Found a link \"List of sports\""
   ]
  },
  {
   "cell_type": "code",
   "execution_count": 1,
   "metadata": {},
   "outputs": [],
   "source": [
    "import pandas as pd\n",
    "import pyarrow as pa\n",
    "from datasets import load_from_disk, Dataset"
   ]
  },
  {
   "cell_type": "code",
   "execution_count": 2,
   "metadata": {},
   "outputs": [],
   "source": [
    "path_dir = '/work3/s174498/concept_random_dataset/wikipedia_20220301/train'\n",
    "wikipedia = load_from_disk(path_dir)"
   ]
  },
  {
   "cell_type": "code",
   "execution_count": 3,
   "metadata": {},
   "outputs": [
    {
     "data": {
      "text/plain": [
       "Dataset({\n",
       "    features: ['id', 'url', 'title', 'text'],\n",
       "    num_rows: 6458670\n",
       "})"
      ]
     },
     "execution_count": 3,
     "metadata": {},
     "output_type": "execute_result"
    }
   ],
   "source": [
    "wikipedia"
   ]
  },
  {
   "cell_type": "code",
   "execution_count": 4,
   "metadata": {},
   "outputs": [],
   "source": [
    "# Physical sports\n",
    "\n",
    "titles = wikipedia['title']\n"
   ]
  },
  {
   "cell_type": "code",
   "execution_count": 5,
   "metadata": {},
   "outputs": [],
   "source": [
    "\n",
    "list_of_sports = ['Acrobatic sports',\n",
    "'Air sports',\n",
    "'Archery',\n",
    "'Ball games',\n",
    "'Ball-over-net games',\n",
    "'Basketball family',\n",
    "'Bat-and-ball',\n",
    "'Board sports',\n",
    "'Catching games',\n",
    "'Climbing',\n",
    "'#Cycling',\n",
    "'Bicycle',\n",
    "'Skibob',\n",
    "'Unicycle',\n",
    "'#Combat sports: wrestling and martial arts',\n",
    "'Grappling',\n",
    "'Striking',\n",
    "'Mixed or hybrid',\n",
    "'Weapons',\n",
    "'Other',\n",
    "'Cue sports',\n",
    "'Dog sports',\n",
    "'Equestrian sports',\n",
    "'Fishing',\n",
    "'Flying disc sports',\n",
    "'Football',\n",
    "'Golf',\n",
    "'Gymnastics',\n",
    "'Competitive yoga',\n",
    "'Handball family',\n",
    "'Hunting',\n",
    "'Ice sports',\n",
    "'Kite sports',\n",
    "'Mixed discipline',\n",
    "'Orienteering family',\n",
    "'Pilota family',\n",
    "'Parkour/Freerunning',\n",
    "'#Racket (or racquet) sports',\n",
    "'Sports that use a netted racket',\n",
    "'Sports that use a non-netted racket, or paddle',\n",
    "'Remote control',\n",
    "'Rodeo-originated',\n",
    "'Running',\n",
    "'Sailing',\n",
    "'#Snow sports',\n",
    "'Skiing',\n",
    "'Sled sports',\n",
    "'#Shooting sports',\n",
    "'Individual',\n",
    "'Athletic hybrid',\n",
    "'Skirmish',\n",
    "'Stacking',\n",
    "'#Stick and ball games',\n",
    "'Hockey',\n",
    "'Hurling and shinty',\n",
    "'Lacrosse',\n",
    "'Polo',\n",
    "'Street sports',\n",
    "'Strength sports',\n",
    "'Tag games',\n",
    "'Walking',\n",
    "'Wall-and-ball',\n",
    "'#Aquatic and paddle sports',\n",
    "'Canoeing',\n",
    "'Kayaking',\n",
    "'Rafting',\n",
    "'Rowing',\n",
    "'Other paddling sports',\n",
    "'#Aquatic ball sports',\n",
    "'Competitive swimming',\n",
    "'Subsurface and recreational',\n",
    "'Diving',\n",
    "'Weightlifting',\n",
    "'#Motorized sports',\n",
    "'Auto racing',\n",
    "'Motorboat racing',\n",
    "'Motorcycle racing',\n",
    "'ATV racing',\n",
    "'Marker sports',\n",
    "'Overlapping sports',\n",
    "'Other',\n",
    "'Speedcubing']"
   ]
  },
  {
   "cell_type": "code",
   "execution_count": 11,
   "metadata": {},
   "outputs": [],
   "source": [
    "list_of_gender = [\n",
    "'Agender',\n",
    "'Androgyne',\n",
    "'Androgynous',\n",
    "'Bakla',\n",
    "'Bigender',\n",
    "'Binary',\n",
    "'Bissu',\n",
    "'Butch',\n",
    "'Calabai',\n",
    "'Calalai',\n",
    "'Cisgender',\n",
    "'Demiflux',\n",
    "'Demigender',\n",
    "'Dual gender',\n",
    "'Endosex',\n",
    "'Female',\n",
    "'Femme',\n",
    "'Gender bender',\n",
    "'Gender diverse',\n",
    "'Genderfluid',\n",
    "'Genderflux',\n",
    "'Genderfuck',\n",
    "'Genderless',\n",
    "'Gender nonconforming',\n",
    "'Genderqueer',\n",
    "'Gender variant',\n",
    "'Intergender',\n",
    "'Intersex',\n",
    "'Hijra',\n",
    "'Kathoey',\n",
    "'Male',\n",
    "'Man',\n",
    "'Multigender',\n",
    "'Muxe',\n",
    "'Neurogender',\n",
    "'Neutrois',\n",
    "'Non-binary',\n",
    "'Omnigender',\n",
    "'Pangender',\n",
    "'Polygender',\n",
    "'Third gender',\n",
    "'Trans man',\n",
    "'Trans woman',\n",
    "'Transgender',\n",
    "'Transfeminine',\n",
    "'Transmasculine',\n",
    "'Transsexual',\n",
    "'Travesti',\n",
    "'Trigender',\n",
    "'Two spirit',\n",
    "'Woman',\n",
    "'X-gender',\n",
    "'Xenogender']"
   ]
  },
  {
   "cell_type": "code",
   "execution_count": 12,
   "metadata": {},
   "outputs": [],
   "source": [
    "list_of_interest = list_of_gender\n",
    "\n",
    "count_datasets = 0\n",
    "concept_list = []\n",
    "for i in range(len(list_of_interest)): \n",
    "    if list_of_interest[i] in titles:\n",
    "\n",
    "        idx = titles.index(list_of_interest[i])\n",
    "\n",
    "        # Clean up data (\\n references in wiki article)\n",
    "        text_clean = wikipedia[idx][\"text\"].replace('\\n\\n', ' ')\n",
    "        text_clean2 = text_clean.replace('\\n', ' ')\n",
    "        phrase_to_list = text_clean2.split(\". \")\n",
    "\n",
    "        if len(phrase_to_list) > 150:\n",
    "            count_datasets = count_datasets + 1\n",
    "            concept_list.append(list_of_interest[i])\n",
    "\n",
    "            df = pd.DataFrame({'id': wikipedia[idx][\"id\"], 'url': wikipedia[idx][\"url\"], \n",
    "            'title': wikipedia[idx][\"title\"], 'text': wikipedia[idx][\"text\"], 'text_list': phrase_to_list})\n",
    "            data_concept = Dataset(pa.Table.from_pandas(df))\n",
    "\n",
    "            # save data\n",
    "            data_concept.save_to_disk('/work3/s174498/concept_random_dataset/wikipedia_20220301/gender_concepts/' + list_of_interest[i])"
   ]
  },
  {
   "cell_type": "code",
   "execution_count": 13,
   "metadata": {},
   "outputs": [
    {
     "name": "stdout",
     "output_type": "stream",
     "text": [
      "6\n",
      "82\n"
     ]
    },
    {
     "data": {
      "text/plain": [
       "['Intersex', 'Kathoey', 'Third gender', 'Transgender', 'Transsexual', 'Woman']"
      ]
     },
     "execution_count": 13,
     "metadata": {},
     "output_type": "execute_result"
    }
   ],
   "source": [
    "print(count_datasets)\n",
    "print(len(list_of_sports))\n",
    "concept_list"
   ]
  },
  {
   "cell_type": "code",
   "execution_count": 3,
   "metadata": {},
   "outputs": [],
   "source": [
    "path_dir = '/work3/s174498/concept_random_dataset/wikipedia_20220301/concepts/Cycling'\n",
    "wikipedia = load_from_disk(path_dir)"
   ]
  },
  {
   "cell_type": "code",
   "execution_count": null,
   "metadata": {},
   "outputs": [],
   "source": []
  }
 ],
 "metadata": {
  "kernelspec": {
   "display_name": "Python 3.7.13 ('sent_env')",
   "language": "python",
   "name": "python3"
  },
  "language_info": {
   "codemirror_mode": {
    "name": "ipython",
    "version": 3
   },
   "file_extension": ".py",
   "mimetype": "text/x-python",
   "name": "python",
   "nbconvert_exporter": "python",
   "pygments_lexer": "ipython3",
   "version": "3.7.13"
  },
  "orig_nbformat": 4,
  "vscode": {
   "interpreter": {
    "hash": "9738a1daac20355f138ac5f9490b2e4e7176effdeaa1fb550cd3c1d19d286cfb"
   }
  }
 },
 "nbformat": 4,
 "nbformat_minor": 2
}
