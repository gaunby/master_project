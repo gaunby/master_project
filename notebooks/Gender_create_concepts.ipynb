{
 "cells": [
  {
   "cell_type": "code",
   "execution_count": 1,
   "metadata": {},
   "outputs": [],
   "source": [
    "# Create gender concepts using wikipedia"
   ]
  },
  {
   "cell_type": "code",
   "execution_count": 2,
   "metadata": {},
   "outputs": [],
   "source": [
    "import pandas as pd\n",
    "import numpy as np\n",
    "import pyarrow as pa\n",
    "from datasets import load_from_disk, Dataset\n",
    "import os"
   ]
  },
  {
   "cell_type": "code",
   "execution_count": 3,
   "metadata": {},
   "outputs": [],
   "source": [
    "path_dir = '/work3/s174498/concept_random_dataset/wikipedia_20220301/train'\n",
    "wikipedia = load_from_disk(path_dir)\n",
    "\n",
    "titles = wikipedia['title']"
   ]
  },
  {
   "attachments": {},
   "cell_type": "markdown",
   "metadata": {},
   "source": [
    "### Create concepts (Level II and Level III)"
   ]
  },
  {
   "cell_type": "code",
   "execution_count": 18,
   "metadata": {},
   "outputs": [],
   "source": [
    "def main_articles(list_of_interest, folder_name):\n",
    "\n",
    "    count_datasets = 0\n",
    "    concept_list = []\n",
    "    concept_list_saved = []\n",
    "    concept_list_notsaved = []\n",
    "\n",
    "    for i in range(len(list_of_interest)): \n",
    "        if list_of_interest[i] in titles:\n",
    "            concept_list.append(list_of_interest[i])\n",
    "            idx = titles.index(list_of_interest[i])\n",
    "\n",
    "            # Clean up data (\\n references in wiki article)\n",
    "            text_clean = wikipedia[idx][\"text\"].replace('\\n\\n', ' ')\n",
    "            text_clean2 = text_clean.replace('\\n', ' ')\n",
    "            phrase_to_list = text_clean2.split(\". \")\n",
    "            \n",
    "            # make sure each phase consists of text\n",
    "            word_in_sentence = []\n",
    "            phrase_to_list_reduced = []\n",
    "            for j in range(len(phrase_to_list)):\n",
    "                word_in_sentence.append(len(phrase_to_list[j].split()))\n",
    "\n",
    "                if(word_in_sentence[j] > 1):\n",
    "                    phrase_to_list_reduced.append(phrase_to_list[j])\n",
    "\n",
    "            if len(phrase_to_list_reduced) > 150:\n",
    "                print(list_of_interest[i])\n",
    "                count_datasets = count_datasets + 1\n",
    "                concept_list_saved.append(list_of_interest[i])\n",
    "\n",
    "                df = pd.DataFrame({'id': wikipedia[idx][\"id\"], 'url': wikipedia[idx][\"url\"], \n",
    "                'title': wikipedia[idx][\"title\"], 'text': wikipedia[idx][\"text\"], 'text_list': phrase_to_list_reduced})\n",
    "                data_concept = Dataset(pa.Table.from_pandas(df))\n",
    "\n",
    "                # save data\n",
    "                data_concept.save_to_disk('/work3/s174498/concept_random_dataset/wikipedia_20220301/' + folder_name + list_of_interest[i])\n",
    "            else: \n",
    "                concept_list_notsaved.append(list_of_interest[i])\n",
    "        else: \n",
    "            print(list_of_interest[i] + ' does not exist')\n",
    "\n",
    "def sub_articles(list_of_interest, folder_name):\n",
    "    count_datasets = 0\n",
    "    concept_list = []\n",
    "    concept_list_saved = []\n",
    "    concatenate_phrases = []\n",
    "\n",
    "    for i in range(len(list_of_interest)): \n",
    "        if list_of_interest[i] in titles:\n",
    "            concept_list.append(list_of_interest[i])\n",
    "            idx = titles.index(list_of_interest[i])\n",
    "\n",
    "            # Clean up data (\\n references in wiki article)\n",
    "            text_clean = wikipedia[idx][\"text\"].replace('\\n\\n', ' ')\n",
    "            text_clean2 = text_clean.replace('\\n', ' ')\n",
    "            phrase_to_list = text_clean2.split(\". \")\n",
    "\n",
    "            # make sure each phase consists of text\n",
    "            word_in_sentence = []\n",
    "            phrase_to_list_reduced = []\n",
    "            for j in range(len(phrase_to_list)):\n",
    "                word_in_sentence.append(len(phrase_to_list[j].split()))\n",
    "\n",
    "                if(word_in_sentence[j] > 1):\n",
    "                    phrase_to_list_reduced.append(phrase_to_list[j])\n",
    "\n",
    "            # Save concepts to \"Level II\"\n",
    "            concatenate_phrases = concatenate_phrases + phrase_to_list_reduced\n",
    "\n",
    "            # Save concepts to \"Level III\"\n",
    "            if len(phrase_to_list_reduced) > 110:\n",
    "                print(list_of_interest[i])\n",
    "                concept_list_saved.append(list_of_interest[i])\n",
    "\n",
    "                df = pd.DataFrame({'id': wikipedia[idx][\"id\"], 'url': wikipedia[idx][\"url\"], \n",
    "                'title': wikipedia[idx][\"title\"], 'text': wikipedia[idx][\"text\"], 'text_list': phrase_to_list_reduced})\n",
    "                data_concept = Dataset(pa.Table.from_pandas(df))\n",
    "\n",
    "                # save data\n",
    "                path = os.path.join('/work3/s174498/concept_random_dataset/wikipedia_20220301/', folder_name)\n",
    "                data_concept.save_to_disk(path + '/' + list_of_interest[i])\n",
    "\n",
    "    if len(concatenate_phrases) > 110:\n",
    "        df_levelII = pd.DataFrame({'title': folder_name, 'text_list': concatenate_phrases})\n",
    "        data_concept_levelII = Dataset(pa.Table.from_pandas(df_levelII))\n",
    "\n",
    "        # save data\n",
    "        data_concept_levelII.save_to_disk('/work3/s174498/concept_random_dataset/wikipedia_20220301/' + folder_name)"
   ]
  },
  {
   "attachments": {},
   "cell_type": "markdown",
   "metadata": {},
   "source": [
    "### Create function to create concepts (level I)"
   ]
  },
  {
   "cell_type": "code",
   "execution_count": 19,
   "metadata": {},
   "outputs": [],
   "source": [
    "def create_concept_levelI(path_of_concepts, folder_name):\n",
    "\n",
    "    list_of_folders = [os.path.join(path_of_concepts, o) for o in os.listdir(path_of_concepts) \n",
    "                        if os.path.isdir(os.path.join(path_of_concepts,o))]\n",
    "\n",
    "    concat_text = []\n",
    "    for i in range(len(list_of_folders)):\n",
    "        data = load_from_disk(list_of_folders[i])\n",
    "        data_text = data['text_list']\n",
    "\n",
    "        concat_text = concat_text + data_text\n",
    "        \n",
    "        df_levelI = pd.DataFrame({'title': folder_name, 'text_list': concat_text})\n",
    "        data_concept_levelI = Dataset(pa.Table.from_pandas(df_levelI))\n",
    "\n",
    "        # save data\n",
    "        data_concept_levelI.save_to_disk('/work3/s174498/concept_random_dataset/wikipedia_20220301/' + folder_name)"
   ]
  },
  {
   "attachments": {},
   "cell_type": "markdown",
   "metadata": {},
   "source": [
    "# Create datasets for gender concepts"
   ]
  },
  {
   "cell_type": "code",
   "execution_count": 20,
   "metadata": {},
   "outputs": [],
   "source": [
    "man_male = ['Man', 'Male']"
   ]
  },
  {
   "cell_type": "code",
   "execution_count": 21,
   "metadata": {},
   "outputs": [],
   "source": [
    "folder_name = 'gender_concepts_new/man_male'\n",
    "sub_articles(man_male, folder_name)"
   ]
  },
  {
   "cell_type": "code",
   "execution_count": 22,
   "metadata": {},
   "outputs": [
    {
     "name": "stdout",
     "output_type": "stream",
     "text": [
      "Woman\n"
     ]
    }
   ],
   "source": [
    "woman_female = ['Woman', 'Female']\n",
    "folder_name = 'gender_concepts_new/woman_female'\n",
    "sub_articles(woman_female, folder_name)"
   ]
  },
  {
   "cell_type": "code",
   "execution_count": 23,
   "metadata": {},
   "outputs": [
    {
     "name": "stdout",
     "output_type": "stream",
     "text": [
      "Intersex\n"
     ]
    }
   ],
   "source": [
    "intersex = ['Intersex']\n",
    "folder_name = 'gender_concepts_new/intersex'\n",
    "sub_articles(intersex, folder_name)"
   ]
  },
  {
   "attachments": {},
   "cell_type": "markdown",
   "metadata": {},
   "source": [
    "# Create datasets for sports concepts"
   ]
  },
  {
   "attachments": {},
   "cell_type": "markdown",
   "metadata": {},
   "source": [
    "Acrobatic sports: No 'Main articles'. Thus, all sub-articles are concatenated into one Level II concept, while these sub-articles (if longer than 150 sentences) are saved for Level III concepts."
   ]
  },
  {
   "cell_type": "code",
   "execution_count": 6,
   "metadata": {},
   "outputs": [],
   "source": [
    "acrobatic_sports = ['Ballet',\n",
    "'Breakdancing',\n",
    "'Competitive dancing',\n",
    "'Cheerleading',\n",
    "'Dancesport',\n",
    "'Dragon dance',\n",
    "'Figure skating',\n",
    "'Freerunning',\n",
    "'Gymnastics',\n",
    "'High kick',\n",
    "'Parkour',\n",
    "'Pole sports',\n",
    "'Stunt',\n",
    "'Trampolining',\n",
    "'Winter guard']"
   ]
  },
  {
   "cell_type": "code",
   "execution_count": 7,
   "metadata": {},
   "outputs": [
    {
     "name": "stdout",
     "output_type": "stream",
     "text": [
      "Ballet\n",
      "Breakdancing\n",
      "Cheerleading\n",
      "Figure skating\n",
      "Gymnastics\n",
      "Parkour\n"
     ]
    }
   ],
   "source": [
    "folder_name = 'sports_concepts/Acrobatic sports'\n",
    "sub_articles(acrobatic_sports, folder_name)"
   ]
  },
  {
   "attachments": {},
   "cell_type": "markdown",
   "metadata": {},
   "source": [
    "Next, try all conceps having a 'main articles'"
   ]
  },
  {
   "cell_type": "code",
   "execution_count": 8,
   "metadata": {},
   "outputs": [],
   "source": [
    "list_of_sport = ['Air sports',\n",
    "'Archery', 'Boardsport']"
   ]
  },
  {
   "cell_type": "code",
   "execution_count": 9,
   "metadata": {},
   "outputs": [
    {
     "name": "stdout",
     "output_type": "stream",
     "text": [
      "Archery\n"
     ]
    }
   ],
   "source": [
    "folder_name = 'sports_concepts/'\n",
    "main_articles(list_of_sport, folder_name)"
   ]
  },
  {
   "attachments": {},
   "cell_type": "markdown",
   "metadata": {},
   "source": [
    "Air sports: Not enought sentences in 'Main articles'. Thus, all sub-articles are concatenated into one Level II concept, while these sub-articles (if longer than 150 sentences) are saved for Level III concepts."
   ]
  },
  {
   "cell_type": "code",
   "execution_count": 10,
   "metadata": {},
   "outputs": [],
   "source": [
    "Air_sports = ['Aerobatics',\n",
    "'Air racing',\n",
    "'Gliding',\n",
    "'Hang gliding',\n",
    "'Human powered aircraft',\n",
    "'Model aircraft',\n",
    "'Parachuting',\n",
    "'Paragliding',\n",
    "'Paramotoring',\n",
    "'Ultralight aviation']"
   ]
  },
  {
   "cell_type": "code",
   "execution_count": 11,
   "metadata": {},
   "outputs": [
    {
     "name": "stdout",
     "output_type": "stream",
     "text": [
      "Gliding\n",
      "Hang gliding\n",
      "Model aircraft\n",
      "Parachuting\n",
      "Paragliding\n"
     ]
    }
   ],
   "source": [
    "folder_name = 'sports_concepts/Air sports'\n",
    "sub_articles(Air_sports, folder_name)"
   ]
  },
  {
   "cell_type": "code",
   "execution_count": 12,
   "metadata": {},
   "outputs": [],
   "source": [
    "Boardsport = ['Skateboarding',\n",
    "'Scootering',\n",
    "'Skysurfing',\n",
    "'Streetluge',\n",
    "'Snowboarding',\n",
    "'Surfing',\n",
    "'Wakeboarding',\n",
    "'Paddleboarding']"
   ]
  },
  {
   "cell_type": "code",
   "execution_count": 13,
   "metadata": {},
   "outputs": [
    {
     "name": "stdout",
     "output_type": "stream",
     "text": [
      "Skateboarding\n",
      "Snowboarding\n",
      "Surfing\n"
     ]
    }
   ],
   "source": [
    "folder_name = 'sports_concepts/Boardsport'\n",
    "sub_articles(Boardsport, folder_name)"
   ]
  },
  {
   "cell_type": "code",
   "execution_count": 14,
   "metadata": {},
   "outputs": [],
   "source": [
    "# no main article\n",
    "Catching_games = ['Dodgeball',\n",
    "'Frisbee',\n",
    "'Gaga',\n",
    "'Keep away',\n",
    "'Kin-Ball',\n",
    "'Newcomb ball',\n",
    "'Quidditch',\n",
    "'Yukigassen']\n",
    "\n",
    "folder_name = 'sports_concepts/Catching games'\n",
    "sub_articles(Catching_games, folder_name)"
   ]
  },
  {
   "cell_type": "code",
   "execution_count": 15,
   "metadata": {},
   "outputs": [],
   "source": [
    "list_of_sport = ['Climbing', 'Cycle sport', 'Combat sport']\n",
    "folder_name = 'sports_concepts/'\n",
    "main_articles(list_of_sport, folder_name)"
   ]
  },
  {
   "cell_type": "code",
   "execution_count": 16,
   "metadata": {},
   "outputs": [
    {
     "name": "stdout",
     "output_type": "stream",
     "text": [
      "Mountaineering\n",
      "Rock climbing\n"
     ]
    }
   ],
   "source": [
    "Climbing = ['Abseiling', 'Aid climbing',\n",
    "'Ice climbing',\n",
    "'Mixed climbing',\n",
    "'Mountaineering',\n",
    "'Rock climbing',\n",
    "'Bouldering',\n",
    "'Deep-water soloing',\n",
    "'Sport climbing',\n",
    "'Traditional climbing',\n",
    "'Speed climbing',\n",
    "'Sawanobori']\n",
    "\n",
    "folder_name = 'sports_concepts/Climbing'\n",
    "sub_articles(Climbing, folder_name)"
   ]
  },
  {
   "cell_type": "code",
   "execution_count": 17,
   "metadata": {},
   "outputs": [
    {
     "name": "stdout",
     "output_type": "stream",
     "text": [
      "Bicycle\n"
     ]
    }
   ],
   "source": [
    "Cycling = ['Bicycle', 'Skibobbing', 'Unicycle']\n",
    "\n",
    "folder_name = 'sports_concepts/Cycling'\n",
    "sub_articles(Cycling, folder_name)"
   ]
  },
  {
   "cell_type": "code",
   "execution_count": 18,
   "metadata": {},
   "outputs": [
    {
     "name": "stdout",
     "output_type": "stream",
     "text": [
      "Jujutsu\n"
     ]
    }
   ],
   "source": [
    "Combat_sports = ['Aiki-jūjutsu', 'Jujutsu',\n",
    "'Sambo (martial art)',\n",
    "'Sumo'\n",
    "'Wrestling', \n",
    "'Bajiquan'\n",
    "'Bokator'\n",
    "'Boxing'\n",
    "'Capoeira'\n",
    "'Chess boxing'\n",
    "'Choi Kwang-Do'\n",
    "'Fujian White Crane'\n",
    "'Karate'\n",
    "'Kenpō'\n",
    "'Kickboxing'\n",
    "'Lethwei'\n",
    "'Muay Thai'\n",
    "'Pradal serey'\n",
    "'Savate'\n",
    "'Shaolin Kung Fu'\n",
    "'Shin-kicking'\n",
    "'Sikaran'\n",
    "'Silat'\n",
    "'Subak'\n",
    "'Taekkyeon'\n",
    "'Taekwondo'\n",
    "'Taidō'\n",
    "'Tang Soo Do'\n",
    "'Vovinam'\n",
    "'Wing Chun'\n",
    "'Bare knuckle boxing'\n",
    "]\n",
    "\n",
    "folder_name = 'sports_concepts/Combat sports'\n",
    "sub_articles(Combat_sports, folder_name)"
   ]
  },
  {
   "cell_type": "code",
   "execution_count": 19,
   "metadata": {},
   "outputs": [
    {
     "name": "stdout",
     "output_type": "stream",
     "text": [
      "Obedience trial\n",
      "Jack Russell Terrier\n"
     ]
    }
   ],
   "source": [
    "Dog_sport = ['Herding',\n",
    "'Sheepdog trial',\n",
    "'Treibball',\n",
    "'Heelwork to music',\n",
    "'Musical canine freestyle',\n",
    "'Obedience trial',\n",
    "'Rally obedience',\n",
    "'Schutzhund',\n",
    "'Bikejoring',\n",
    "'Canicross',\n",
    "'Carting',\n",
    "'Dog scootering',\n",
    "'Mushing',\n",
    "'Skijoring',\n",
    "'Weight pulling',\n",
    "'Dachshund racing',\n",
    "'Greyhound and Whippet racing',\n",
    "'Jack Russell Terrier',\n",
    "'Sighthound',\n",
    "'Sled dog racing',\n",
    "'Terrier',\n",
    "'Coon hunting field trial',\n",
    "'Earthdog trial',\n",
    "'Field trial',\n",
    "'Hare coursing',\n",
    "'Hound trailing',\n",
    "'Lure coursing',\n",
    "'Nosework',\n",
    "'Tracking trial',\n",
    "'Trail hunting',\n",
    "'Agility',\n",
    "'Disc dog',\n",
    "'Flyball',\n",
    "'Dog Puller']\n",
    "\n",
    "folder_name = 'sports_concepts/Dog sports'\n",
    "sub_articles(Dog_sport, folder_name)"
   ]
  },
  {
   "cell_type": "code",
   "execution_count": 20,
   "metadata": {},
   "outputs": [
    {
     "name": "stdout",
     "output_type": "stream",
     "text": [
      "Charreada\n",
      "Dressage\n",
      "Eventing\n",
      "Harness racing\n",
      "Horse racing\n",
      "Mounted archery\n",
      "Rodeo\n",
      "Show jumping\n"
     ]
    }
   ],
   "source": [
    "Equestrian_sports = ['Buzkashi',\n",
    "'Barrel racing',\n",
    "'Campdrafting',\n",
    "'Cirit',\n",
    "'Charreada',\n",
    "'Chilean rodeo',\n",
    "'Chuckwagon racing',\n",
    "'Cross country',\n",
    "'Cutting',\n",
    "'Dressage',\n",
    "'Endurance riding',\n",
    "'English pleasure',\n",
    "'Equitation',\n",
    "'Eventing',\n",
    "'Equestrian vaulting',\n",
    "'Gymkhana',\n",
    "'Harness racing',\n",
    "'Hobby horse polo',\n",
    "'Horse racing',\n",
    "'Horse polo',\n",
    "'Horseball',\n",
    "'Jineteada gaucha',\n",
    "'Jousting',\n",
    "'Mounted games',\n",
    "'Mounted archery',\n",
    "'Pato',\n",
    "'Pleasure driving',\n",
    "'Reining',\n",
    "'Rodeo',\n",
    "'Show hunter (British)',\n",
    "'Show jumping',\n",
    "'Steeplechase',\n",
    "'Sur-papakh',\n",
    "'Team penning',\n",
    "'Tent pegging',\n",
    "'Western pleasure']\n",
    "\n",
    "folder_name = 'sports_concepts/Equestrian sports'\n",
    "sub_articles(Equestrian_sports, folder_name)"
   ]
  },
  {
   "cell_type": "code",
   "execution_count": 21,
   "metadata": {},
   "outputs": [
    {
     "name": "stdout",
     "output_type": "stream",
     "text": [
      "Fishing\n",
      "Gymnastics\n"
     ]
    }
   ],
   "source": [
    "list_of_sport = ['Fishing', 'Flying disc sports', 'Gymnastics']\n",
    "\n",
    "folder_name = 'sports_concepts/'\n",
    "main_articles(list_of_sport, folder_name)"
   ]
  },
  {
   "cell_type": "code",
   "execution_count": 22,
   "metadata": {},
   "outputs": [
    {
     "name": "stdout",
     "output_type": "stream",
     "text": [
      "Disc golf\n"
     ]
    }
   ],
   "source": [
    "Flying_disc_sports = ['Disc dog',\n",
    "'Disc golf',\n",
    "'Disc golf (urban)',\n",
    "'Dodge disc',\n",
    "'Double disc court',\n",
    "'Freestyle',\n",
    "'Frisbee',\n",
    "'Goaltimate',\n",
    "'KanJam',\n",
    "'Guts',\n",
    "'Hot box',\n",
    "'Ultimate']\n",
    "\n",
    "folder_name = 'sports_concepts/Flying disc sports'\n",
    "sub_articles(Flying_disc_sports, folder_name)"
   ]
  },
  {
   "cell_type": "code",
   "execution_count": 23,
   "metadata": {},
   "outputs": [
    {
     "name": "stdout",
     "output_type": "stream",
     "text": [
      "Hunting\n"
     ]
    }
   ],
   "source": [
    "list_of_sport = ['Competitive yoga', 'Hunting']\n",
    "\n",
    "folder_name = 'sports_concepts/'\n",
    "main_articles(list_of_sport, folder_name)"
   ]
  },
  {
   "cell_type": "code",
   "execution_count": 24,
   "metadata": {},
   "outputs": [
    {
     "name": "stdout",
     "output_type": "stream",
     "text": [
      "Bandy\n",
      "Curling\n",
      "Figure skating\n",
      "Ice hockey\n",
      "Ringette\n"
     ]
    }
   ],
   "source": [
    "Ice_sports = ['Bandy',\n",
    "'Barrel jumping',\n",
    "'Broomball',\n",
    "'Curling',\n",
    "'Figure skating',\n",
    "'Ice cross downhill',\n",
    "'Ice football',\n",
    "'Ice hockey',\n",
    "'Ice yachting',\n",
    "'Moscow broomball',\n",
    "'Ringette',\n",
    "'Rinkball',\n",
    "'Speed skating',\n",
    "'Ice stock sport']\n",
    "\n",
    "folder_name = 'sports_concepts/Ice sports'\n",
    "sub_articles(Ice_sports, folder_name)"
   ]
  },
  {
   "cell_type": "code",
   "execution_count": 25,
   "metadata": {},
   "outputs": [
    {
     "name": "stdout",
     "output_type": "stream",
     "text": [
      "Hang gliding\n"
     ]
    }
   ],
   "source": [
    "Kite_sports = ['Hang gliding',\n",
    "'Kite buggy',\n",
    "'Kite fighting',\n",
    "'Kite landboarding',\n",
    "'Kitesurfing',\n",
    "'Parasailing',\n",
    "'Snow kiting',\n",
    "'Sport kite']\n",
    "\n",
    "folder_name = 'sports_concepts/Kite sports'\n",
    "sub_articles(Kite_sports, folder_name)"
   ]
  },
  {
   "cell_type": "code",
   "execution_count": 26,
   "metadata": {},
   "outputs": [
    {
     "name": "stdout",
     "output_type": "stream",
     "text": [
      "Triathlon\n"
     ]
    }
   ],
   "source": [
    "Mixed_discipline = ['Adventure racing',\n",
    "'Aquathlon',\n",
    "'Biathlon',\n",
    "'Duathlon',\n",
    "'Decathlon',\n",
    "'Heptathlon',\n",
    "'Icosathlon',\n",
    "'Modern pentathlon',\n",
    "'Pentathlon',\n",
    "'Tetrathlon',\n",
    "'Triathlon'\n",
    "]\n",
    "\n",
    "folder_name = 'sports_concepts/Mixed discipline'\n",
    "sub_articles(Mixed_discipline, folder_name)"
   ]
  },
  {
   "cell_type": "code",
   "execution_count": 27,
   "metadata": {},
   "outputs": [
    {
     "name": "stdout",
     "output_type": "stream",
     "text": [
      "Amateur radio direction finding\n",
      "Geocaching\n",
      "Orienteering\n"
     ]
    }
   ],
   "source": [
    "Orienteering_family = ['Amateur radio direction finding', \n",
    "'Geocaching',\n",
    "'Geohashing',\n",
    "'Letterboxing',\n",
    "'Orienteering',\n",
    "'Rogaining',\n",
    "'Waymarking']\n",
    "\n",
    "folder_name = 'sports_concepts/Orienteering family'\n",
    "sub_articles(Orienteering_family, folder_name)"
   ]
  },
  {
   "cell_type": "code",
   "execution_count": 28,
   "metadata": {},
   "outputs": [
    {
     "name": "stdout",
     "output_type": "stream",
     "text": [
      "Parkour\n"
     ]
    }
   ],
   "source": [
    "Parkour_Freerunning = ['Freerunning',\n",
    "'Tricking',\n",
    "'Sasuke',\n",
    "'Obstacle course racing', \n",
    "'Parkour',\n",
    "'Trampolining',\n",
    "'World Chase Tag'] \n",
    "\n",
    "folder_name = 'sports_concepts/Parkour Freerunning'\n",
    "sub_articles(Parkour_Freerunning, folder_name)"
   ]
  },
  {
   "cell_type": "code",
   "execution_count": 29,
   "metadata": {},
   "outputs": [
    {
     "name": "stdout",
     "output_type": "stream",
     "text": [
      "Rodeo\n",
      "Running\n",
      "Sailing\n"
     ]
    }
   ],
   "source": [
    "list_of_sport = ['Rodeo', 'Running', 'Sailing']\n",
    "\n",
    "folder_name = 'sports_concepts/'\n",
    "main_articles(list_of_sport, folder_name)"
   ]
  },
  {
   "cell_type": "code",
   "execution_count": 30,
   "metadata": {},
   "outputs": [],
   "source": [
    "Snow_sports = ['Broombal', 'Skiing', 'Sledding'] \n",
    "\n",
    "folder_name = 'sports_concepts/Snow sports'\n",
    "sub_articles(Snow_sports, folder_name)"
   ]
  },
  {
   "cell_type": "code",
   "execution_count": 31,
   "metadata": {},
   "outputs": [
    {
     "name": "stdout",
     "output_type": "stream",
     "text": [
      "Shooting sports\n"
     ]
    }
   ],
   "source": [
    "list_of_sport = ['Shooting sports', 'Tag (game)']\n",
    "\n",
    "folder_name = 'sports_concepts/'\n",
    "main_articles(list_of_sport, folder_name)"
   ]
  },
  {
   "cell_type": "code",
   "execution_count": 32,
   "metadata": {},
   "outputs": [],
   "source": [
    "Stacking = ['House of cards',\n",
    "'Sport stacking',\n",
    "'Dice stacking',\n",
    "'Sport stacking']\n",
    "\n",
    "folder_name = 'sports_concepts/Stacking'\n",
    "sub_articles(Stacking, folder_name)"
   ]
  },
  {
   "cell_type": "code",
   "execution_count": 33,
   "metadata": {},
   "outputs": [
    {
     "name": "stdout",
     "output_type": "stream",
     "text": [
      "Parkour\n"
     ]
    }
   ],
   "source": [
    "Street_sports = ['Free running',\n",
    "'Freestyle footbag',\n",
    "'Freestyle football',\n",
    "'Jumping stilts',\n",
    "'Parkour',\n",
    "'Freestyle scootering',\n",
    "'Street workout']\n",
    "\n",
    "folder_name = 'sports_concepts/Street sports'\n",
    "sub_articles(Street_sports, folder_name)"
   ]
  },
  {
   "cell_type": "code",
   "execution_count": 34,
   "metadata": {},
   "outputs": [],
   "source": [
    "Strength_sports = ['Strongman']\n",
    "\n",
    "folder_name = 'sports_concepts/Strength sports'\n",
    "sub_articles(Strength_sports, folder_name)"
   ]
  },
  {
   "cell_type": "code",
   "execution_count": 35,
   "metadata": {},
   "outputs": [
    {
     "name": "stdout",
     "output_type": "stream",
     "text": [
      "Jugger\n",
      "Marco Polo\n"
     ]
    }
   ],
   "source": [
    "Tag_game = ['Tag (Game)', \n",
    "'Atya-patya',\n",
    "'Bo-taoshi',\n",
    "'British Bulldog',\n",
    "'Capture the flag',\n",
    "'Darebase',\n",
    "'Hana Ichi Monme',\n",
    "'Hide and seek',\n",
    "'Jugger',\n",
    "'Kabaddi',\n",
    "'Kho kho',\n",
    "'Kick the can',\n",
    "'Langdi',\n",
    "'Marco Polo',\n",
    "'Oztag',\n",
    "'Red rover',\n",
    "'World Chase Tag']\n",
    "\n",
    "folder_name = 'sports_concepts/Tag game'\n",
    "sub_articles(Tag_game, folder_name)"
   ]
  },
  {
   "cell_type": "code",
   "execution_count": 36,
   "metadata": {},
   "outputs": [
    {
     "name": "stdout",
     "output_type": "stream",
     "text": [
      "Hiking\n",
      "Walking\n"
     ]
    }
   ],
   "source": [
    "Walking = ['Backpacking (hiking)',\n",
    "'Bushwhacking',\n",
    "'Hiking',\n",
    "'Racewalking',\n",
    "'Walking']\n",
    "\n",
    "folder_name = 'sports_concepts/Walking'\n",
    "sub_articles(Walking, folder_name)"
   ]
  },
  {
   "cell_type": "code",
   "execution_count": 37,
   "metadata": {},
   "outputs": [
    {
     "name": "stdout",
     "output_type": "stream",
     "text": [
      "Rowing (sport)\n",
      "Water polo\n",
      "Underwater hockey\n",
      "Underwater ice hockey\n",
      "Swimming (sport)\n",
      "Recreational diving\n"
     ]
    }
   ],
   "source": [
    "Aquatic_and_paddle_sports = ['Canoeing',\n",
    "'Outrigger canoeing', 'Kayaking', 'Rafting',\n",
    "'White water rafting', 'Rowing (sport)',\n",
    "'Gig racing',\n",
    "'Coastal and ocean rowing',\n",
    "'Single scull', 'Dragon boat racing',\n",
    "'Stand up paddle boarding', 'Water polo',\n",
    "'Canoe polo',\n",
    "'Stone skipping',\n",
    "'Waboba', 'Underwater football',\n",
    "'Underwater rugby',\n",
    "'Underwater hockey',\n",
    "'Underwater ice hockey', 'Swimming (sport)', \n",
    "'Bifins (finswimming)', \n",
    "'Surface finswimming', 'Recreational diving', 'diving']\n",
    "\n",
    "folder_name = 'sports_concepts/Aquatic and paddle sports'\n",
    "sub_articles(Aquatic_and_paddle_sports, folder_name)"
   ]
  },
  {
   "cell_type": "code",
   "execution_count": 38,
   "metadata": {},
   "outputs": [
    {
     "name": "stdout",
     "output_type": "stream",
     "text": [
      "Powerlifting\n"
     ]
    }
   ],
   "source": [
    "Weightlifting = ['Olympic weightlifting', 'Powerlifting']\n",
    "\n",
    "folder_name = 'sports_concepts/Weightlifting'\n",
    "sub_articles(Weightlifting, folder_name)"
   ]
  },
  {
   "cell_type": "code",
   "execution_count": 39,
   "metadata": {},
   "outputs": [],
   "source": [
    "list_of_sport = ['Motorsport']\n",
    "\n",
    "folder_name = 'sports_concepts/'\n",
    "main_articles(list_of_sport, folder_name)"
   ]
  },
  {
   "cell_type": "code",
   "execution_count": 40,
   "metadata": {},
   "outputs": [
    {
     "name": "stdout",
     "output_type": "stream",
     "text": [
      "Auto racing\n",
      "Motorcycle racing\n",
      "All-terrain vehicle\n"
     ]
    }
   ],
   "source": [
    "Motorsport = ['Motorsport', 'Auto racing', 'Offshore powerboat racing', 'Motorcycle racing', 'All-terrain vehicle']\n",
    "\n",
    "folder_name = 'sports_concepts/Motersport'\n",
    "sub_articles(Motorsport, folder_name)"
   ]
  },
  {
   "cell_type": "code",
   "execution_count": 41,
   "metadata": {},
   "outputs": [
    {
     "name": "stdout",
     "output_type": "stream",
     "text": [
      "Airsoft\n",
      "Archery\n",
      "Paintball\n",
      "Darts\n"
     ]
    }
   ],
   "source": [
    "Marker_sports = ['Airsoft',\n",
    "'Archery',\n",
    "'Paintball',\n",
    "'Darts']\n",
    "\n",
    "folder_name = 'sports_concepts/Marker sports'\n",
    "sub_articles(Marker_sports, folder_name)"
   ]
  },
  {
   "cell_type": "code",
   "execution_count": 42,
   "metadata": {},
   "outputs": [],
   "source": [
    "Overlapping_sports = ['Chess boxing',\n",
    "'Motoball',\n",
    "'Whirlyball']\n",
    "\n",
    "folder_name = 'sports_concepts/Overlapping sports'\n",
    "sub_articles(Overlapping_sports, folder_name)"
   ]
  },
  {
   "cell_type": "code",
   "execution_count": 43,
   "metadata": {},
   "outputs": [
    {
     "name": "stdout",
     "output_type": "stream",
     "text": [
      "Singing\n",
      "Marching band\n"
     ]
    }
   ],
   "source": [
    "Other = ['Singing',\n",
    "'Band',\n",
    "'Marching band',\n",
    "'Beatboxing']\n",
    "\n",
    "folder_name = 'sports_concepts/Other'\n",
    "sub_articles(Other, folder_name)"
   ]
  },
  {
   "cell_type": "code",
   "execution_count": 44,
   "metadata": {},
   "outputs": [],
   "source": [
    "list_of_sport = ['Bat-and-ball games']\n",
    "\n",
    "folder_name = 'sports_concepts/'\n",
    "main_articles(list_of_sport, folder_name)"
   ]
  },
  {
   "cell_type": "code",
   "execution_count": 45,
   "metadata": {},
   "outputs": [
    {
     "name": "stdout",
     "output_type": "stream",
     "text": [
      "Baseball\n",
      "Cricket\n"
     ]
    }
   ],
   "source": [
    "Bat_and_ball_games = ['Baseball',\n",
    "'Bat and trap',\n",
    "'Bete-ombro',\n",
    "'Brännboll',\n",
    "'Corkball',\n",
    "'Cricket', \n",
    "'Danish longball',\n",
    "'Donkey Baseball',\n",
    "'Elle',\n",
    "'English baseball',\n",
    "'Kickball',\n",
    "'Lapta',\n",
    "'The Massachusetts Game',\n",
    "'Matball',\n",
    "'Oină',\n",
    "'Old cat',\n",
    "'Over-the-line',\n",
    "'Palant',\n",
    "'Pesäpallo',\n",
    "'Plaquita',\n",
    "'Punchball',\n",
    "'Rounders',\n",
    "'Schlagball',\n",
    "'Scrub baseball',\n",
    "'Stickball',\n",
    "'Stoolball',\n",
    "'Stoop ball',\n",
    "'Tee-ball',\n",
    "'Town ball',\n",
    "'Vigoro',\n",
    "'Vitilla',\n",
    "'Welsh baseball',\n",
    "'Wiffleball',\n",
    "'Wireball']\n",
    "\n",
    "folder_name = 'sports_concepts/Bat and ball games'\n",
    "sub_articles(Bat_and_ball_games, folder_name)"
   ]
  },
  {
   "cell_type": "code",
   "execution_count": 46,
   "metadata": {},
   "outputs": [],
   "source": [
    "list_of_sport = ['Goal (sports)']\n",
    "\n",
    "folder_name = 'sports_concepts/'\n",
    "main_articles(list_of_sport, folder_name)"
   ]
  },
  {
   "cell_type": "code",
   "execution_count": 47,
   "metadata": {},
   "outputs": [
    {
     "name": "stdout",
     "output_type": "stream",
     "text": [
      "Basketball\n",
      "Netball\n",
      "Football\n",
      "Handball\n",
      "Hurling\n",
      "Lacrosse\n",
      "Polo\n"
     ]
    }
   ],
   "source": [
    "Invasion_games = ['Goal (sports)', 'Basketball',\n",
    "'Cestoball',\n",
    "'Flickerball',\n",
    "'Korfball',\n",
    "'Netball',\n",
    "'Ringball',\n",
    "'Slamball', 'Football', 'Handball', 'Hornussen', 'Hockey', 'Cammag',\n",
    "'Hurling',\n",
    "'Shinty',\n",
    "'Composite rules shinty-hurling', 'Lacrosse', 'Polo'\n",
    "]\n",
    "\n",
    "folder_name = 'sports_concepts/Invasion games'\n",
    "sub_articles(Invasion_games, folder_name)"
   ]
  },
  {
   "cell_type": "code",
   "execution_count": 48,
   "metadata": {},
   "outputs": [
    {
     "name": "stdout",
     "output_type": "stream",
     "text": [
      "Badminton\n",
      "Fistball\n",
      "Sepak takraw\n",
      "Table tennis\n",
      "Tennis\n",
      "Volleyball\n",
      "Racquetball\n"
     ]
    }
   ],
   "source": [
    "Net_and_wall_games = ['Badminton',\n",
    "'Ball badminton',\n",
    "'Biribol',\n",
    "'Bossaball',\n",
    "'Fistball',\n",
    "'Footbag net',\n",
    "'Football tennis',\n",
    "'Footvolley',\n",
    "'Jianzi',\n",
    "'Jokgu',\n",
    "'Miniten',\n",
    "'Padel',\n",
    "'Peteca',\n",
    "'Pickleball',\n",
    "'Rocball',\n",
    "'Sepak takraw',\n",
    "'Sipa',\n",
    "'Table squash',\n",
    "'Table tennis',\n",
    "'Tennis',\n",
    "'Teqball',\n",
    "'Throwball',\n",
    "'Volleyball',\n",
    "'Wallyball',\n",
    "'American handball',\n",
    "'Australian handball',\n",
    "'Basque pelota',\n",
    "'Butts Up',\n",
    "'Chinese handball',\n",
    "'Fives',\n",
    "'Gaelic handball',\n",
    "'International fronton',\n",
    "'Jai alai',\n",
    "'Jorkyball',\n",
    "'Racquetball',\n",
    "'Squash',\n",
    "'Squash tennis',\n",
    "'Stoop ball',\n",
    "'Suicide (game)',\n",
    "'Valencian frontó',\n",
    "'Wallball',\n",
    "'Wallyball',\n",
    "'American handball',\n",
    "'Australian handball',\n",
    "'Basque pelota',\n",
    "'Fives',\n",
    "'Frisian handball',\n",
    "'Four square',\n",
    "'Gaelic handball',\n",
    "'Jeu de paume',\n",
    "'Palla',\n",
    "'Pallone',\n",
    "'Patball',\n",
    "'Roundnet',\n",
    "'Valencian pilota']\n",
    "\n",
    "folder_name = 'sports_concepts/Net and wall games'\n",
    "sub_articles(Net_and_wall_games, folder_name)"
   ]
  },
  {
   "cell_type": "code",
   "execution_count": 49,
   "metadata": {},
   "outputs": [
    {
     "name": "stdout",
     "output_type": "stream",
     "text": [
      "Card game\n",
      "Esports\n",
      "Speedcubing\n",
      "Board game\n"
     ]
    }
   ],
   "source": [
    "list_of_sport = ['Card game', 'Esports', 'Speedcubing', 'Board game']\n",
    "\n",
    "folder_name = 'sports_concepts/'\n",
    "main_articles(list_of_sport, folder_name)"
   ]
  },
  {
   "cell_type": "code",
   "execution_count": 50,
   "metadata": {},
   "outputs": [
    {
     "name": "stdout",
     "output_type": "stream",
     "text": [
      "Fantasy sport\n"
     ]
    }
   ],
   "source": [
    "Other_mind_sports = ['Competitive programming',\n",
    "'Debating',\n",
    "'Fantasy sport',\n",
    "'Quizzing']\n",
    "\n",
    "folder_name = 'sports_concepts/Other mind sports'\n",
    "sub_articles(Other_mind_sports, folder_name)"
   ]
  },
  {
   "cell_type": "code",
   "execution_count": 51,
   "metadata": {},
   "outputs": [],
   "source": [
    "Competitive_model_sports = [\n",
    "'Mini 4WD',\n",
    "'Model aircraft racing',\n",
    "'Model yacht racing',\n",
    "'Neppis']\n",
    "\n",
    "folder_name = 'sports_concepts/Competitive model sports'\n",
    "sub_articles(Competitive_model_sports, folder_name)"
   ]
  },
  {
   "cell_type": "code",
   "execution_count": 52,
   "metadata": {},
   "outputs": [
    {
     "name": "stdout",
     "output_type": "stream",
     "text": [
      "Robot combat\n",
      "Slot car racing\n"
     ]
    }
   ],
   "source": [
    "Remote_control = ['Drone racing',\n",
    "'Model aerobatics',\n",
    "'RC racing',\n",
    "'Robot combat',\n",
    "'Robot football',\n",
    "'Slot car racing']\n",
    "\n",
    "folder_name = 'sports_concepts/Remote control'\n",
    "sub_articles(Remote_control, folder_name)"
   ]
  },
  {
   "cell_type": "code",
   "execution_count": 53,
   "metadata": {},
   "outputs": [],
   "source": [
    "Air_sports = ['Banzai skydiving',\n",
    "'Bungee jumping',\n",
    "'Hot air ballooning']\n",
    "\n",
    "folder_name = 'sports_concepts/Air sports'\n",
    "sub_articles(Air_sports, folder_name)"
   ]
  },
  {
   "cell_type": "code",
   "execution_count": 54,
   "metadata": {},
   "outputs": [],
   "source": [
    "Athletics = ['Athletics',\n",
    "'Steeplechase',\n",
    "'Cross country',\n",
    "'Jumping',\n",
    "'Throwing',\n",
    "'Racewalking']\n",
    "\n",
    "folder_name = 'sports_concepts/Athletics'\n",
    "sub_articles(Athletics, folder_name)"
   ]
  },
  {
   "cell_type": "code",
   "execution_count": 55,
   "metadata": {},
   "outputs": [
    {
     "name": "stdout",
     "output_type": "stream",
     "text": [
      "Contesting\n"
     ]
    }
   ],
   "source": [
    "Electronic_sports = ['Combat robot',\n",
    "'Competitive programming',\n",
    "'Contesting',\n",
    "'Fitness game',\n",
    "'Radio-control vehicles',\n",
    "'Video gaming']\n",
    "\n",
    "folder_name = 'sports_concepts/Electronic sports'\n",
    "sub_articles(Electronic_sports, folder_name)"
   ]
  },
  {
   "cell_type": "code",
   "execution_count": 56,
   "metadata": {},
   "outputs": [
    {
     "name": "stdout",
     "output_type": "stream",
     "text": [
      "Bandy\n",
      "Figure skating\n",
      "Ice hockey\n",
      "Roller skating\n",
      "Ringette\n"
     ]
    }
   ],
   "source": [
    "Skating_sports = ['Bandy',\n",
    "'Figure skating',\n",
    "'Ice cross downhill',\n",
    "'Ice dancing',\n",
    "'Ice hockey',\n",
    "'Ice skating',\n",
    "'Inline skating',\n",
    "'Roller skating',\n",
    "'Ringette',\n",
    "'Rinkball',\n",
    "'Speed skating',\n",
    "'Tour skating']\n",
    "\n",
    "folder_name = 'sports_concepts/Skating sports'\n",
    "sub_articles(Skating_sports, folder_name)"
   ]
  },
  {
   "cell_type": "code",
   "execution_count": 57,
   "metadata": {},
   "outputs": [
    {
     "name": "stdout",
     "output_type": "stream",
     "text": [
      "Powerlifting\n",
      "Rock climbing\n"
     ]
    }
   ],
   "source": [
    "Strength_sports = ['Arm wrestling',\n",
    "'CrossFit',\n",
    "'Highland games',\n",
    "'Olympic weightlifting',\n",
    "'Powerlifting',\n",
    "'Rock climbing',\n",
    "'Strongman',\n",
    "'Thumb wrestling',\n",
    "'Toe wrestling',\n",
    "'Tug-o-war',\n",
    "'Wood chopping',\n",
    "'Wood splitting',\n",
    "'Zourkhaneh',\n",
    "'Calisthenics']\n",
    "\n",
    "folder_name = 'sports_concepts/Strength sports'\n",
    "sub_articles(Strength_sports, folder_name)"
   ]
  },
  {
   "cell_type": "code",
   "execution_count": 58,
   "metadata": {},
   "outputs": [
    {
     "name": "stdout",
     "output_type": "stream",
     "text": [
      "Backgammon\n",
      "Chess\n",
      "Cue sports\n",
      "Dominoes\n",
      "Mahjong\n",
      "Scrabble\n",
      "Shogi\n",
      "Table tennis\n",
      "Xiangqi\n"
     ]
    }
   ],
   "source": [
    "Table_sports = ['Air hockey',\n",
    "'Backgammon',\n",
    "'Beer Pong',\n",
    "'Carrom Nok Hockey',\n",
    "'Chess',\n",
    "'Connect Four',\n",
    "'Cue sports',\n",
    "'Draughts',\n",
    "'Dominoes',\n",
    "'Headis',\n",
    "'Janggi',\n",
    "'Mahjong',\n",
    "'Paper Football',\n",
    "'Reversi',\n",
    "'Scrabble',\n",
    "'Shogi',\n",
    "'Subbuteo',\n",
    "'Table football',\n",
    "'Table hockey',\n",
    "'Table tennis',\n",
    "'Table Shuffleboard/Sling Puck',\n",
    "'Teqball',\n",
    "'Xiangqi']\n",
    "\n",
    "folder_name = 'sports_concepts/Table sports'\n",
    "sub_articles(Table_sports, folder_name)"
   ]
  },
  {
   "cell_type": "code",
   "execution_count": 59,
   "metadata": {},
   "outputs": [
    {
     "name": "stdout",
     "output_type": "stream",
     "text": [
      "Archery\n",
      "Bowling\n",
      "Cue sports\n",
      "Golf\n"
     ]
    }
   ],
   "source": [
    "Target_sport = ['Archery', 'Bowling', 'Cue sports', 'Golf']\n",
    "\n",
    "folder_name = 'sports_concepts/Target sport'\n",
    "sub_articles(Target_sport, folder_name)"
   ]
  },
  {
   "attachments": {},
   "cell_type": "markdown",
   "metadata": {},
   "source": [
    "### Create 'Level I' concept: Sport"
   ]
  },
  {
   "cell_type": "code",
   "execution_count": 60,
   "metadata": {},
   "outputs": [],
   "source": [
    "path_of_sports = '/work3/s174498/concept_random_dataset/wikipedia_20220301/sports_concepts/'\n",
    "folder_name = 'sports_concepts/'\n",
    "\n",
    "create_concept_levelI(path_of_sports, folder_name)"
   ]
  },
  {
   "cell_type": "code",
   "execution_count": 61,
   "metadata": {},
   "outputs": [],
   "source": [
    "# load_from_disk('/work3/s174498/concept_random_dataset/wikipedia_20220301/sports_concepts/')"
   ]
  }
 ],
 "metadata": {
  "kernelspec": {
   "display_name": "Python 3.7.13 ('sent_env')",
   "language": "python",
   "name": "python3"
  },
  "language_info": {
   "codemirror_mode": {
    "name": "ipython",
    "version": 3
   },
   "file_extension": ".py",
   "mimetype": "text/x-python",
   "name": "python",
   "nbconvert_exporter": "python",
   "pygments_lexer": "ipython3",
   "version": "3.7.13 (default, Mar 29 2022, 02:18:16) \n[GCC 7.5.0]"
  },
  "orig_nbformat": 4,
  "vscode": {
   "interpreter": {
    "hash": "9738a1daac20355f138ac5f9490b2e4e7176effdeaa1fb550cd3c1d19d286cfb"
   }
  }
 },
 "nbformat": 4,
 "nbformat_minor": 2
}
