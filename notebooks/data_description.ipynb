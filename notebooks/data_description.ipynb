{
 "cells": [
  {
   "attachments": {},
   "cell_type": "markdown",
   "metadata": {},
   "source": [
    "## Data description"
   ]
  },
  {
   "cell_type": "code",
   "execution_count": 58,
   "metadata": {},
   "outputs": [],
   "source": [
    "## Imports\n",
    "from datasets import load_from_disk, Dataset\n",
    "import numpy as np\n",
    "import pandas as pd\n",
    "import pyarrow as pa\n",
    "from pylab import *\n",
    "import seaborn as sns\n",
    "from matplotlib import pyplot as plt"
   ]
  },
  {
   "cell_type": "code",
   "execution_count": 59,
   "metadata": {},
   "outputs": [],
   "source": [
    "data_dir = \"/work3/s174498/concept_random_dataset/\""
   ]
  },
  {
   "attachments": {},
   "cell_type": "markdown",
   "metadata": {},
   "source": [
    "### 1: \"Base case: Twitter data\""
   ]
  },
  {
   "cell_type": "code",
   "execution_count": 60,
   "metadata": {},
   "outputs": [],
   "source": [
    "## Load \"Tweet\"-dataset\n",
    "\n",
    "# emoji\n",
    "ds_emoji_train = pd.DataFrame(load_from_disk(data_dir + 'tweet_emoji/train'))\n",
    "ds_emoji_test = pd.DataFrame(load_from_disk(data_dir + 'tweet_emoji/test'))\n",
    "\n",
    "# stance datasets\n",
    "ds_climate_train = load_from_disk(data_dir + 'tweet_stance_climate/train')\n",
    "ds_abortion_train = load_from_disk(data_dir + 'tweet_stance_abortion/train')\n",
    "ds_feminist_train = load_from_disk(data_dir + 'tweet_stance_feminist/train')\n",
    "ds_hillary_train = load_from_disk(data_dir + 'tweet_stance_hillary/train')\n",
    "ds_atheism_train = load_from_disk(data_dir + 'tweet_stance_atheism/train')\n",
    "\n",
    "# emotion\n",
    "ds_emotion_train = load_from_disk(data_dir + 'tweet_emotion/train')\n",
    "ds_emotion_test = load_from_disk(data_dir + 'tweet_emotion/test')\n",
    "\n",
    "# hate\n",
    "ds_hate_train = load_from_disk(data_dir + 'tweet_hate/train')\n",
    "ds_hate_test = load_from_disk(data_dir + 'tweet_hate/test')\n",
    "\n",
    "# irony\n",
    "ds_irony_train = load_from_disk(data_dir + 'tweet_irony/train')\n",
    "ds_irony_test = load_from_disk(data_dir + 'tweet_irony/test')\n",
    "\n",
    "# offensive\n",
    "ds_offensive_train = load_from_disk(data_dir + 'tweet_offensive/train')\n",
    "ds_offensive_test = load_from_disk(data_dir + 'tweet_offensive/test')"
   ]
  },
  {
   "attachments": {},
   "cell_type": "markdown",
   "metadata": {},
   "source": [
    "Sentences from the emoji-datasets (train and test) are \"merged\" into longer sentences. "
   ]
  },
  {
   "cell_type": "code",
   "execution_count": 61,
   "metadata": {},
   "outputs": [
    {
     "data": {
      "text/plain": [
       "array([ 0,  1,  2,  3,  4,  5,  6,  7,  8,  9, 10, 11, 12, 13, 14, 15, 16,\n",
       "       17, 18, 19])"
      ]
     },
     "execution_count": 61,
     "metadata": {},
     "output_type": "execute_result"
    }
   ],
   "source": [
    "unique_train = ds_emoji_train['label'].unique()\n",
    "unique_train.sort()\n",
    "unique_train"
   ]
  },
  {
   "cell_type": "code",
   "execution_count": 62,
   "metadata": {},
   "outputs": [
    {
     "data": {
      "text/plain": [
       "array([ 0,  1,  2,  3,  4,  5,  6,  7,  8,  9, 10, 11, 12, 13, 14, 15, 16,\n",
       "       17, 18, 19])"
      ]
     },
     "execution_count": 62,
     "metadata": {},
     "output_type": "execute_result"
    }
   ],
   "source": [
    "unique_test = ds_emoji_test['label'].unique()\n",
    "unique_test.sort()\n",
    "unique_test"
   ]
  },
  {
   "cell_type": "code",
   "execution_count": 63,
   "metadata": {},
   "outputs": [
    {
     "name": "stdout",
     "output_type": "stream",
     "text": [
      "9204\n",
      "10798\n",
      "length of new_sentences 9204\n",
      "length of remaining_sentences 1593\n",
      "4901\n",
      "4830\n",
      "length of new_sentences 14034\n",
      "length of remaining_sentences 1663\n",
      "4713\n",
      "4534\n",
      "length of new_sentences 18568\n",
      "length of remaining_sentences 1841\n",
      "2043\n",
      "2605\n",
      "length of new_sentences 20611\n",
      "length of remaining_sentences 2402\n",
      "2146\n",
      "3716\n",
      "length of new_sentences 22757\n",
      "length of remaining_sentences 3971\n",
      "2132\n",
      "1613\n",
      "length of new_sentences 24370\n",
      "length of remaining_sentences 4489\n",
      "2078\n",
      "1996\n",
      "length of new_sentences 26366\n",
      "length of remaining_sentences 4570\n",
      "2345\n",
      "2749\n",
      "length of new_sentences 28711\n",
      "length of remaining_sentences 4973\n",
      "1287\n",
      "1549\n",
      "length of new_sentences 29998\n",
      "length of remaining_sentences 5234\n",
      "1391\n",
      "1175\n",
      "length of new_sentences 31173\n",
      "length of remaining_sentences 5449\n",
      "1982\n",
      "1432\n",
      "length of new_sentences 32605\n",
      "length of remaining_sentences 5998\n",
      "946\n",
      "1949\n",
      "length of new_sentences 33551\n",
      "length of remaining_sentences 7000\n",
      "1246\n",
      "1265\n",
      "length of new_sentences 34797\n",
      "length of remaining_sentences 7018\n",
      "980\n",
      "1114\n",
      "length of new_sentences 35777\n",
      "length of remaining_sentences 7151\n",
      "1224\n",
      "1306\n",
      "length of new_sentences 37001\n",
      "length of remaining_sentences 7232\n",
      "934\n",
      "1244\n",
      "length of new_sentences 37935\n",
      "length of remaining_sentences 7541\n",
      "1350\n",
      "1153\n",
      "length of new_sentences 39088\n",
      "length of remaining_sentences 7737\n",
      "1397\n",
      "1545\n",
      "length of new_sentences 40485\n",
      "length of remaining_sentences 7884\n",
      "1510\n",
      "2417\n",
      "length of new_sentences 41995\n",
      "length of remaining_sentences 8790\n",
      "1191\n",
      "1010\n",
      "length of new_sentences 43005\n",
      "length of remaining_sentences 8970\n"
     ]
    }
   ],
   "source": [
    "new_sentences = []\n",
    "remaining_sentences = []\n",
    "\n",
    "for i in range(len(unique_train)):\n",
    "\n",
    "    # making boolean series for a team name\n",
    "    filter_train = ds_emoji_train[\"label\"]==unique_train[i]\n",
    "    filter_test = ds_emoji_test[\"label\"]==unique_test[i]\n",
    "\n",
    "    # filtering data\n",
    "    df_filter_train = ds_emoji_train.where(filter_train)\n",
    "    df_filter_test = ds_emoji_test.where(filter_test)\n",
    "\n",
    "    df_new1 = df_filter_train[~df_filter_train.isnull().any(axis=1)]\n",
    "    df_new2 = df_filter_test[~df_filter_test.isnull().any(axis=1)]\n",
    "\n",
    "    print(len(df_new1))\n",
    "    print(len(df_new2))\n",
    "\n",
    "    length_min = min(len(df_new1), len(df_new2))\n",
    "    length_max = max(len(df_new1), len(df_new2))\n",
    "\n",
    "    for j in range(0, length_min):\n",
    "        new_sentences.append(df_new1.iloc[j]['text']+df_new2.iloc[j]['text'])\n",
    "    print('length of new_sentences', len(new_sentences))\n",
    "\n",
    "    # save the remaining sentences\n",
    "    if(length_max == len(df_new1)):\n",
    "        df_remain = df_new1\n",
    "    else:\n",
    "        df_remain = df_new2\n",
    "\n",
    "    for h in range(length_min+1, length_max):\n",
    "        remaining_sentences.append(df_remain.iloc[h]['text'])\n",
    "    print('length of remaining_sentences', len(remaining_sentences))"
   ]
  },
  {
   "attachments": {},
   "cell_type": "markdown",
   "metadata": {},
   "source": [
    "Concatenate all lists"
   ]
  },
  {
   "cell_type": "code",
   "execution_count": 64,
   "metadata": {},
   "outputs": [],
   "source": [
    "emoji_sentences = new_sentences + remaining_sentences"
   ]
  },
  {
   "cell_type": "code",
   "execution_count": 65,
   "metadata": {},
   "outputs": [],
   "source": [
    "stance_sentences = ds_climate_train['text'] + ds_abortion_train['text'] + ds_feminist_train['text'] + ds_hillary_train['text'] + ds_atheism_train['text']"
   ]
  },
  {
   "cell_type": "code",
   "execution_count": 66,
   "metadata": {},
   "outputs": [],
   "source": [
    "emotion_sentences = ds_emotion_train['text'] + ds_emotion_test['text']"
   ]
  },
  {
   "attachments": {},
   "cell_type": "markdown",
   "metadata": {},
   "source": [
    "Filter 'non-hate', 'non-irony' and 'non-offensive' from both train and test datasets"
   ]
  },
  {
   "cell_type": "code",
   "execution_count": 67,
   "metadata": {},
   "outputs": [],
   "source": [
    "df_label_hate = pd.DataFrame(ds_hate_train['label'])\n",
    "idx_nonhate = df_label_hate[df_label_hate[0] == 0].index.values\n",
    "\n",
    "df_label_irony = pd.DataFrame(ds_irony_train['label'])\n",
    "idx_nonirony = df_label_irony[df_label_irony[0] == 0].index.values\n",
    "\n",
    "df_label_offensive = pd.DataFrame(ds_offensive_train['label'])\n",
    "idx_nonoffensive = df_label_offensive[df_label_offensive[0] == 0].index.values\n",
    "\n",
    "nonconcepts_train = ds_hate_train[idx_nonhate]['text']+ ds_irony_train[idx_nonirony]['text'] + ds_offensive_train[idx_nonoffensive]['text']"
   ]
  },
  {
   "cell_type": "code",
   "execution_count": 68,
   "metadata": {},
   "outputs": [],
   "source": [
    "df_label_hate = pd.DataFrame(ds_hate_test['label'])\n",
    "idx_nonhate = df_label_hate[df_label_hate[0] == 0].index.values\n",
    "\n",
    "df_label_irony = pd.DataFrame(ds_irony_test['label'])\n",
    "idx_nonirony = df_label_irony[df_label_irony[0] == 0].index.values\n",
    "\n",
    "df_label_offensive = pd.DataFrame(ds_offensive_test['label'])\n",
    "idx_nonoffensive = df_label_offensive[df_label_offensive[0] == 0].index.values\n",
    "\n",
    "nonconcepts_test = ds_hate_test[idx_nonhate]['text']+ ds_irony_test[idx_nonirony]['text'] + ds_offensive_test[idx_nonoffensive]['text']"
   ]
  },
  {
   "attachments": {},
   "cell_type": "markdown",
   "metadata": {},
   "source": [
    "Again, concat lists"
   ]
  },
  {
   "cell_type": "code",
   "execution_count": 69,
   "metadata": {},
   "outputs": [],
   "source": [
    "nonconcepts_sentences = nonconcepts_train + nonconcepts_test"
   ]
  },
  {
   "cell_type": "code",
   "execution_count": 70,
   "metadata": {},
   "outputs": [],
   "source": [
    "concat_sentences = emoji_sentences + stance_sentences + emotion_sentences + nonconcepts_sentences"
   ]
  },
  {
   "attachments": {},
   "cell_type": "markdown",
   "metadata": {},
   "source": [
    "Count the number of words in sentences"
   ]
  },
  {
   "cell_type": "code",
   "execution_count": 71,
   "metadata": {},
   "outputs": [],
   "source": [
    "df_random = pd.DataFrame({'Sentences': concat_sentences})\n",
    "\n",
    "word_in_sentence = []\n",
    "for i in range(len(df_random['Sentences'])):\n",
    "    word_in_sentence.append(len(df_random['Sentences'][i].split()))\n",
    "\n",
    "df_random['words in sentences'] = word_in_sentence"
   ]
  },
  {
   "attachments": {},
   "cell_type": "markdown",
   "metadata": {},
   "source": [
    "Making sure that all sentences are not too long"
   ]
  },
  {
   "cell_type": "code",
   "execution_count": 72,
   "metadata": {},
   "outputs": [],
   "source": [
    "df_random = df_random[df_random['words in sentences'] < 45]"
   ]
  },
  {
   "cell_type": "code",
   "execution_count": 73,
   "metadata": {},
   "outputs": [],
   "source": [
    "# df_random_data = pd.DataFrame({'title': 'random', 'text_list': list(df_random['Sentences'])})\n",
    "# data_random = Dataset(pa.Table.from_pandas(df_random_data))\n",
    "\n",
    "# save data\n",
    "# data_random.save_to_disk('/work3/s174498/concept_random_dataset/tweet_random')"
   ]
  },
  {
   "attachments": {},
   "cell_type": "markdown",
   "metadata": {},
   "source": [
    "Filter only 'hate', 'irony' and offensive' sentences to create our concept data. Afterwards, count words in sentences"
   ]
  },
  {
   "cell_type": "code",
   "execution_count": 74,
   "metadata": {},
   "outputs": [],
   "source": [
    "df_label_hate = pd.DataFrame(ds_hate_test['label'])\n",
    "idx_hate = df_label_hate[df_label_hate[0] == 1].index.values\n",
    "df_hate = pd.DataFrame({'Sentences': ds_hate_test[idx_hate]['text']})\n",
    "\n",
    "word_in_sentence = []\n",
    "for i in range(len(df_hate['Sentences'])):\n",
    "    word_in_sentence.append(len(df_hate['Sentences'][i].split()))\n",
    "\n",
    "df_hate['words in sentences'] = word_in_sentence"
   ]
  },
  {
   "cell_type": "code",
   "execution_count": 75,
   "metadata": {},
   "outputs": [],
   "source": [
    "df_label_irony= pd.DataFrame(ds_irony_test['label'])\n",
    "idx_irony = df_label_irony[df_label_irony[0] == 1].index.values\n",
    "df_irony = pd.DataFrame({'Sentences': ds_irony_test[idx_irony]['text']})\n",
    "\n",
    "word_in_sentence = []\n",
    "for i in range(len(df_irony['Sentences'])):\n",
    "    word_in_sentence.append(len(df_irony['Sentences'][i].split()))\n",
    "\n",
    "df_irony['words in sentences'] = word_in_sentence"
   ]
  },
  {
   "cell_type": "code",
   "execution_count": 76,
   "metadata": {},
   "outputs": [],
   "source": [
    "df_label_offensive = pd.DataFrame(ds_offensive_test['label'])\n",
    "idx_offensive = df_label_offensive[df_label_offensive[0] == 1].index.values\n",
    "df_offensive = pd.DataFrame({'Sentences': ds_offensive_test[idx_offensive]['text']})\n",
    "\n",
    "word_in_sentence = []\n",
    "for i in range(len(df_offensive['Sentences'])):\n",
    "    word_in_sentence.append(len(df_offensive['Sentences'][i].split()))\n",
    "\n",
    "df_offensive['words in sentences'] = word_in_sentence"
   ]
  },
  {
   "cell_type": "code",
   "execution_count": 77,
   "metadata": {},
   "outputs": [],
   "source": [
    "import warnings\n",
    "import pylab\n",
    "warnings.filterwarnings(\"ignore\")"
   ]
  },
  {
   "cell_type": "code",
   "execution_count": 78,
   "metadata": {},
   "outputs": [
    {
     "data": {
      "image/png": "[encoded data removed]",
      "text/plain": [
       "<Figure size 1500x400 with 4 Axes>"
      ]
     },
     "metadata": {},
     "output_type": "display_data"
    }
   ],
   "source": [
    "sns.set(rc={\"figure.figsize\": (15, 4)})\n",
    "sns.set_style(\"white\")\n",
    "plt.legend(labels=['random', 'hate', 'irony', 'offensive'])\n",
    "\n",
    "subplot(1,4,1)\n",
    "ax = sns.distplot(df_random['words in sentences'], bins = 10, kde=False, label=None, color = sns.color_palette(\"Set2\")[-1])\n",
    "ax.axvline(x=df_random['words in sentences'].mean(),\n",
    "            color='grey',\n",
    "            ls='--', \n",
    "            lw=2)\n",
    "ax.set_title('random', fontsize='xx-large')\n",
    "ax.set_ylabel('Count', fontsize='xx-large')\n",
    "ax.set(xlabel=' ')\n",
    "\n",
    "subplot(1,4,2)\n",
    "ax = sns.distplot(df_hate['words in sentences'], bins = 10, kde=False, label=None, color = sns.color_palette(\"Paired\")[9])\n",
    "ax.axvline(x=df_hate['words in sentences'].mean(),\n",
    "            color='grey',\n",
    "            ls='--', \n",
    "            lw=2)\n",
    "ax.set_title('hate', fontsize='xx-large')\n",
    "ax.set(xlabel=' ')\n",
    "\n",
    "subplot(1,4,3)\n",
    "ax = sns.distplot(df_irony['words in sentences'], bins = 10, kde=False, color = sns.color_palette(\"Paired\")[7])\n",
    "ax.axvline(x=df_irony['words in sentences'].mean(),\n",
    "            color='grey',\n",
    "            ls='--', \n",
    "            lw=2)\n",
    "ax.set_title('irony', fontsize='xx-large')\n",
    "ax.set(xlabel=' ')\n",
    "\n",
    "subplot(1,4,4)\n",
    "ax = sns.distplot(df_offensive['words in sentences'], bins = 10, kde=False, color = sns.color_palette(\"Paired\")[2])\n",
    "ax.axvline(x=df_offensive['words in sentences'].mean(),\n",
    "            color='grey',\n",
    "            ls='--', \n",
    "            lw=2)\n",
    "ax.set_title('offensive', fontsize='xx-large')\n",
    "ax.legend(labels=['mean'], loc='center left', bbox_to_anchor=(1, 0.5), fontsize='x-large')\n",
    "ax.set(xlabel=' ')\n",
    "\n",
    "fig=ax.figure\n",
    "#fig.suptitle('Twitter', fontsize = 24)\n",
    "#fig.tight_layout()\n",
    "fig.subplots_adjust(top=0.85)\n",
    "fig.subplots_adjust(bottom=0.17)\n",
    "fig.text(0.5, 0.99, 'Twitter',  ha=\"center\", va=\"center\", fontsize=24)\n",
    "fig.text(0.5,0.000000001, \"Number of words in each sentence\", ha=\"center\", va=\"center\", fontsize=20)\n",
    "pylab.savefig(\"tweet_sentences.pdf\", bbox_inches='tight')\n",
    "plt.show()"
   ]
  },
  {
   "cell_type": "code",
   "execution_count": 79,
   "metadata": {},
   "outputs": [],
   "source": [
    "from transformers import RobertaTokenizer\n",
    "tokenizer_pretrained = RobertaTokenizer.from_pretrained('roberta-base')"
   ]
  },
  {
   "attachments": {},
   "cell_type": "markdown",
   "metadata": {},
   "source": [
    "Compute number of tokens per sentence in the datasets"
   ]
  },
  {
   "cell_type": "code",
   "execution_count": 80,
   "metadata": {},
   "outputs": [],
   "source": [
    "tokens_random = []\n",
    "for i in list(df_random['Sentences'].index):\n",
    "    numb_tokens = len(tokenizer_pretrained.encode(df_random['Sentences'][i]))\n",
    "    tokens_random.append(numb_tokens)\n",
    "\n",
    "tokens_hate = []\n",
    "for i in list(df_hate['Sentences'].index):\n",
    "    numb_tokens = len(tokenizer_pretrained.encode(df_hate['Sentences'][i]))\n",
    "    tokens_hate.append(numb_tokens)\n",
    "\n",
    "tokens_irony = []\n",
    "for i in list(df_irony['Sentences'].index):\n",
    "    numb_tokens = len(tokenizer_pretrained.encode(df_irony['Sentences'][i]))\n",
    "    tokens_irony.append(numb_tokens)\n",
    "\n",
    "tokens_offensive = []\n",
    "for i in list(df_offensive['Sentences'].index):\n",
    "    numb_tokens = len(tokenizer_pretrained.encode(df_offensive['Sentences'][i]))\n",
    "    tokens_offensive.append(numb_tokens)"
   ]
  },
  {
   "attachments": {},
   "cell_type": "markdown",
   "metadata": {},
   "source": [
    "Create table of stats"
   ]
  },
  {
   "cell_type": "code",
   "execution_count": 81,
   "metadata": {},
   "outputs": [],
   "source": [
    "list_dataset = ['random', 'hate', 'irony', 'offensive']\n",
    "list_mean_words = [round(np.mean(df_random['words in sentences']),1), round(np.mean(df_hate['words in sentences']),1), round(np.mean(df_irony['words in sentences']),1), round(np.mean(df_offensive['words in sentences']),1)]\n",
    "list_mean_tokens = [round(np.mean(tokens_random),1), round(np.mean(tokens_hate),1), round(np.mean(tokens_irony),1), round(np.mean(tokens_offensive),1)]\n",
    "list_sentences = [len(df_random), len(df_hate), len(df_irony), len(df_offensive)]"
   ]
  },
  {
   "cell_type": "code",
   "execution_count": 82,
   "metadata": {},
   "outputs": [
    {
     "data": {
      "text/html": [
       "<div>\n",
       "<style scoped>\n",
       "    .dataframe tbody tr th:only-of-type {\n",
       "        vertical-align: middle;\n",
       "    }\n",
       "\n",
       "    .dataframe tbody tr th {\n",
       "        vertical-align: top;\n",
       "    }\n",
       "\n",
       "    .dataframe thead th {\n",
       "        text-align: right;\n",
       "    }\n",
       "</style>\n",
       "<table border=\"1\" class=\"dataframe\">\n",
       "  <thead>\n",
       "    <tr style=\"text-align: right;\">\n",
       "      <th></th>\n",
       "      <th>Twitter data</th>\n",
       "      <th>Avg. number of words per sentence</th>\n",
       "      <th>Avg. number of tokens per sentence</th>\n",
       "      <th>Number of sentences</th>\n",
       "    </tr>\n",
       "  </thead>\n",
       "  <tbody>\n",
       "    <tr>\n",
       "      <th>0</th>\n",
       "      <td>random</td>\n",
       "      <td>19.8</td>\n",
       "      <td>35.8</td>\n",
       "      <td>75549</td>\n",
       "    </tr>\n",
       "    <tr>\n",
       "      <th>1</th>\n",
       "      <td>hate</td>\n",
       "      <td>21.7</td>\n",
       "      <td>37.2</td>\n",
       "      <td>1252</td>\n",
       "    </tr>\n",
       "    <tr>\n",
       "      <th>2</th>\n",
       "      <td>irony</td>\n",
       "      <td>15.5</td>\n",
       "      <td>25.6</td>\n",
       "      <td>311</td>\n",
       "    </tr>\n",
       "    <tr>\n",
       "      <th>3</th>\n",
       "      <td>offensive</td>\n",
       "      <td>22.6</td>\n",
       "      <td>38.2</td>\n",
       "      <td>240</td>\n",
       "    </tr>\n",
       "  </tbody>\n",
       "</table>\n",
       "</div>"
      ],
      "text/plain": [
       "  Twitter data  Avg. number of words per sentence  \\\n",
       "0       random                               19.8   \n",
       "1         hate                               21.7   \n",
       "2        irony                               15.5   \n",
       "3    offensive                               22.6   \n",
       "\n",
       "   Avg. number of tokens per sentence  Number of sentences  \n",
       "0                                35.8                75549  \n",
       "1                                37.2                 1252  \n",
       "2                                25.6                  311  \n",
       "3                                38.2                  240  "
      ]
     },
     "execution_count": 82,
     "metadata": {},
     "output_type": "execute_result"
    }
   ],
   "source": [
    "tweet_stats = pd.DataFrame({'Twitter data': list_dataset, \n",
    "                            'Avg. number of words per sentence': list_mean_words,\n",
    "                            'Avg. number of tokens per sentence': list_mean_tokens,\n",
    "                            'Number of sentences': list_sentences})\n",
    "tweet_stats"
   ]
  },
  {
   "cell_type": "code",
   "execution_count": 83,
   "metadata": {},
   "outputs": [
    {
     "name": "stdout",
     "output_type": "stream",
     "text": [
      "\\begin{tabular}{lrrr}\n",
      "\\toprule\n",
      "Twitter data &  Avg. number of words per sentence &  Avg. number of tokens per sentence &  Number of sentences \\\\\n",
      "\\midrule\n",
      "      random &                               19.8 &                                35.8 &                75549 \\\\\n",
      "        hate &                               21.7 &                                37.2 &                 1252 \\\\\n",
      "       irony &                               15.5 &                                25.6 &                  311 \\\\\n",
      "   offensive &                               22.6 &                                38.2 &                  240 \\\\\n",
      "\\bottomrule\n",
      "\\end{tabular}\n",
      "\n"
     ]
    }
   ],
   "source": [
    "print(tweet_stats.to_latex(index=False))"
   ]
  },
  {
   "attachments": {},
   "cell_type": "markdown",
   "metadata": {},
   "source": [
    "### 2: \"Split concept into sub-concepts\""
   ]
  },
  {
   "cell_type": "code",
   "execution_count": 84,
   "metadata": {},
   "outputs": [],
   "source": [
    "## Load \"wikipedia_split\"-data as random data\n",
    "ds_random = load_from_disk(data_dir + 'wikipedia_split')"
   ]
  },
  {
   "cell_type": "code",
   "execution_count": 85,
   "metadata": {},
   "outputs": [],
   "source": [
    "## Load \"Gender\"-data form wikipedia\n",
    "\n",
    "# gender sub-concepts\n",
    "ds_woman = load_from_disk(data_dir + 'wikipedia_20220301/gender_concepts/woman_female')\n",
    "ds_man = load_from_disk(data_dir + 'wikipedia_20220301/gender_concepts/man_male')\n",
    "ds_intersex = load_from_disk(data_dir + 'wikipedia_20220301/gender_concepts/Intersex')\n",
    "\n",
    "# Create main concept\n",
    "ds_gender = ds_woman['text_list'] + ds_man['text_list'] + ds_intersex['text_list']"
   ]
  },
  {
   "cell_type": "code",
   "execution_count": 86,
   "metadata": {},
   "outputs": [],
   "source": [
    "df_random = pd.DataFrame({'Sentences':ds_random['complex_sentence']})\n",
    "\n",
    "word_in_sentence = []\n",
    "for i in range(len(df_random['Sentences'])):\n",
    "    word_in_sentence.append(len(df_random['Sentences'][i].split()))\n",
    "\n",
    "df_random['words in sentences'] = word_in_sentence"
   ]
  },
  {
   "cell_type": "code",
   "execution_count": 87,
   "metadata": {},
   "outputs": [],
   "source": [
    "df_gender = pd.DataFrame({'Sentences':ds_gender})\n",
    "\n",
    "word_in_sentence = []\n",
    "for i in range(len(df_gender)):\n",
    "    word_in_sentence.append(len(df_gender['Sentences'][i].split()))\n",
    "\n",
    "df_gender['words in sentences'] = word_in_sentence"
   ]
  },
  {
   "cell_type": "code",
   "execution_count": 88,
   "metadata": {},
   "outputs": [],
   "source": [
    "## woman\n",
    "df_woman = pd.DataFrame({'Sentences':ds_woman['text_list']})\n",
    "\n",
    "word_in_sentence = []\n",
    "for i in range(len(df_woman)):\n",
    "    word_in_sentence.append(len(df_woman['Sentences'][i].split()))\n",
    "\n",
    "df_woman['words in sentences'] = word_in_sentence\n",
    "\n",
    "## man\n",
    "df_man = pd.DataFrame({'Sentences':ds_man['text_list']})\n",
    "\n",
    "word_in_sentence = []\n",
    "for i in range(len(df_man)):\n",
    "    word_in_sentence.append(len(df_man['Sentences'][i].split()))\n",
    "\n",
    "df_man['words in sentences'] = word_in_sentence\n",
    "\n",
    "## intersex\n",
    "df_intersex = pd.DataFrame({'Sentences':ds_intersex['text_list']})\n",
    "\n",
    "word_in_sentence = []\n",
    "for i in range(len(df_intersex)):\n",
    "    word_in_sentence.append(len(df_intersex['Sentences'][i].split()))\n",
    "\n",
    "df_intersex['words in sentences'] = word_in_sentence"
   ]
  },
  {
   "cell_type": "code",
   "execution_count": 89,
   "metadata": {},
   "outputs": [
    {
     "data": {
      "image/png": "[encoded data removed]",
      "text/plain": [
       "<Figure size 1500x400 with 4 Axes>"
      ]
     },
     "metadata": {},
     "output_type": "display_data"
    }
   ],
   "source": [
    "sns.set(rc={\"figure.figsize\": (15, 4)})\n",
    "sns.set_style(\"white\")\n",
    "#plt.legend(labels=['random', 'woman', 'man', 'intersex'])\n",
    "\n",
    "subplot(1,4,1)\n",
    "ax = sns.distplot(df_random['words in sentences'], bins = 10, kde=False, label=None, color = sns.color_palette(\"Set2\")[-1])\n",
    "ax.axvline(x=df_random['words in sentences'].mean(),\n",
    "            color='grey',\n",
    "            ls='--', \n",
    "            lw=0.8)\n",
    "ax.set_title('random', fontsize='xx-large')\n",
    "ax.set_ylabel('Count', fontsize='xx-large')\n",
    "ax.set(xlabel=' ')\n",
    "\n",
    "subplot(1,4,2)\n",
    "ax = sns.distplot(df_woman['words in sentences'], bins = 10, kde=False, label=None, color = sns.color_palette(\"Paired\")[9])\n",
    "ax.axvline(x=df_woman['words in sentences'].mean(),\n",
    "            color='grey',\n",
    "            ls='--', \n",
    "            lw=0.8)\n",
    "ax.set_title('woman', fontsize='xx-large')\n",
    "ax.set(xlabel=' ')\n",
    "\n",
    "subplot(1,4,3)\n",
    "ax = sns.distplot(df_man['words in sentences'], bins = 10, kde=False, color = sns.color_palette(\"Paired\")[7])\n",
    "ax.axvline(x=df_man['words in sentences'].mean(),\n",
    "            color='grey',\n",
    "            ls='--', \n",
    "            lw=0.8)\n",
    "ax.set_title('man', fontsize='xx-large')\n",
    "ax.set(xlabel=' ')\n",
    "\n",
    "subplot(1,4,4)\n",
    "ax = sns.distplot(df_intersex['words in sentences'], bins = 10, kde=False, color = sns.color_palette(\"Paired\")[2])\n",
    "ax.axvline(x=df_intersex['words in sentences'].mean(),\n",
    "            color='grey',\n",
    "            ls='--', \n",
    "            lw=0.8)\n",
    "ax.set_title('intersex', fontsize='xx-large')\n",
    "ax.legend(labels=['mean'], loc='center left', bbox_to_anchor=(1, 0.5), fontsize='x-large')\n",
    "ax.set(xlabel=' ')\n",
    "\n",
    "fig=ax.figure\n",
    "fig.subplots_adjust(top=0.85)\n",
    "fig.subplots_adjust(bottom=0.17)\n",
    "fig.text(0.5, 0.99, 'Wikipedia',  ha=\"center\", va=\"center\", fontsize=24)\n",
    "fig.text(0.5,0.000000001, \"Number of words in each sentence\", ha=\"center\", va=\"center\", fontsize=20)\n",
    "pylab.savefig(\"wiki_sentences.pdf\", bbox_inches='tight')"
   ]
  },
  {
   "cell_type": "code",
   "execution_count": 90,
   "metadata": {},
   "outputs": [
    {
     "ename": "KeyboardInterrupt",
     "evalue": "",
     "output_type": "error",
     "traceback": [
      "\u001b[0;31m---------------------------------------------------------------------------\u001b[0m",
      "\u001b[0;31mKeyboardInterrupt\u001b[0m                         Traceback (most recent call last)",
      "\u001b[0;32m/tmp/ipykernel_21593/2780350341.py\u001b[0m in \u001b[0;36m<module>\u001b[0;34m\u001b[0m\n\u001b[1;32m      1\u001b[0m \u001b[0mtokens_random\u001b[0m \u001b[0;34m=\u001b[0m \u001b[0;34m[\u001b[0m\u001b[0;34m]\u001b[0m\u001b[0;34m\u001b[0m\u001b[0;34m\u001b[0m\u001b[0m\n\u001b[1;32m      2\u001b[0m \u001b[0;32mfor\u001b[0m \u001b[0mi\u001b[0m \u001b[0;32min\u001b[0m \u001b[0mlist\u001b[0m\u001b[0;34m(\u001b[0m\u001b[0mdf_random\u001b[0m\u001b[0;34m[\u001b[0m\u001b[0;34m'Sentences'\u001b[0m\u001b[0;34m]\u001b[0m\u001b[0;34m.\u001b[0m\u001b[0mindex\u001b[0m\u001b[0;34m)\u001b[0m\u001b[0;34m:\u001b[0m\u001b[0;34m\u001b[0m\u001b[0;34m\u001b[0m\u001b[0m\n\u001b[0;32m----> 3\u001b[0;31m     \u001b[0mnumb_tokens\u001b[0m \u001b[0;34m=\u001b[0m \u001b[0mlen\u001b[0m\u001b[0;34m(\u001b[0m\u001b[0mtokenizer_pretrained\u001b[0m\u001b[0;34m.\u001b[0m\u001b[0mencode\u001b[0m\u001b[0;34m(\u001b[0m\u001b[0mdf_random\u001b[0m\u001b[0;34m[\u001b[0m\u001b[0;34m'Sentences'\u001b[0m\u001b[0;34m]\u001b[0m\u001b[0;34m[\u001b[0m\u001b[0mi\u001b[0m\u001b[0;34m]\u001b[0m\u001b[0;34m)\u001b[0m\u001b[0;34m)\u001b[0m\u001b[0;34m\u001b[0m\u001b[0;34m\u001b[0m\u001b[0m\n\u001b[0m\u001b[1;32m      4\u001b[0m     \u001b[0mtokens_random\u001b[0m\u001b[0;34m.\u001b[0m\u001b[0mappend\u001b[0m\u001b[0;34m(\u001b[0m\u001b[0mnumb_tokens\u001b[0m\u001b[0;34m)\u001b[0m\u001b[0;34m\u001b[0m\u001b[0;34m\u001b[0m\u001b[0m\n\u001b[1;32m      5\u001b[0m \u001b[0;34m\u001b[0m\u001b[0m\n",
      "\u001b[0;32m~/miniconda3/envs/sent_env/lib/python3.7/site-packages/transformers/tokenization_utils_base.py\u001b[0m in \u001b[0;36mencode\u001b[0;34m(self, text, text_pair, add_special_tokens, padding, truncation, max_length, stride, return_tensors, **kwargs)\u001b[0m\n\u001b[1;32m   2266\u001b[0m             \u001b[0mstride\u001b[0m\u001b[0;34m=\u001b[0m\u001b[0mstride\u001b[0m\u001b[0;34m,\u001b[0m\u001b[0;34m\u001b[0m\u001b[0;34m\u001b[0m\u001b[0m\n\u001b[1;32m   2267\u001b[0m             \u001b[0mreturn_tensors\u001b[0m\u001b[0;34m=\u001b[0m\u001b[0mreturn_tensors\u001b[0m\u001b[0;34m,\u001b[0m\u001b[0;34m\u001b[0m\u001b[0;34m\u001b[0m\u001b[0m\n\u001b[0;32m-> 2268\u001b[0;31m             \u001b[0;34m**\u001b[0m\u001b[0mkwargs\u001b[0m\u001b[0;34m,\u001b[0m\u001b[0;34m\u001b[0m\u001b[0;34m\u001b[0m\u001b[0m\n\u001b[0m\u001b[1;32m   2269\u001b[0m         )\n\u001b[1;32m   2270\u001b[0m \u001b[0;34m\u001b[0m\u001b[0m\n",
      "\u001b[0;32m~/miniconda3/envs/sent_env/lib/python3.7/site-packages/transformers/tokenization_utils_base.py\u001b[0m in \u001b[0;36mencode_plus\u001b[0;34m(self, text, text_pair, add_special_tokens, padding, truncation, max_length, stride, is_split_into_words, pad_to_multiple_of, return_tensors, return_token_type_ids, return_attention_mask, return_overflowing_tokens, return_special_tokens_mask, return_offsets_mapping, return_length, verbose, **kwargs)\u001b[0m\n\u001b[1;32m   2683\u001b[0m             \u001b[0mreturn_length\u001b[0m\u001b[0;34m=\u001b[0m\u001b[0mreturn_length\u001b[0m\u001b[0;34m,\u001b[0m\u001b[0;34m\u001b[0m\u001b[0;34m\u001b[0m\u001b[0m\n\u001b[1;32m   2684\u001b[0m             \u001b[0mverbose\u001b[0m\u001b[0;34m=\u001b[0m\u001b[0mverbose\u001b[0m\u001b[0;34m,\u001b[0m\u001b[0;34m\u001b[0m\u001b[0;34m\u001b[0m\u001b[0m\n\u001b[0;32m-> 2685\u001b[0;31m             \u001b[0;34m**\u001b[0m\u001b[0mkwargs\u001b[0m\u001b[0;34m,\u001b[0m\u001b[0;34m\u001b[0m\u001b[0;34m\u001b[0m\u001b[0m\n\u001b[0m\u001b[1;32m   2686\u001b[0m         )\n\u001b[1;32m   2687\u001b[0m \u001b[0;34m\u001b[0m\u001b[0m\n",
      "\u001b[0;32m~/miniconda3/envs/sent_env/lib/python3.7/site-packages/transformers/tokenization_utils.py\u001b[0m in \u001b[0;36m_encode_plus\u001b[0;34m(self, text, text_pair, add_special_tokens, padding_strategy, truncation_strategy, max_length, stride, is_split_into_words, pad_to_multiple_of, return_tensors, return_token_type_ids, return_attention_mask, return_overflowing_tokens, return_special_tokens_mask, return_offsets_mapping, return_length, verbose, **kwargs)\u001b[0m\n\u001b[1;32m    647\u001b[0m             )\n\u001b[1;32m    648\u001b[0m \u001b[0;34m\u001b[0m\u001b[0m\n\u001b[0;32m--> 649\u001b[0;31m         \u001b[0mfirst_ids\u001b[0m \u001b[0;34m=\u001b[0m \u001b[0mget_input_ids\u001b[0m\u001b[0;34m(\u001b[0m\u001b[0mtext\u001b[0m\u001b[0;34m)\u001b[0m\u001b[0;34m\u001b[0m\u001b[0;34m\u001b[0m\u001b[0m\n\u001b[0m\u001b[1;32m    650\u001b[0m         \u001b[0msecond_ids\u001b[0m \u001b[0;34m=\u001b[0m \u001b[0mget_input_ids\u001b[0m\u001b[0;34m(\u001b[0m\u001b[0mtext_pair\u001b[0m\u001b[0;34m)\u001b[0m \u001b[0;32mif\u001b[0m \u001b[0mtext_pair\u001b[0m \u001b[0;32mis\u001b[0m \u001b[0;32mnot\u001b[0m \u001b[0;32mNone\u001b[0m \u001b[0;32melse\u001b[0m \u001b[0;32mNone\u001b[0m\u001b[0;34m\u001b[0m\u001b[0;34m\u001b[0m\u001b[0m\n\u001b[1;32m    651\u001b[0m \u001b[0;34m\u001b[0m\u001b[0m\n",
      "\u001b[0;32m~/miniconda3/envs/sent_env/lib/python3.7/site-packages/transformers/tokenization_utils.py\u001b[0m in \u001b[0;36mget_input_ids\u001b[0;34m(text)\u001b[0m\n\u001b[1;32m    614\u001b[0m         \u001b[0;32mdef\u001b[0m \u001b[0mget_input_ids\u001b[0m\u001b[0;34m(\u001b[0m\u001b[0mtext\u001b[0m\u001b[0;34m)\u001b[0m\u001b[0;34m:\u001b[0m\u001b[0;34m\u001b[0m\u001b[0;34m\u001b[0m\u001b[0m\n\u001b[1;32m    615\u001b[0m             \u001b[0;32mif\u001b[0m \u001b[0misinstance\u001b[0m\u001b[0;34m(\u001b[0m\u001b[0mtext\u001b[0m\u001b[0;34m,\u001b[0m \u001b[0mstr\u001b[0m\u001b[0;34m)\u001b[0m\u001b[0;34m:\u001b[0m\u001b[0;34m\u001b[0m\u001b[0;34m\u001b[0m\u001b[0m\n\u001b[0;32m--> 616\u001b[0;31m                 \u001b[0mtokens\u001b[0m \u001b[0;34m=\u001b[0m \u001b[0mself\u001b[0m\u001b[0;34m.\u001b[0m\u001b[0mtokenize\u001b[0m\u001b[0;34m(\u001b[0m\u001b[0mtext\u001b[0m\u001b[0;34m,\u001b[0m \u001b[0;34m**\u001b[0m\u001b[0mkwargs\u001b[0m\u001b[0;34m)\u001b[0m\u001b[0;34m\u001b[0m\u001b[0;34m\u001b[0m\u001b[0m\n\u001b[0m\u001b[1;32m    617\u001b[0m                 \u001b[0;32mreturn\u001b[0m \u001b[0mself\u001b[0m\u001b[0;34m.\u001b[0m\u001b[0mconvert_tokens_to_ids\u001b[0m\u001b[0;34m(\u001b[0m\u001b[0mtokens\u001b[0m\u001b[0;34m)\u001b[0m\u001b[0;34m\u001b[0m\u001b[0;34m\u001b[0m\u001b[0m\n\u001b[1;32m    618\u001b[0m             \u001b[0;32melif\u001b[0m \u001b[0misinstance\u001b[0m\u001b[0;34m(\u001b[0m\u001b[0mtext\u001b[0m\u001b[0;34m,\u001b[0m \u001b[0;34m(\u001b[0m\u001b[0mlist\u001b[0m\u001b[0;34m,\u001b[0m \u001b[0mtuple\u001b[0m\u001b[0;34m)\u001b[0m\u001b[0;34m)\u001b[0m \u001b[0;32mand\u001b[0m \u001b[0mlen\u001b[0m\u001b[0;34m(\u001b[0m\u001b[0mtext\u001b[0m\u001b[0;34m)\u001b[0m \u001b[0;34m>\u001b[0m \u001b[0;36m0\u001b[0m \u001b[0;32mand\u001b[0m \u001b[0misinstance\u001b[0m\u001b[0;34m(\u001b[0m\u001b[0mtext\u001b[0m\u001b[0;34m[\u001b[0m\u001b[0;36m0\u001b[0m\u001b[0;34m]\u001b[0m\u001b[0;34m,\u001b[0m \u001b[0mstr\u001b[0m\u001b[0;34m)\u001b[0m\u001b[0;34m:\u001b[0m\u001b[0;34m\u001b[0m\u001b[0;34m\u001b[0m\u001b[0m\n",
      "\u001b[0;32m~/miniconda3/envs/sent_env/lib/python3.7/site-packages/transformers/tokenization_utils.py\u001b[0m in \u001b[0;36mtokenize\u001b[0;34m(self, text, **kwargs)\u001b[0m\n\u001b[1;32m    545\u001b[0m                 \u001b[0mtokenized_text\u001b[0m\u001b[0;34m.\u001b[0m\u001b[0mappend\u001b[0m\u001b[0;34m(\u001b[0m\u001b[0mtoken\u001b[0m\u001b[0;34m)\u001b[0m\u001b[0;34m\u001b[0m\u001b[0;34m\u001b[0m\u001b[0m\n\u001b[1;32m    546\u001b[0m             \u001b[0;32melse\u001b[0m\u001b[0;34m:\u001b[0m\u001b[0;34m\u001b[0m\u001b[0;34m\u001b[0m\u001b[0m\n\u001b[0;32m--> 547\u001b[0;31m                 \u001b[0mtokenized_text\u001b[0m\u001b[0;34m.\u001b[0m\u001b[0mextend\u001b[0m\u001b[0;34m(\u001b[0m\u001b[0mself\u001b[0m\u001b[0;34m.\u001b[0m\u001b[0m_tokenize\u001b[0m\u001b[0;34m(\u001b[0m\u001b[0mtoken\u001b[0m\u001b[0;34m)\u001b[0m\u001b[0;34m)\u001b[0m\u001b[0;34m\u001b[0m\u001b[0;34m\u001b[0m\u001b[0m\n\u001b[0m\u001b[1;32m    548\u001b[0m         \u001b[0;31m# [\"This\", \" is\", \" something\", \"<special_token_1>\", \"else\"]\u001b[0m\u001b[0;34m\u001b[0m\u001b[0;34m\u001b[0m\u001b[0;34m\u001b[0m\u001b[0m\n\u001b[1;32m    549\u001b[0m         \u001b[0;32mreturn\u001b[0m \u001b[0mtokenized_text\u001b[0m\u001b[0;34m\u001b[0m\u001b[0;34m\u001b[0m\u001b[0m\n",
      "\u001b[0;32m~/miniconda3/envs/sent_env/lib/python3.7/site-packages/transformers/models/roberta/tokenization_roberta.py\u001b[0m in \u001b[0;36m_tokenize\u001b[0;34m(self, text)\u001b[0m\n\u001b[1;32m    294\u001b[0m         \u001b[0;32mfor\u001b[0m \u001b[0mtoken\u001b[0m \u001b[0;32min\u001b[0m \u001b[0mre\u001b[0m\u001b[0;34m.\u001b[0m\u001b[0mfindall\u001b[0m\u001b[0;34m(\u001b[0m\u001b[0mself\u001b[0m\u001b[0;34m.\u001b[0m\u001b[0mpat\u001b[0m\u001b[0;34m,\u001b[0m \u001b[0mtext\u001b[0m\u001b[0;34m)\u001b[0m\u001b[0;34m:\u001b[0m\u001b[0;34m\u001b[0m\u001b[0;34m\u001b[0m\u001b[0m\n\u001b[1;32m    295\u001b[0m             token = \"\".join(\n\u001b[0;32m--> 296\u001b[0;31m                 \u001b[0mself\u001b[0m\u001b[0;34m.\u001b[0m\u001b[0mbyte_encoder\u001b[0m\u001b[0;34m[\u001b[0m\u001b[0mb\u001b[0m\u001b[0;34m]\u001b[0m \u001b[0;32mfor\u001b[0m \u001b[0mb\u001b[0m \u001b[0;32min\u001b[0m \u001b[0mtoken\u001b[0m\u001b[0;34m.\u001b[0m\u001b[0mencode\u001b[0m\u001b[0;34m(\u001b[0m\u001b[0;34m\"utf-8\"\u001b[0m\u001b[0;34m)\u001b[0m\u001b[0;34m\u001b[0m\u001b[0;34m\u001b[0m\u001b[0m\n\u001b[0m\u001b[1;32m    297\u001b[0m             )  # Maps all our bytes to unicode strings, avoiding control tokens of the BPE (spaces in our case)\n\u001b[1;32m    298\u001b[0m             \u001b[0mbpe_tokens\u001b[0m\u001b[0;34m.\u001b[0m\u001b[0mextend\u001b[0m\u001b[0;34m(\u001b[0m\u001b[0mbpe_token\u001b[0m \u001b[0;32mfor\u001b[0m \u001b[0mbpe_token\u001b[0m \u001b[0;32min\u001b[0m \u001b[0mself\u001b[0m\u001b[0;34m.\u001b[0m\u001b[0mbpe\u001b[0m\u001b[0;34m(\u001b[0m\u001b[0mtoken\u001b[0m\u001b[0;34m)\u001b[0m\u001b[0;34m.\u001b[0m\u001b[0msplit\u001b[0m\u001b[0;34m(\u001b[0m\u001b[0;34m\" \"\u001b[0m\u001b[0;34m)\u001b[0m\u001b[0;34m)\u001b[0m\u001b[0;34m\u001b[0m\u001b[0;34m\u001b[0m\u001b[0m\n",
      "\u001b[0;31mKeyboardInterrupt\u001b[0m: "
     ]
    }
   ],
   "source": [
    "tokens_random = []\n",
    "for i in list(df_random['Sentences'].index):\n",
    "    numb_tokens = len(tokenizer_pretrained.encode(df_random['Sentences'][i]))\n",
    "    tokens_random.append(numb_tokens)\n",
    "\n",
    "tokens_woman = []\n",
    "for i in list(df_woman['Sentences'].index):\n",
    "    numb_tokens = len(tokenizer_pretrained.encode(df_woman['Sentences'][i]))\n",
    "    tokens_woman.append(numb_tokens)\n",
    "\n",
    "tokens_man = []\n",
    "for i in list(df_man['Sentences'].index):\n",
    "    numb_tokens = len(tokenizer_pretrained.encode(df_man['Sentences'][i]))\n",
    "    tokens_man.append(numb_tokens)\n",
    "\n",
    "tokens_intersex = []\n",
    "for i in list(df_intersex['Sentences'].index):\n",
    "    numb_tokens = len(tokenizer_pretrained.encode(df_intersex['Sentences'][i]))\n",
    "    tokens_intersex.append(numb_tokens)"
   ]
  },
  {
   "cell_type": "code",
   "execution_count": null,
   "metadata": {},
   "outputs": [],
   "source": [
    "list_dataset = ['random', 'woman', 'man', 'intersex']\n",
    "list_mean_words = [round(np.mean(df_random['words in sentences']),1), round(np.mean(df_woman['words in sentences']),1), round(np.mean(df_man['words in sentences']),1), round(np.mean(df_intersex['words in sentences']),1)]\n",
    "list_mean_tokens = [round(np.mean(tokens_random),1), round(np.mean(tokens_woman),1), round(np.mean(tokens_man),1), round(np.mean(tokens_intersex),1)]\n",
    "list_sentences = [len(df_random), len(df_woman), len(df_man), len(df_intersex)]"
   ]
  },
  {
   "cell_type": "code",
   "execution_count": null,
   "metadata": {},
   "outputs": [],
   "source": [
    "wiki_stats = pd.DataFrame({'Twitter data': list_dataset, \n",
    "                            'Avg. number of words per sentence': list_mean_words,\n",
    "                            'Avg. number of tokens per sentence': list_mean_tokens,\n",
    "                            'Number of sentences': list_sentences})\n",
    "wiki_stats"
   ]
  },
  {
   "cell_type": "code",
   "execution_count": null,
   "metadata": {},
   "outputs": [],
   "source": [
    "print(wiki_stats.to_latex(index=False)) "
   ]
  },
  {
   "cell_type": "code",
   "execution_count": null,
   "metadata": {},
   "outputs": [],
   "source": []
  }
 ],
 "metadata": {
  "kernelspec": {
   "display_name": "sent_env",
   "language": "python",
   "name": "python3"
  },
  "language_info": {
   "codemirror_mode": {
    "name": "ipython",
    "version": 3
   },
   "file_extension": ".py",
   "mimetype": "text/x-python",
   "name": "python",
   "nbconvert_exporter": "python",
   "pygments_lexer": "ipython3",
   "version": "3.7.13"
  },
  "orig_nbformat": 4,
  "vscode": {
   "interpreter": {
    "hash": "9738a1daac20355f138ac5f9490b2e4e7176effdeaa1fb550cd3c1d19d286cfb"
   }
  }
 },
 "nbformat": 4,
 "nbformat_minor": 2
}
